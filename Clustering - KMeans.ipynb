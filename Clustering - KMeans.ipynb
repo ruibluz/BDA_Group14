{
 "cells": [
  {
   "cell_type": "markdown",
   "metadata": {
    "application/vnd.databricks.v1+cell": {
     "cellMetadata": {
      "byteLimit": 2048000,
      "rowLimit": 10000
     },
     "inputWidgets": {},
     "nuid": "38d13611-2594-467a-8f08-3435aacb9b0d",
     "showTitle": false,
     "tableResultSettingsMap": {},
     "title": ""
    }
   },
   "source": [
    "# Customer Segmentation BDA Project - Part 2"
   ]
  },
  {
   "cell_type": "markdown",
   "metadata": {
    "application/vnd.databricks.v1+cell": {
     "cellMetadata": {
      "byteLimit": 2048000,
      "rowLimit": 10000
     },
     "inputWidgets": {},
     "nuid": "47ab7b61-f53d-414b-987e-1ee829495052",
     "showTitle": false,
     "tableResultSettingsMap": {},
     "title": ""
    }
   },
   "source": [
    "## Clustering"
   ]
  },
  {
   "cell_type": "code",
   "execution_count": 0,
   "metadata": {
    "application/vnd.databricks.v1+cell": {
     "cellMetadata": {
      "byteLimit": 2048000,
      "rowLimit": 10000
     },
     "inputWidgets": {},
     "nuid": "db413dc9-7d6e-4f0b-9ec5-0e26bd6afad1",
     "showTitle": false,
     "tableResultSettingsMap": {},
     "title": ""
    }
   },
   "outputs": [
    {
     "output_type": "display_data",
     "data": {
      "application/vnd.databricks.v1+bamboolib_hint": "{\"pd.DataFrames\": [], \"version\": \"0.0.1\"}",
      "text/plain": []
     },
     "metadata": {},
     "output_type": "display_data"
    }
   ],
   "source": [
    "import pandas as pd\n",
    "import numpy as np\n",
    "import matplotlib.pyplot as plt\n",
    "import seaborn as sns\n",
    "\n",
    "from pyspark.sql.functions import year, max as spark_max, lit, col\n",
    "from pyspark.ml.feature import VectorAssembler, StringIndexer, OneHotEncoder, StandardScaler\n",
    "from pyspark.ml import Pipeline\n",
    "from pyspark.ml.clustering import KMeans\n",
    "from pyspark.ml.evaluation import ClusteringEvaluator\n",
    "from pyspark.sql import functions as F\n",
    "from pyspark.sql.window import Window\n"
   ]
  },
  {
   "cell_type": "code",
   "execution_count": 0,
   "metadata": {
    "application/vnd.databricks.v1+cell": {
     "cellMetadata": {
      "byteLimit": 2048000,
      "rowLimit": 10000
     },
     "inputWidgets": {},
     "nuid": "1b463d05-5c06-4d76-8d0f-8d01554d6e3b",
     "showTitle": false,
     "tableResultSettingsMap": {},
     "title": ""
    }
   },
   "outputs": [
    {
     "output_type": "stream",
     "name": "stdout",
     "output_type": "stream",
     "text": [
      "+----------+----------+--------------+-------+-------+--------+-------+--------+---------+---------------+---------------+----------------+------------+-----------------+---------------+-------------------+-----------------+-----------------+------------+------------+------------+------------+------------+--------+--------+-----------+-----------------+--------+-------------+-----------------------+------------------+---+\n|Year_Birth| Education|Marital_Status| Income|Kidhome|Teenhome|Recency|MntWines|MntFruits|MntMeatProducts|MntFishProducts|MntSweetProducts|MntGoldProds|NumDealsPurchases|NumWebPurchases|NumCatalogPurchases|NumStorePurchases|NumWebVisitsMonth|AcceptedCmp3|AcceptedCmp4|AcceptedCmp5|AcceptedCmp1|AcceptedCmp2|Complain|Response|Total_Spend|NumTotalPurchases|Children|Days_Customer|AcceptedCampaigns_Total|Website_Engagement|Age|\n+----------+----------+--------------+-------+-------+--------+-------+--------+---------+---------------+---------------+----------------+------------+-----------------+---------------+-------------------+-----------------+-----------------+------------+------------+------------+------------+------------+--------+--------+-----------+-----------------+--------+-------------+-----------------------+------------------+---+\n|      1957|Graduation|        Single|58138.0|      0|       0|     58|     635|       88|            546|            172|              88|          88|                3|              8|                 10|                4|                7|           0|           0|           0|           0|           0|       0|       1|       1617|               25|       0|          663|                      1|                15| 57|\n|      1954|Graduation|        Single|46344.0|      1|       1|     38|      11|        1|              6|              2|               1|           6|                2|              1|                  1|                2|                5|           0|           0|           0|           0|           0|       0|       0|         27|                6|       2|          113|                      0|                 6| 60|\n|      1965|Graduation|      Together|71613.0|      0|       0|     26|     426|       49|            127|            111|              21|          42|                1|              8|                  2|               10|                4|           0|           0|           0|           0|           0|       0|       0|        776|               21|       0|          312|                      0|                12| 49|\n|      1984|Graduation|      Together|26646.0|      1|       0|     26|      11|        4|             20|             10|               3|           5|                2|              2|                  0|                4|                6|           0|           0|           0|           0|           0|       0|       0|         53|                8|       1|          139|                      0|                 8| 30|\n|      1981|       PhD|       Married|58293.0|      1|       0|     94|     173|       43|            118|             46|              27|          15|                5|              5|                  3|                6|                5|           0|           0|           0|           0|           0|       0|       0|        422|               19|       1|          161|                      0|                10| 33|\n|      1967|    Master|      Together|62513.0|      0|       1|     16|     520|       42|             98|              0|              42|          14|                2|              6|                  4|               10|                6|           0|           0|           0|           0|           0|       0|       0|        716|               22|       1|          293|                      0|                12| 47|\n|      1971|Graduation|      Divorced|55635.0|      0|       1|     34|     235|       65|            164|             50|              49|          27|                4|              7|                  3|                7|                6|           0|           0|           0|           0|           0|       0|       0|        590|               21|       1|          593|                      0|                13| 43|\n|      1985|       PhD|       Married|33454.0|      1|       0|     32|      76|       10|             56|              3|               1|          23|                2|              4|                  0|                4|                8|           0|           0|           0|           0|           0|       0|       0|        169|               10|       1|          417|                      0|                12| 29|\n|      1974|       PhD|      Together|30351.0|      1|       0|     19|      14|        0|             24|              3|               3|           2|                1|              3|                  0|                2|                9|           0|           0|           0|           0|           0|       0|       1|         46|                6|       1|          388|                      1|                12| 40|\n|      1950|       PhD|      Together| 5648.0|      1|       1|     68|      28|        0|              6|              1|               1|          13|                1|              1|                  0|                0|               20|           1|           0|           0|           0|           0|       0|       0|         49|                2|       2|          108|                      1|                21| 64|\n|      1976|     Basic|       Married| 7500.0|      0|       0|     59|       6|       16|             11|             11|               1|          16|                1|              2|                  0|                3|                8|           0|           0|           0|           0|           0|       0|       0|         61|                6|       0|          593|                      0|                10| 38|\n|      1959|Graduation|      Divorced|63033.0|      0|       0|     82|     194|       61|            480|            225|             112|          30|                1|              3|                  4|                8|                2|           0|           0|           0|           0|           0|       0|       0|       1102|               16|       0|          226|                      0|                 5| 55|\n|      1952|    Master|      Divorced|59354.0|      1|       1|     53|     233|        2|             53|              3|               5|          14|                3|              6|                  1|                5|                6|           0|           0|           0|           0|           0|       0|       0|        310|               15|       2|          226|                      0|                12| 62|\n|      1987|Graduation|       Married|17323.0|      0|       0|     38|       3|       14|             17|              6|               1|           5|                1|              1|                  0|                3|                8|           0|           0|           0|           0|           0|       0|       0|         46|                5|       0|          627|                      0|                 9| 27|\n|      1946|       PhD|        Single|82800.0|      0|       0|     23|    1006|       22|            115|             59|              68|          45|                1|              7|                  6|               12|                3|           0|           0|           1|           1|           0|       0|       1|       1315|               26|       0|          582|                      3|                10| 68|\n|      1980|Graduation|       Married|41850.0|      1|       1|     51|      53|        5|             19|              2|              13|           4|                3|              3|                  0|                3|                8|           0|           0|           0|           0|           0|       0|       0|         96|                9|       2|          552|                      0|                11| 34|\n|      1946|Graduation|      Together|37760.0|      0|       0|     20|      84|        5|             38|            150|              12|          28|                2|              4|                  1|                6|                7|           0|           0|           0|           0|           0|       0|       0|        317|               13|       0|          667|                      0|                11| 68|\n|      1949|    Master|       Married|76995.0|      0|       1|     91|    1012|       80|            498|              0|              16|         176|                2|             11|                  4|                9|                5|           0|           0|           0|           1|           0|       0|       0|       1782|               26|       1|          458|                      1|                16| 65|\n|      1985|  2n Cycle|        Single|33812.0|      1|       0|     86|       4|       17|             19|             30|              24|          39|                2|              2|                  1|                3|                6|           0|           0|           0|           0|           0|       0|       0|        133|                8|       1|          603|                      0|                 8| 29|\n|      1982|Graduation|       Married|37040.0|      0|       0|     41|      86|        2|             73|             69|              38|          48|                1|              4|                  2|                5|                8|           0|           0|           0|           0|           0|       0|       0|        316|               12|       0|          690|                      0|                12| 32|\n+----------+----------+--------------+-------+-------+--------+-------+--------+---------+---------------+---------------+----------------+------------+-----------------+---------------+-------------------+-----------------+-----------------+------------+------------+------------+------------+------------+--------+--------+-----------+-----------------+--------+-------------+-----------------------+------------------+---+\nonly showing top 20 rows\n\n"
     ]
    }
   ],
   "source": [
    "df = spark.read.csv(\"dbfs:/FileStore/tables/marketing_campaign_preprocess.csv\", header=True, inferSchema=True)\n",
    "df.show()\n"
   ]
  },
  {
   "cell_type": "code",
   "execution_count": 0,
   "metadata": {
    "application/vnd.databricks.v1+cell": {
     "cellMetadata": {
      "byteLimit": 2048000,
      "rowLimit": 10000
     },
     "inputWidgets": {},
     "nuid": "0874569a-4c8c-4e1b-b2f5-ba4edbff5bfe",
     "showTitle": false,
     "tableResultSettingsMap": {},
     "title": ""
    }
   },
   "outputs": [
    {
     "output_type": "stream",
     "name": "stdout",
     "output_type": "stream",
     "text": [
      "root\n |-- Year_Birth: integer (nullable = true)\n |-- Education: string (nullable = true)\n |-- Marital_Status: string (nullable = true)\n |-- Income: double (nullable = true)\n |-- Kidhome: integer (nullable = true)\n |-- Teenhome: integer (nullable = true)\n |-- Recency: integer (nullable = true)\n |-- MntWines: integer (nullable = true)\n |-- MntFruits: integer (nullable = true)\n |-- MntMeatProducts: integer (nullable = true)\n |-- MntFishProducts: integer (nullable = true)\n |-- MntSweetProducts: integer (nullable = true)\n |-- MntGoldProds: integer (nullable = true)\n |-- NumDealsPurchases: integer (nullable = true)\n |-- NumWebPurchases: integer (nullable = true)\n |-- NumCatalogPurchases: integer (nullable = true)\n |-- NumStorePurchases: integer (nullable = true)\n |-- NumWebVisitsMonth: integer (nullable = true)\n |-- AcceptedCmp3: integer (nullable = true)\n |-- AcceptedCmp4: integer (nullable = true)\n |-- AcceptedCmp5: integer (nullable = true)\n |-- AcceptedCmp1: integer (nullable = true)\n |-- AcceptedCmp2: integer (nullable = true)\n |-- Complain: integer (nullable = true)\n |-- Response: integer (nullable = true)\n |-- Total_Spend: integer (nullable = true)\n |-- NumTotalPurchases: integer (nullable = true)\n |-- Children: integer (nullable = true)\n |-- Days_Customer: integer (nullable = true)\n |-- AcceptedCampaigns_Total: integer (nullable = true)\n |-- Website_Engagement: integer (nullable = true)\n |-- Age: integer (nullable = true)\n\n"
     ]
    }
   ],
   "source": [
    "df.printSchema()"
   ]
  },
  {
   "cell_type": "markdown",
   "metadata": {
    "application/vnd.databricks.v1+cell": {
     "cellMetadata": {
      "byteLimit": 2048000,
      "rowLimit": 10000
     },
     "inputWidgets": {},
     "nuid": "e031fc72-8545-4e90-8af0-85304ccce6d9",
     "showTitle": false,
     "tableResultSettingsMap": {},
     "title": ""
    }
   },
   "source": [
    "# K-means"
   ]
  },
  {
   "cell_type": "markdown",
   "metadata": {
    "application/vnd.databricks.v1+cell": {
     "cellMetadata": {
      "byteLimit": 2048000,
      "rowLimit": 10000
     },
     "inputWidgets": {},
     "nuid": "5c53bf1a-db05-4f70-bbda-848ffeda4023",
     "showTitle": false,
     "tableResultSettingsMap": {},
     "title": ""
    }
   },
   "source": [
    "### Clustering #1\n",
    "Clustering customers by Income, Age, Total_Spend, NumTotalPurchases: representing the relation between Income and Spending Behavior"
   ]
  },
  {
   "cell_type": "code",
   "execution_count": 0,
   "metadata": {
    "application/vnd.databricks.v1+cell": {
     "cellMetadata": {
      "byteLimit": 2048000,
      "rowLimit": 10000
     },
     "inputWidgets": {},
     "nuid": "08741f6b-998c-47db-b302-cd7a9766e30e",
     "showTitle": false,
     "tableResultSettingsMap": {},
     "title": ""
    }
   },
   "outputs": [],
   "source": [
    "# Define features\n",
    "customer_value_columns = [\n",
    "    'Income',\n",
    "    'Age',\n",
    "    'Total_Spend',\n",
    "    'NumTotalPurchases'\n",
    "]\n",
    "\n",
    "# Assemble features\n",
    "customer_value_assembler = VectorAssembler(\n",
    "    inputCols=customer_value_columns,\n",
    "    outputCol='customerValueFeatures'\n",
    ")\n",
    "\n",
    "# Scale features\n",
    "customer_value_scaler = StandardScaler(\n",
    "    inputCol='customerValueFeatures',\n",
    "    outputCol='customerValueScaledFeatures',\n",
    "    withStd=True,\n",
    "    withMean=True\n",
    ")"
   ]
  },
  {
   "cell_type": "code",
   "execution_count": 0,
   "metadata": {
    "application/vnd.databricks.v1+cell": {
     "cellMetadata": {
      "byteLimit": 2048000,
      "rowLimit": 10000
     },
     "inputWidgets": {},
     "nuid": "a070a4e7-42d0-4f30-af6f-93622bc702bb",
     "showTitle": false,
     "tableResultSettingsMap": {},
     "title": ""
    }
   },
   "outputs": [],
   "source": [
    "# Build pipeline\n",
    "customer_value_pipeline = Pipeline(stages=[\n",
    "    customer_value_assembler,\n",
    "    customer_value_scaler\n",
    "])\n",
    "\n",
    "# Fit and transform\n",
    "customer_value_pipeline_model = customer_value_pipeline.fit(df)\n",
    "customer_value_df_prepared = customer_value_pipeline_model.transform(df)"
   ]
  },
  {
   "cell_type": "markdown",
   "metadata": {
    "application/vnd.databricks.v1+cell": {
     "cellMetadata": {
      "byteLimit": 2048000,
      "rowLimit": 10000
     },
     "inputWidgets": {},
     "nuid": "b5ec524b-780f-4f20-ba5d-833f31c482c4",
     "showTitle": false,
     "tableResultSettingsMap": {},
     "title": ""
    }
   },
   "source": [
    "##### Choosing K-value"
   ]
  },
  {
   "cell_type": "code",
   "execution_count": 0,
   "metadata": {
    "application/vnd.databricks.v1+cell": {
     "cellMetadata": {
      "byteLimit": 2048000,
      "rowLimit": 10000
     },
     "inputWidgets": {},
     "nuid": "9f8f3087-e9f4-450a-aa9a-dffb606d3201",
     "showTitle": false,
     "tableResultSettingsMap": {},
     "title": ""
    }
   },
   "outputs": [
    {
     "output_type": "stream",
     "name": "stdout",
     "output_type": "stream",
     "text": [
      "Training K-Means with k=2 ...\nSilhouette score for k=2: 0.6086\nTraining K-Means with k=3 ...\nSilhouette score for k=3: 0.4806\nTraining K-Means with k=4 ...\nSilhouette score for k=4: 0.4384\nTraining K-Means with k=5 ...\nSilhouette score for k=5: 0.4576\nTraining K-Means with k=6 ...\nSilhouette score for k=6: 0.4164\nTraining K-Means with k=7 ...\nSilhouette score for k=7: 0.3980\nTraining K-Means with k=8 ...\nSilhouette score for k=8: 0.4631\nTraining K-Means with k=9 ...\nSilhouette score for k=9: 0.4487\nTraining K-Means with k=10 ...\nSilhouette score for k=10: 0.4424\nDone!\n"
     ]
    }
   ],
   "source": [
    "# Loop to test different k values\n",
    "k_values = list(range(2, 11))  # k from 2 to 10\n",
    "silhouette_scores = []\n",
    "\n",
    "for k in k_values:\n",
    "    print(f\"Training K-Means with k={k} ...\")\n",
    "    \n",
    "    # Define K-Means model\n",
    "    kmeans = KMeans(featuresCol='customerValueScaledFeatures', k=k, seed=42)\n",
    "    \n",
    "    # Fit model\n",
    "    model = kmeans.fit(customer_value_df_prepared)\n",
    "    \n",
    "    # Transform data\n",
    "    predictions = model.transform(customer_value_df_prepared)\n",
    "    \n",
    "    # Evaluate silhouette score\n",
    "    evaluator = ClusteringEvaluator(featuresCol='customerValueScaledFeatures', metricName='silhouette', distanceMeasure='squaredEuclidean')\n",
    "    silhouette = evaluator.evaluate(predictions)\n",
    "    \n",
    "    # Store result\n",
    "    silhouette_scores.append(silhouette)\n",
    "    \n",
    "    print(f\"Silhouette score for k={k}: {silhouette:.4f}\")\n",
    "\n",
    "print(\"Done!\")\n"
   ]
  },
  {
   "cell_type": "code",
   "execution_count": 0,
   "metadata": {
    "application/vnd.databricks.v1+cell": {
     "cellMetadata": {
      "byteLimit": 2048000,
      "rowLimit": 10000
     },
     "inputWidgets": {},
     "nuid": "cc7c6a3e-ca9e-4889-b448-8de781c78531",
     "showTitle": false,
     "tableResultSettingsMap": {},
     "title": ""
    }
   },
   "outputs": [
    {
     "output_type": "display_data",
     "data": {
      "image/png": "[encoded data removed]"
     },
     "metadata": {
      "application/vnd.databricks.v1+output": {
       "addedWidgets": {},
       "arguments": {},
       "data": "data:image/png;base64,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\n",
       "datasetInfos": [],
       "metadata": {},
       "removedWidgets": [],
       "type": "image"
      }
     },
     "output_type": "display_data"
    }
   ],
   "source": [
    "plt.figure(figsize=(8, 5))\n",
    "plt.plot(k_values, silhouette_scores, marker='o')\n",
    "plt.title('Silhouette Score vs Number of Clusters (k) — Customer Value Clustering')\n",
    "plt.xlabel('Number of Clusters (k)')\n",
    "plt.ylabel('Silhouette Score')\n",
    "plt.grid(True)\n",
    "plt.show()"
   ]
  },
  {
   "cell_type": "markdown",
   "metadata": {
    "application/vnd.databricks.v1+cell": {
     "cellMetadata": {
      "byteLimit": 2048000,
      "rowLimit": 10000
     },
     "inputWidgets": {},
     "nuid": "bfb2ea24-eb35-4c6b-a07f-65d5cf2afedb",
     "showTitle": false,
     "tableResultSettingsMap": {},
     "title": ""
    }
   },
   "source": [
    "##### Apply k-means with best k (k=2)"
   ]
  },
  {
   "cell_type": "code",
   "execution_count": 0,
   "metadata": {
    "application/vnd.databricks.v1+cell": {
     "cellMetadata": {
      "byteLimit": 2048000,
      "rowLimit": 10000
     },
     "inputWidgets": {},
     "nuid": "b33d0aaa-5a9d-4a51-80fb-d9aca6d1e405",
     "showTitle": false,
     "tableResultSettingsMap": {},
     "title": ""
    }
   },
   "outputs": [
    {
     "output_type": "stream",
     "name": "stdout",
     "output_type": "stream",
     "text": [
      "+----------+-----+\n|prediction|count|\n+----------+-----+\n|         0| 1047|\n|         1| 1169|\n+----------+-----+\n\n"
     ]
    }
   ],
   "source": [
    "# Run final K-Means with k = 2\n",
    "k = 2\n",
    "customer_value_kmeans = KMeans(featuresCol='customerValueScaledFeatures', k=k, seed=42)\n",
    "customer_value_kmeans_model = customer_value_kmeans.fit(customer_value_df_prepared)\n",
    "customer_value_predictions = customer_value_kmeans_model.transform(customer_value_df_prepared)\n",
    "\n",
    "# Prepare for profiling\n",
    "customer_value_clusters = customer_value_predictions\n",
    "customer_value_clusters.cache()\n",
    "\n",
    "# Show cluster sizes\n",
    "customer_value_clusters.groupBy('prediction').count().orderBy('prediction').show()\n"
   ]
  },
  {
   "cell_type": "markdown",
   "metadata": {
    "application/vnd.databricks.v1+cell": {
     "cellMetadata": {
      "byteLimit": 2048000,
      "rowLimit": 10000
     },
     "inputWidgets": {},
     "nuid": "0392f03a-404a-4c65-b649-a6338da9c997",
     "showTitle": false,
     "tableResultSettingsMap": {},
     "title": ""
    }
   },
   "source": [
    "##### Customer value clustering profiling"
   ]
  },
  {
   "cell_type": "code",
   "execution_count": 0,
   "metadata": {
    "application/vnd.databricks.v1+cell": {
     "cellMetadata": {
      "byteLimit": 2048000,
      "rowLimit": 10000
     },
     "inputWidgets": {},
     "nuid": "b7f6adfe-bb70-4290-85f2-d1b6d63b8429",
     "showTitle": false,
     "tableResultSettingsMap": {},
     "title": ""
    }
   },
   "outputs": [],
   "source": [
    "# columns to profile\n",
    "customer_value_profile_columns = [\n",
    "    'Income',\n",
    "    'Age',\n",
    "    'Total_Spend',\n",
    "    'NumTotalPurchases',\n",
    "    'Recency',\n",
    "    'Website_Engagement',\n",
    "]"
   ]
  },
  {
   "cell_type": "code",
   "execution_count": 0,
   "metadata": {
    "application/vnd.databricks.v1+cell": {
     "cellMetadata": {
      "byteLimit": 2048000,
      "rowLimit": 10000
     },
     "inputWidgets": {},
     "nuid": "0c263adb-c073-44f0-83be-d6f1348ec17e",
     "showTitle": false,
     "tableResultSettingsMap": {},
     "title": ""
    }
   },
   "outputs": [],
   "source": [
    "# build aggregation expressions\n",
    "customer_value_agg_exprs = [ F.avg(col).alias(f'avg_{col}') for col in customer_value_profile_columns ]"
   ]
  },
  {
   "cell_type": "code",
   "execution_count": 0,
   "metadata": {
    "application/vnd.databricks.v1+cell": {
     "cellMetadata": {
      "byteLimit": 2048000,
      "rowLimit": 10000
     },
     "inputWidgets": {},
     "nuid": "da37729e-034d-45fe-94fc-267b99419d33",
     "showTitle": false,
     "tableResultSettingsMap": {},
     "title": ""
    }
   },
   "outputs": [
    {
     "output_type": "stream",
     "name": "stdout",
     "output_type": "stream",
     "text": [
      "+----------+-----------------+------------------+------------------+---------------------+-----------------+----------------------+\n|prediction|avg_Income       |avg_Age           |avg_Total_Spend   |avg_NumTotalPurchases|avg_Recency      |avg_Website_Engagement|\n+----------+-----------------+------------------+------------------+---------------------+-----------------+----------------------+\n|0         |70398.76122254059|47.576886341929324|1135.8424068767908|21.499522445081183   |49.31041069723018|9.934097421203438     |\n|1         |35990.08212147134|43.032506415739945|133.49187339606502|8.95295124037639     |48.74593669803251|8.929854576561164     |\n+----------+-----------------+------------------+------------------+---------------------+-----------------+----------------------+\n\n"
     ]
    }
   ],
   "source": [
    "# compute cluster profile\n",
    "customer_value_profile = customer_value_clusters.groupBy('prediction').agg(*customer_value_agg_exprs).orderBy('prediction')\n",
    "\n",
    "# show profile\n",
    "customer_value_profile.show(truncate=False)"
   ]
  },
  {
   "cell_type": "code",
   "execution_count": 0,
   "metadata": {
    "application/vnd.databricks.v1+cell": {
     "cellMetadata": {
      "byteLimit": 2048000,
      "rowLimit": 10000
     },
     "inputWidgets": {},
     "nuid": "3bf363c4-76e1-4d93-998a-19305758eeb4",
     "showTitle": false,
     "tableResultSettingsMap": {},
     "title": ""
    }
   },
   "outputs": [
    {
     "output_type": "display_data",
     "data": {
      "text/html": [
       "<div>\n",
       "<style scoped>\n",
       "    .dataframe tbody tr th:only-of-type {\n",
       "        vertical-align: middle;\n",
       "    }\n",
       "\n",
       "    .dataframe tbody tr th {\n",
       "        vertical-align: top;\n",
       "    }\n",
       "\n",
       "    .dataframe thead th {\n",
       "        text-align: right;\n",
       "    }\n",
       "</style>\n",
       "<table border=\"1\" class=\"dataframe\">\n",
       "  <thead>\n",
       "    <tr style=\"text-align: right;\">\n",
       "      <th></th>\n",
       "      <th>prediction</th>\n",
       "      <th>avg_Income</th>\n",
       "      <th>avg_Age</th>\n",
       "      <th>avg_Total_Spend</th>\n",
       "      <th>avg_NumTotalPurchases</th>\n",
       "      <th>avg_Recency</th>\n",
       "      <th>avg_Website_Engagement</th>\n",
       "    </tr>\n",
       "  </thead>\n",
       "  <tbody>\n",
       "    <tr>\n",
       "      <th>0</th>\n",
       "      <td>0</td>\n",
       "      <td>70,398.76</td>\n",
       "      <td>47.58</td>\n",
       "      <td>1,135.84</td>\n",
       "      <td>21.50</td>\n",
       "      <td>49.31</td>\n",
       "      <td>9.93</td>\n",
       "    </tr>\n",
       "    <tr>\n",
       "      <th>1</th>\n",
       "      <td>1</td>\n",
       "      <td>35,990.08</td>\n",
       "      <td>43.03</td>\n",
       "      <td>133.49</td>\n",
       "      <td>8.95</td>\n",
       "      <td>48.75</td>\n",
       "      <td>8.93</td>\n",
       "    </tr>\n",
       "  </tbody>\n",
       "</table>\n",
       "</div>"
      ]
     },
     "metadata": {
      "application/vnd.databricks.v1+output": {
       "addedWidgets": {},
       "arguments": {},
       "data": "<div>\n<style scoped>\n    .dataframe tbody tr th:only-of-type {\n        vertical-align: middle;\n    }\n\n    .dataframe tbody tr th {\n        vertical-align: top;\n    }\n\n    .dataframe thead th {\n        text-align: right;\n    }\n</style>\n<table border=\"1\" class=\"dataframe\">\n  <thead>\n    <tr style=\"text-align: right;\">\n      <th></th>\n      <th>prediction</th>\n      <th>avg_Income</th>\n      <th>avg_Age</th>\n      <th>avg_Total_Spend</th>\n      <th>avg_NumTotalPurchases</th>\n      <th>avg_Recency</th>\n      <th>avg_Website_Engagement</th>\n    </tr>\n  </thead>\n  <tbody>\n    <tr>\n      <th>0</th>\n      <td>0</td>\n      <td>70,398.76</td>\n      <td>47.58</td>\n      <td>1,135.84</td>\n      <td>21.50</td>\n      <td>49.31</td>\n      <td>9.93</td>\n    </tr>\n    <tr>\n      <th>1</th>\n      <td>1</td>\n      <td>35,990.08</td>\n      <td>43.03</td>\n      <td>133.49</td>\n      <td>8.95</td>\n      <td>48.75</td>\n      <td>8.93</td>\n    </tr>\n  </tbody>\n</table>\n</div>",
       "datasetInfos": [],
       "metadata": {},
       "removedWidgets": [],
       "textData": null,
       "type": "htmlSandbox"
      }
     },
     "output_type": "display_data"
    }
   ],
   "source": [
    "# convert to pandas to help visualizing\n",
    "customer_value_profile_pd = customer_value_profile.toPandas()\n",
    "pd.options.display.float_format = '{:,.2f}'.format\n",
    "customer_value_profile_pd"
   ]
  },
  {
   "cell_type": "markdown",
   "metadata": {
    "application/vnd.databricks.v1+cell": {
     "cellMetadata": {
      "byteLimit": 2048000,
      "rowLimit": 10000
     },
     "inputWidgets": {},
     "nuid": "a17c9b5f-cac5-4cad-8ca3-c1e0304b3dc4",
     "showTitle": false,
     "tableResultSettingsMap": {},
     "title": ""
    }
   },
   "source": [
    "#### Clustering Analysis\n",
    "**1. Income vs Spending**\n",
    "\n",
    "Cluster 0 -> high income (70k) -> high spender (1135€) -> high purchase frequency (21.5 purchases).\n",
    "\n",
    "Cluster 1 -> low income (36k) -> low spender (133€) → low purchase frequency (9 purchases).\n",
    "\n",
    "Clear pattern -> higher income customers spend much more -> and buy more frequently.\n",
    "\n",
    "**2. Age**\n",
    "\n",
    "Cluster 0 → avg age ~47.6 years.\n",
    "\n",
    "Cluster 1 → avg age ~43.0 years.\n",
    "\n",
    "Slightly older customers in high income / high spend cluster.\n",
    "\n",
    "-> Could indicate that older customers tend to have more purchasing power.\n",
    "\n",
    "**3. Recency**\n",
    "\n",
    "Both clusters have similar Recency.\n",
    "\n",
    "-> No major difference in how recent their last purchase was. Both clusters are equally \"active\".\n",
    "\n",
    "**4. Website Engagement**\n",
    "\n",
    "Cluster 0 → avg Website Engagement ~9.93.\n",
    "\n",
    "Cluster 1 → avg Website Engagement ~8.93.\n",
    "\n",
    "Slightly higher online activity for the high spenders.\n",
    "\n",
    "Suggests that both segments use the website, but higher income customers engage a little more online."
   ]
  },
  {
   "cell_type": "markdown",
   "metadata": {
    "application/vnd.databricks.v1+cell": {
     "cellMetadata": {
      "byteLimit": 2048000,
      "rowLimit": 10000
     },
     "inputWidgets": {},
     "nuid": "a12ecaa4-9cf5-4588-8eb3-704d50127908",
     "showTitle": false,
     "tableResultSettingsMap": {},
     "title": ""
    }
   },
   "source": [
    "### Clustering #2\n",
    "Clustering customers by buying behavior (types of products bought) with profiling on demographics"
   ]
  },
  {
   "cell_type": "code",
   "execution_count": 0,
   "metadata": {
    "application/vnd.databricks.v1+cell": {
     "cellMetadata": {
      "byteLimit": 2048000,
      "rowLimit": 10000
     },
     "inputWidgets": {},
     "nuid": "5f740987-de33-45b0-8193-d5e2f6cc01bc",
     "showTitle": false,
     "tableResultSettingsMap": {},
     "title": ""
    }
   },
   "outputs": [],
   "source": [
    "# Define features for clustering (product types)\n",
    "product_purchase_columns = [\n",
    "    'MntWines',\n",
    "    'MntFruits',\n",
    "    'MntMeatProducts',\n",
    "    'MntFishProducts',\n",
    "    'MntSweetProducts',\n",
    "    'MntGoldProds'\n",
    "]\n",
    "\n",
    "# Assemble the features\n",
    "product_purchase_assembler = VectorAssembler(\n",
    "    inputCols=product_purchase_columns,\n",
    "    outputCol='productPurchaseFeatures'\n",
    ")\n",
    "\n",
    "# Scale the features\n",
    "product_purchase_scaler = StandardScaler(\n",
    "    inputCol='productPurchaseFeatures',\n",
    "    outputCol='productPurchaseScaledFeatures',\n",
    "    withStd=True,\n",
    "    withMean=True\n",
    ")"
   ]
  },
  {
   "cell_type": "code",
   "execution_count": 0,
   "metadata": {
    "application/vnd.databricks.v1+cell": {
     "cellMetadata": {
      "byteLimit": 2048000,
      "rowLimit": 10000
     },
     "inputWidgets": {},
     "nuid": "2ce72611-6635-4a19-b487-debead31012b",
     "showTitle": false,
     "tableResultSettingsMap": {},
     "title": ""
    }
   },
   "outputs": [],
   "source": [
    "# Build pipeline\n",
    "product_purchase_pipeline = Pipeline(stages=[\n",
    "    product_purchase_assembler,\n",
    "    product_purchase_scaler\n",
    "])\n",
    "\n",
    "# Fit and transform\n",
    "product_purchase_pipeline_model = product_purchase_pipeline.fit(df)\n",
    "product_purchase_df_prepared = product_purchase_pipeline_model.transform(df)"
   ]
  },
  {
   "cell_type": "markdown",
   "metadata": {
    "application/vnd.databricks.v1+cell": {
     "cellMetadata": {
      "byteLimit": 2048000,
      "rowLimit": 10000
     },
     "inputWidgets": {},
     "nuid": "cfb7641c-2bd7-452f-895e-fe61e0cf3977",
     "showTitle": false,
     "tableResultSettingsMap": {},
     "title": ""
    }
   },
   "source": [
    "##### Choosing K value"
   ]
  },
  {
   "cell_type": "code",
   "execution_count": 0,
   "metadata": {
    "application/vnd.databricks.v1+cell": {
     "cellMetadata": {
      "byteLimit": 2048000,
      "rowLimit": 10000
     },
     "inputWidgets": {},
     "nuid": "9e4f405b-4bd6-4733-b962-dcec0812393b",
     "showTitle": false,
     "tableResultSettingsMap": {},
     "title": ""
    }
   },
   "outputs": [
    {
     "output_type": "stream",
     "name": "stdout",
     "output_type": "stream",
     "text": [
      "Training K-Means with k=2 ...\nSilhouette score for k=2: 0.6406\nTraining K-Means with k=3 ...\nSilhouette score for k=3: 0.5636\nTraining K-Means with k=4 ...\nSilhouette score for k=4: 0.5409\nTraining K-Means with k=5 ...\nSilhouette score for k=5: 0.5475\nTraining K-Means with k=6 ...\nSilhouette score for k=6: 0.5419\nTraining K-Means with k=7 ...\nSilhouette score for k=7: 0.4723\nTraining K-Means with k=8 ...\nSilhouette score for k=8: 0.5007\nTraining K-Means with k=9 ...\nSilhouette score for k=9: 0.5892\nTraining K-Means with k=10 ...\nSilhouette score for k=10: 0.4968\nDone!\n"
     ]
    }
   ],
   "source": [
    "# Loop to test different k values for product purchase clustering\n",
    "product_purchase_k_values = list(range(2, 11))\n",
    "product_purchase_silhouette_scores = []\n",
    "product_purchase_wcss = []\n",
    "\n",
    "for k in product_purchase_k_values:\n",
    "    print(f\"Training K-Means with k={k} ...\")\n",
    "    \n",
    "    kmeans_tmp = KMeans(featuresCol='productPurchaseScaledFeatures', k=k, seed=42)\n",
    "    model_tmp = kmeans_tmp.fit(product_purchase_df_prepared)\n",
    "    predictions_tmp = model_tmp.transform(product_purchase_df_prepared)\n",
    "    \n",
    "    evaluator_tmp = ClusteringEvaluator(featuresCol='productPurchaseScaledFeatures', metricName='silhouette', distanceMeasure='squaredEuclidean')\n",
    "    silhouette = evaluator_tmp.evaluate(predictions_tmp)\n",
    "    \n",
    "    product_purchase_silhouette_scores.append(silhouette)\n",
    "    \n",
    "    print(f\"Silhouette score for k={k}: {silhouette:.4f}\")\n",
    "\n",
    "print(\"Done!\")"
   ]
  },
  {
   "cell_type": "code",
   "execution_count": 0,
   "metadata": {
    "application/vnd.databricks.v1+cell": {
     "cellMetadata": {
      "byteLimit": 2048000,
      "rowLimit": 10000
     },
     "inputWidgets": {},
     "nuid": "e1ea72d7-0dfe-4b8f-bb83-b527f0f11aa7",
     "showTitle": false,
     "tableResultSettingsMap": {},
     "title": ""
    }
   },
   "outputs": [
    {
     "output_type": "display_data",
     "data": {
      "image/png": "[encoded data removed]"
     },
     "metadata": {
      "application/vnd.databricks.v1+output": {
       "addedWidgets": {},
       "arguments": {},
       "data": "data:image/png;base64,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\n",
       "datasetInfos": [],
       "metadata": {},
       "removedWidgets": [],
       "type": "image"
      }
     },
     "output_type": "display_data"
    }
   ],
   "source": [
    "plt.figure(figsize=(8, 5))\n",
    "plt.plot(product_purchase_k_values, product_purchase_silhouette_scores, marker='o')\n",
    "plt.title('Silhouette Score vs Number of Clusters (k) — Product Purchase Clustering')\n",
    "plt.xlabel('Number of Clusters (k)')\n",
    "plt.ylabel('Silhouette Score')\n",
    "plt.grid(True)\n",
    "plt.show()"
   ]
  },
  {
   "cell_type": "markdown",
   "metadata": {
    "application/vnd.databricks.v1+cell": {
     "cellMetadata": {
      "byteLimit": 2048000,
      "rowLimit": 10000
     },
     "inputWidgets": {},
     "nuid": "c12a7227-3c31-4842-a6f4-c830c51c28e4",
     "showTitle": false,
     "tableResultSettingsMap": {},
     "title": ""
    }
   },
   "source": [
    "##### Apply k-means with chosen k (k=3)"
   ]
  },
  {
   "cell_type": "code",
   "execution_count": 0,
   "metadata": {
    "application/vnd.databricks.v1+cell": {
     "cellMetadata": {
      "byteLimit": 2048000,
      "rowLimit": 10000
     },
     "inputWidgets": {},
     "nuid": "f8060958-848d-492f-8a04-d8c41b0c5485",
     "showTitle": false,
     "tableResultSettingsMap": {},
     "title": ""
    }
   },
   "outputs": [
    {
     "output_type": "stream",
     "name": "stdout",
     "output_type": "stream",
     "text": [
      "+----------+-----+\n|prediction|count|\n+----------+-----+\n|         0|  552|\n|         1| 1294|\n|         2|  370|\n+----------+-----+\n\n"
     ]
    }
   ],
   "source": [
    "# Final K-Means with k = 3 for product purchase clustering\n",
    "k = 3\n",
    "product_purchase_kmeans = KMeans(featuresCol='productPurchaseScaledFeatures', k=k, seed=42)\n",
    "product_purchase_kmeans_model = product_purchase_kmeans.fit(product_purchase_df_prepared)\n",
    "product_purchase_predictions = product_purchase_kmeans_model.transform(product_purchase_df_prepared)\n",
    "\n",
    "# Prepare for profiling\n",
    "product_purchase_clusters = product_purchase_predictions\n",
    "product_purchase_clusters.cache()\n",
    "\n",
    "# Show cluster sizes\n",
    "product_purchase_clusters.groupBy('prediction').count().orderBy('prediction').show()"
   ]
  },
  {
   "cell_type": "markdown",
   "metadata": {
    "application/vnd.databricks.v1+cell": {
     "cellMetadata": {
      "byteLimit": 2048000,
      "rowLimit": 10000
     },
     "inputWidgets": {},
     "nuid": "eb5b524b-944e-4b2a-b230-83b21b02aeed",
     "showTitle": false,
     "tableResultSettingsMap": {},
     "title": ""
    }
   },
   "source": [
    "##### Customer value clustering profiling"
   ]
  },
  {
   "cell_type": "code",
   "execution_count": 0,
   "metadata": {
    "application/vnd.databricks.v1+cell": {
     "cellMetadata": {
      "byteLimit": 2048000,
      "rowLimit": 10000
     },
     "inputWidgets": {},
     "nuid": "1064fa5a-cbc5-43ae-a31b-2ec3a61414a8",
     "showTitle": false,
     "tableResultSettingsMap": {},
     "title": ""
    }
   },
   "outputs": [],
   "source": [
    "# numeric columns to profile\n",
    "product_purchase_numeric_columns = [\n",
    "    'MntWines',\n",
    "    'MntFruits',\n",
    "    'MntMeatProducts',\n",
    "    'MntFishProducts',\n",
    "    'MntSweetProducts',\n",
    "    'MntGoldProds',\n",
    "    'Age',\n",
    "    'Children'\n",
    "]"
   ]
  },
  {
   "cell_type": "code",
   "execution_count": 0,
   "metadata": {
    "application/vnd.databricks.v1+cell": {
     "cellMetadata": {
      "byteLimit": 2048000,
      "rowLimit": 10000
     },
     "inputWidgets": {},
     "nuid": "c3fc8b6b-a409-4430-8a88-cd228bdea574",
     "showTitle": false,
     "tableResultSettingsMap": {},
     "title": ""
    }
   },
   "outputs": [],
   "source": [
    "# Build aggregation expressions\n",
    "product_purchase_agg_exprs = [ F.avg(col).alias(f'avg_{col}') for col in product_purchase_numeric_columns ]\n",
    "\n",
    "# Compute cluster profile for numeric columns\n",
    "product_purchase_profile = product_purchase_clusters.groupBy('prediction').agg(*product_purchase_agg_exprs).orderBy('prediction')"
   ]
  },
  {
   "cell_type": "code",
   "execution_count": 0,
   "metadata": {
    "application/vnd.databricks.v1+cell": {
     "cellMetadata": {
      "byteLimit": 2048000,
      "rowLimit": 10000
     },
     "inputWidgets": {},
     "nuid": "00c47dfd-c140-4eda-93cc-c6cae7337dee",
     "showTitle": false,
     "tableResultSettingsMap": {},
     "title": ""
    }
   },
   "outputs": [
    {
     "output_type": "display_data",
     "data": {
      "text/html": [
       "<div>\n",
       "<style scoped>\n",
       "    .dataframe tbody tr th:only-of-type {\n",
       "        vertical-align: middle;\n",
       "    }\n",
       "\n",
       "    .dataframe tbody tr th {\n",
       "        vertical-align: top;\n",
       "    }\n",
       "\n",
       "    .dataframe thead th {\n",
       "        text-align: right;\n",
       "    }\n",
       "</style>\n",
       "<table border=\"1\" class=\"dataframe\">\n",
       "  <thead>\n",
       "    <tr style=\"text-align: right;\">\n",
       "      <th></th>\n",
       "      <th>prediction</th>\n",
       "      <th>avg_MntWines</th>\n",
       "      <th>avg_MntFruits</th>\n",
       "      <th>avg_MntMeatProducts</th>\n",
       "      <th>avg_MntFishProducts</th>\n",
       "      <th>avg_MntSweetProducts</th>\n",
       "      <th>avg_MntGoldProds</th>\n",
       "      <th>avg_Age</th>\n",
       "      <th>avg_Children</th>\n",
       "    </tr>\n",
       "  </thead>\n",
       "  <tbody>\n",
       "    <tr>\n",
       "      <th>0</th>\n",
       "      <td>0</td>\n",
       "      <td>652.89</td>\n",
       "      <td>31.58</td>\n",
       "      <td>292.89</td>\n",
       "      <td>44.63</td>\n",
       "      <td>30.12</td>\n",
       "      <td>73.73</td>\n",
       "      <td>47.46</td>\n",
       "      <td>0.66</td>\n",
       "    </tr>\n",
       "    <tr>\n",
       "      <th>1</th>\n",
       "      <td>1</td>\n",
       "      <td>94.99</td>\n",
       "      <td>6.44</td>\n",
       "      <td>35.31</td>\n",
       "      <td>9.07</td>\n",
       "      <td>6.41</td>\n",
       "      <td>18.62</td>\n",
       "      <td>44.14</td>\n",
       "      <td>1.24</td>\n",
       "    </tr>\n",
       "    <tr>\n",
       "      <th>2</th>\n",
       "      <td>2</td>\n",
       "      <td>521.02</td>\n",
       "      <td>88.23</td>\n",
       "      <td>439.74</td>\n",
       "      <td>127.12</td>\n",
       "      <td>94.51</td>\n",
       "      <td>88.20</td>\n",
       "      <td>45.41</td>\n",
       "      <td>0.34</td>\n",
       "    </tr>\n",
       "  </tbody>\n",
       "</table>\n",
       "</div>"
      ]
     },
     "metadata": {
      "application/vnd.databricks.v1+output": {
       "addedWidgets": {},
       "arguments": {},
       "data": "<div>\n<style scoped>\n    .dataframe tbody tr th:only-of-type {\n        vertical-align: middle;\n    }\n\n    .dataframe tbody tr th {\n        vertical-align: top;\n    }\n\n    .dataframe thead th {\n        text-align: right;\n    }\n</style>\n<table border=\"1\" class=\"dataframe\">\n  <thead>\n    <tr style=\"text-align: right;\">\n      <th></th>\n      <th>prediction</th>\n      <th>avg_MntWines</th>\n      <th>avg_MntFruits</th>\n      <th>avg_MntMeatProducts</th>\n      <th>avg_MntFishProducts</th>\n      <th>avg_MntSweetProducts</th>\n      <th>avg_MntGoldProds</th>\n      <th>avg_Age</th>\n      <th>avg_Children</th>\n    </tr>\n  </thead>\n  <tbody>\n    <tr>\n      <th>0</th>\n      <td>0</td>\n      <td>652.89</td>\n      <td>31.58</td>\n      <td>292.89</td>\n      <td>44.63</td>\n      <td>30.12</td>\n      <td>73.73</td>\n      <td>47.46</td>\n      <td>0.66</td>\n    </tr>\n    <tr>\n      <th>1</th>\n      <td>1</td>\n      <td>94.99</td>\n      <td>6.44</td>\n      <td>35.31</td>\n      <td>9.07</td>\n      <td>6.41</td>\n      <td>18.62</td>\n      <td>44.14</td>\n      <td>1.24</td>\n    </tr>\n    <tr>\n      <th>2</th>\n      <td>2</td>\n      <td>521.02</td>\n      <td>88.23</td>\n      <td>439.74</td>\n      <td>127.12</td>\n      <td>94.51</td>\n      <td>88.20</td>\n      <td>45.41</td>\n      <td>0.34</td>\n    </tr>\n  </tbody>\n</table>\n</div>",
       "datasetInfos": [],
       "metadata": {},
       "removedWidgets": [],
       "textData": null,
       "type": "htmlSandbox"
      }
     },
     "output_type": "display_data"
    }
   ],
   "source": [
    "# convert to pandas for better visualization\n",
    "product_purchase_profile_pd = product_purchase_profile.toPandas()\n",
    "pd.options.display.float_format = '{:,.2f}'.format\n",
    "product_purchase_profile_pd"
   ]
  },
  {
   "cell_type": "markdown",
   "metadata": {
    "application/vnd.databricks.v1+cell": {
     "cellMetadata": {
      "byteLimit": 2048000,
      "rowLimit": 10000
     },
     "inputWidgets": {},
     "nuid": "7fc41a5c-86db-4f00-8f27-6e76dc24e128",
     "showTitle": false,
     "tableResultSettingsMap": {},
     "title": ""
    }
   },
   "source": [
    "%md\n",
    "#### Clustering Analysis\n",
    "**Cluster 0**\n",
    "\n",
    "-> Very high Wine spending → 652.89.\n",
    "\n",
    "-> Also high Meat (292.89) and Gold Products (73.73).\n",
    "\n",
    "-> Low on Fruits, Fish, Sweets: more \"luxury\" spending.\n",
    "\n",
    "-> Avg Age 47.46; slightly older customers.\n",
    "\n",
    "-> Children 0.66; fewer children.\n",
    "\n",
    "\n",
    "**Cluster 1**\n",
    "\n",
    "-> Very low spending across all categories; \"low-value\" or \"basic buyers\".\n",
    "\n",
    "-> MntWines = 94.99; very low.\n",
    "\n",
    "-> Low on Fruits, Fish, Sweets: more \"luxury\" spending.\n",
    "\n",
    "-> Avg Age 44.14.\n",
    "\n",
    "-> Children 1.24: higher, families with children.\n",
    "\n",
    "**Cluster 2**\n",
    "\n",
    "-> High spenders on everything: Wines = 521.02; Fruits = 88.23; \n",
    "\n",
    "Meat = 439.74; Fish = 127.12; Sweets = 94.51; GoldProds = 88.20\n",
    "\n",
    "-> Age = 45.41 - slightly younger than Cluster 0, older than Cluster 1.\n",
    "\n",
    "-> Children = 0.34 - few children."
   ]
  },
  {
   "cell_type": "code",
   "execution_count": 0,
   "metadata": {
    "application/vnd.databricks.v1+cell": {
     "cellMetadata": {
      "byteLimit": 2048000,
      "rowLimit": 10000
     },
     "inputWidgets": {},
     "nuid": "dbcb94d1-f2c9-4b0f-9ff8-26e07da574c7",
     "showTitle": false,
     "tableResultSettingsMap": {},
     "title": ""
    }
   },
   "outputs": [],
   "source": [
    "# Education % per cluster\n",
    "\n",
    "# Count Education per cluster\n",
    "education_counts = product_purchase_clusters.groupBy('prediction', 'Education').count()\n",
    "\n",
    "# Compute total per cluster\n",
    "education_totals = product_purchase_clusters.groupBy('prediction').count().withColumnRenamed('count', 'total')\n",
    "\n",
    "# Join totals back\n",
    "education_counts = education_counts.join(education_totals, on='prediction')\n",
    "\n",
    "# Compute percentage\n",
    "education_counts = education_counts.withColumn('percentage', F.col('count') / F.col('total') * 100)\n",
    "\n",
    "# Marital_Status % per cluster\n",
    "\n",
    "# count Marital_Status per cluster\n",
    "marital_counts = product_purchase_clusters.groupBy('prediction', 'Marital_Status').count()\n",
    "\n",
    "# Compute total per cluster\n",
    "marital_totals = product_purchase_clusters.groupBy('prediction').count().withColumnRenamed('count', 'total')\n",
    "\n",
    "# Join totals back\n",
    "marital_counts = marital_counts.join(marital_totals, on='prediction')\n",
    "\n",
    "# Compute percentage\n",
    "marital_counts = marital_counts.withColumn('percentage', F.col('count') / F.col('total') * 100)\n"
   ]
  },
  {
   "cell_type": "code",
   "execution_count": 0,
   "metadata": {
    "application/vnd.databricks.v1+cell": {
     "cellMetadata": {
      "byteLimit": 2048000,
      "rowLimit": 10000
     },
     "inputWidgets": {},
     "nuid": "4f494946-fac7-41e7-ba3f-b2479f92378b",
     "showTitle": false,
     "tableResultSettingsMap": {},
     "title": ""
    }
   },
   "outputs": [
    {
     "output_type": "display_data",
     "data": {
      "text/html": [
       "<div>\n",
       "<style scoped>\n",
       "    .dataframe tbody tr th:only-of-type {\n",
       "        vertical-align: middle;\n",
       "    }\n",
       "\n",
       "    .dataframe tbody tr th {\n",
       "        vertical-align: top;\n",
       "    }\n",
       "\n",
       "    .dataframe thead th {\n",
       "        text-align: right;\n",
       "    }\n",
       "</style>\n",
       "<table border=\"1\" class=\"dataframe\">\n",
       "  <thead>\n",
       "    <tr style=\"text-align: right;\">\n",
       "      <th></th>\n",
       "      <th>prediction</th>\n",
       "      <th>Education</th>\n",
       "      <th>count</th>\n",
       "      <th>total</th>\n",
       "      <th>percentage</th>\n",
       "    </tr>\n",
       "  </thead>\n",
       "  <tbody>\n",
       "    <tr>\n",
       "      <th>12</th>\n",
       "      <td>0</td>\n",
       "      <td>Graduation</td>\n",
       "      <td>258</td>\n",
       "      <td>552</td>\n",
       "      <td>46.74</td>\n",
       "    </tr>\n",
       "    <tr>\n",
       "      <th>2</th>\n",
       "      <td>0</td>\n",
       "      <td>PhD</td>\n",
       "      <td>163</td>\n",
       "      <td>552</td>\n",
       "      <td>29.53</td>\n",
       "    </tr>\n",
       "    <tr>\n",
       "      <th>3</th>\n",
       "      <td>0</td>\n",
       "      <td>Master</td>\n",
       "      <td>96</td>\n",
       "      <td>552</td>\n",
       "      <td>17.39</td>\n",
       "    </tr>\n",
       "    <tr>\n",
       "      <th>4</th>\n",
       "      <td>0</td>\n",
       "      <td>2n Cycle</td>\n",
       "      <td>34</td>\n",
       "      <td>552</td>\n",
       "      <td>6.16</td>\n",
       "    </tr>\n",
       "    <tr>\n",
       "      <th>5</th>\n",
       "      <td>0</td>\n",
       "      <td>Basic</td>\n",
       "      <td>1</td>\n",
       "      <td>552</td>\n",
       "      <td>0.18</td>\n",
       "    </tr>\n",
       "    <tr>\n",
       "      <th>13</th>\n",
       "      <td>1</td>\n",
       "      <td>Graduation</td>\n",
       "      <td>620</td>\n",
       "      <td>1294</td>\n",
       "      <td>47.91</td>\n",
       "    </tr>\n",
       "    <tr>\n",
       "      <th>7</th>\n",
       "      <td>1</td>\n",
       "      <td>PhD</td>\n",
       "      <td>273</td>\n",
       "      <td>1294</td>\n",
       "      <td>21.10</td>\n",
       "    </tr>\n",
       "    <tr>\n",
       "      <th>8</th>\n",
       "      <td>1</td>\n",
       "      <td>Master</td>\n",
       "      <td>226</td>\n",
       "      <td>1294</td>\n",
       "      <td>17.47</td>\n",
       "    </tr>\n",
       "    <tr>\n",
       "      <th>0</th>\n",
       "      <td>1</td>\n",
       "      <td>2n Cycle</td>\n",
       "      <td>123</td>\n",
       "      <td>1294</td>\n",
       "      <td>9.51</td>\n",
       "    </tr>\n",
       "    <tr>\n",
       "      <th>14</th>\n",
       "      <td>1</td>\n",
       "      <td>Basic</td>\n",
       "      <td>52</td>\n",
       "      <td>1294</td>\n",
       "      <td>4.02</td>\n",
       "    </tr>\n",
       "    <tr>\n",
       "      <th>10</th>\n",
       "      <td>2</td>\n",
       "      <td>Graduation</td>\n",
       "      <td>238</td>\n",
       "      <td>370</td>\n",
       "      <td>64.32</td>\n",
       "    </tr>\n",
       "    <tr>\n",
       "      <th>6</th>\n",
       "      <td>2</td>\n",
       "      <td>PhD</td>\n",
       "      <td>45</td>\n",
       "      <td>370</td>\n",
       "      <td>12.16</td>\n",
       "    </tr>\n",
       "    <tr>\n",
       "      <th>9</th>\n",
       "      <td>2</td>\n",
       "      <td>Master</td>\n",
       "      <td>43</td>\n",
       "      <td>370</td>\n",
       "      <td>11.62</td>\n",
       "    </tr>\n",
       "    <tr>\n",
       "      <th>11</th>\n",
       "      <td>2</td>\n",
       "      <td>2n Cycle</td>\n",
       "      <td>43</td>\n",
       "      <td>370</td>\n",
       "      <td>11.62</td>\n",
       "    </tr>\n",
       "    <tr>\n",
       "      <th>1</th>\n",
       "      <td>2</td>\n",
       "      <td>Basic</td>\n",
       "      <td>1</td>\n",
       "      <td>370</td>\n",
       "      <td>0.27</td>\n",
       "    </tr>\n",
       "  </tbody>\n",
       "</table>\n",
       "</div>"
      ]
     },
     "metadata": {
      "application/vnd.databricks.v1+output": {
       "addedWidgets": {},
       "arguments": {},
       "data": "<div>\n<style scoped>\n    .dataframe tbody tr th:only-of-type {\n        vertical-align: middle;\n    }\n\n    .dataframe tbody tr th {\n        vertical-align: top;\n    }\n\n    .dataframe thead th {\n        text-align: right;\n    }\n</style>\n<table border=\"1\" class=\"dataframe\">\n  <thead>\n    <tr style=\"text-align: right;\">\n      <th></th>\n      <th>prediction</th>\n      <th>Education</th>\n      <th>count</th>\n      <th>total</th>\n      <th>percentage</th>\n    </tr>\n  </thead>\n  <tbody>\n    <tr>\n      <th>12</th>\n      <td>0</td>\n      <td>Graduation</td>\n      <td>258</td>\n      <td>552</td>\n      <td>46.74</td>\n    </tr>\n    <tr>\n      <th>2</th>\n      <td>0</td>\n      <td>PhD</td>\n      <td>163</td>\n      <td>552</td>\n      <td>29.53</td>\n    </tr>\n    <tr>\n      <th>3</th>\n      <td>0</td>\n      <td>Master</td>\n      <td>96</td>\n      <td>552</td>\n      <td>17.39</td>\n    </tr>\n    <tr>\n      <th>4</th>\n      <td>0</td>\n      <td>2n Cycle</td>\n      <td>34</td>\n      <td>552</td>\n      <td>6.16</td>\n    </tr>\n    <tr>\n      <th>5</th>\n      <td>0</td>\n      <td>Basic</td>\n      <td>1</td>\n      <td>552</td>\n      <td>0.18</td>\n    </tr>\n    <tr>\n      <th>13</th>\n      <td>1</td>\n      <td>Graduation</td>\n      <td>620</td>\n      <td>1294</td>\n      <td>47.91</td>\n    </tr>\n    <tr>\n      <th>7</th>\n      <td>1</td>\n      <td>PhD</td>\n      <td>273</td>\n      <td>1294</td>\n      <td>21.10</td>\n    </tr>\n    <tr>\n      <th>8</th>\n      <td>1</td>\n      <td>Master</td>\n      <td>226</td>\n      <td>1294</td>\n      <td>17.47</td>\n    </tr>\n    <tr>\n      <th>0</th>\n      <td>1</td>\n      <td>2n Cycle</td>\n      <td>123</td>\n      <td>1294</td>\n      <td>9.51</td>\n    </tr>\n    <tr>\n      <th>14</th>\n      <td>1</td>\n      <td>Basic</td>\n      <td>52</td>\n      <td>1294</td>\n      <td>4.02</td>\n    </tr>\n    <tr>\n      <th>10</th>\n      <td>2</td>\n      <td>Graduation</td>\n      <td>238</td>\n      <td>370</td>\n      <td>64.32</td>\n    </tr>\n    <tr>\n      <th>6</th>\n      <td>2</td>\n      <td>PhD</td>\n      <td>45</td>\n      <td>370</td>\n      <td>12.16</td>\n    </tr>\n    <tr>\n      <th>9</th>\n      <td>2</td>\n      <td>Master</td>\n      <td>43</td>\n      <td>370</td>\n      <td>11.62</td>\n    </tr>\n    <tr>\n      <th>11</th>\n      <td>2</td>\n      <td>2n Cycle</td>\n      <td>43</td>\n      <td>370</td>\n      <td>11.62</td>\n    </tr>\n    <tr>\n      <th>1</th>\n      <td>2</td>\n      <td>Basic</td>\n      <td>1</td>\n      <td>370</td>\n      <td>0.27</td>\n    </tr>\n  </tbody>\n</table>\n</div>",
       "datasetInfos": [],
       "metadata": {},
       "removedWidgets": [],
       "textData": null,
       "type": "htmlSandbox"
      }
     },
     "output_type": "display_data"
    }
   ],
   "source": [
    "# Convert Education % to pandas\n",
    "education_counts_pd = education_counts.toPandas()\n",
    "pd.options.display.float_format = '{:,.2f}'.format\n",
    "\n",
    "# Sort by prediction and percentage descending\n",
    "education_counts_pd = education_counts_pd.sort_values(by=['prediction', 'percentage'], ascending=[True, False])\n",
    "#print\n",
    "education_counts_pd\n"
   ]
  },
  {
   "cell_type": "markdown",
   "metadata": {
    "application/vnd.databricks.v1+cell": {
     "cellMetadata": {
      "byteLimit": 2048000,
      "rowLimit": 10000
     },
     "inputWidgets": {},
     "nuid": "44c7255a-8187-4736-9f39-2c8f5237d90d",
     "showTitle": false,
     "tableResultSettingsMap": {},
     "title": ""
    }
   },
   "source": [
    "#### Clustering Analysis\n",
    "**Cluster 0**\n",
    "\n",
    "Well-educated cluster:\n",
    "\n",
    "-> 93.66% have at least Graduation or higher; very high education level.\n",
    "\n",
    "-> Dominated by Graduation + PhD + Master.\n",
    "\n",
    "-> Very small % of Basic or 2n Cycle.\n",
    "\n",
    "**Cluster 1**\n",
    "\n",
    "Also well-educated, but slightly more diverse:\n",
    "\n",
    "-> Higher % of Basic (4.02%) and 2nd Cycle.\n",
    "\n",
    "-> More spread out: supports the idea this cluster contains a broader demographic, including more families, as we saw in Children.\n",
    "\n",
    "**Cluster 2**\n",
    "\n",
    "Dominated by Graduation - very clear.\n",
    "\n",
    "-> Also relatively well-educated, but less PhD than Cluster 0.\n",
    "\n",
    "-> Almost no Basic education.\n",
    "\n",
    "-> Children = 0.34 - few children."
   ]
  },
  {
   "cell_type": "code",
   "execution_count": 0,
   "metadata": {
    "application/vnd.databricks.v1+cell": {
     "cellMetadata": {
      "byteLimit": 2048000,
      "rowLimit": 10000
     },
     "inputWidgets": {},
     "nuid": "927222bb-a9ae-43c2-906d-92ac92c81f23",
     "showTitle": false,
     "tableResultSettingsMap": {},
     "title": ""
    }
   },
   "outputs": [
    {
     "output_type": "display_data",
     "data": {
      "text/html": [
       "<div>\n",
       "<style scoped>\n",
       "    .dataframe tbody tr th:only-of-type {\n",
       "        vertical-align: middle;\n",
       "    }\n",
       "\n",
       "    .dataframe tbody tr th {\n",
       "        vertical-align: top;\n",
       "    }\n",
       "\n",
       "    .dataframe thead th {\n",
       "        text-align: right;\n",
       "    }\n",
       "</style>\n",
       "<table border=\"1\" class=\"dataframe\">\n",
       "  <thead>\n",
       "    <tr style=\"text-align: right;\">\n",
       "      <th></th>\n",
       "      <th>prediction</th>\n",
       "      <th>Marital_Status</th>\n",
       "      <th>count</th>\n",
       "      <th>total</th>\n",
       "      <th>percentage</th>\n",
       "    </tr>\n",
       "  </thead>\n",
       "  <tbody>\n",
       "    <tr>\n",
       "      <th>3</th>\n",
       "      <td>0</td>\n",
       "      <td>Married</td>\n",
       "      <td>212</td>\n",
       "      <td>552</td>\n",
       "      <td>38.41</td>\n",
       "    </tr>\n",
       "    <tr>\n",
       "      <th>12</th>\n",
       "      <td>0</td>\n",
       "      <td>Together</td>\n",
       "      <td>147</td>\n",
       "      <td>552</td>\n",
       "      <td>26.63</td>\n",
       "    </tr>\n",
       "    <tr>\n",
       "      <th>5</th>\n",
       "      <td>0</td>\n",
       "      <td>Single</td>\n",
       "      <td>108</td>\n",
       "      <td>552</td>\n",
       "      <td>19.57</td>\n",
       "    </tr>\n",
       "    <tr>\n",
       "      <th>15</th>\n",
       "      <td>0</td>\n",
       "      <td>Divorced</td>\n",
       "      <td>66</td>\n",
       "      <td>552</td>\n",
       "      <td>11.96</td>\n",
       "    </tr>\n",
       "    <tr>\n",
       "      <th>10</th>\n",
       "      <td>0</td>\n",
       "      <td>Widow</td>\n",
       "      <td>19</td>\n",
       "      <td>552</td>\n",
       "      <td>3.44</td>\n",
       "    </tr>\n",
       "    <tr>\n",
       "      <th>0</th>\n",
       "      <td>1</td>\n",
       "      <td>Married</td>\n",
       "      <td>510</td>\n",
       "      <td>1294</td>\n",
       "      <td>39.41</td>\n",
       "    </tr>\n",
       "    <tr>\n",
       "      <th>16</th>\n",
       "      <td>1</td>\n",
       "      <td>Together</td>\n",
       "      <td>334</td>\n",
       "      <td>1294</td>\n",
       "      <td>25.81</td>\n",
       "    </tr>\n",
       "    <tr>\n",
       "      <th>13</th>\n",
       "      <td>1</td>\n",
       "      <td>Single</td>\n",
       "      <td>276</td>\n",
       "      <td>1294</td>\n",
       "      <td>21.33</td>\n",
       "    </tr>\n",
       "    <tr>\n",
       "      <th>14</th>\n",
       "      <td>1</td>\n",
       "      <td>Divorced</td>\n",
       "      <td>131</td>\n",
       "      <td>1294</td>\n",
       "      <td>10.12</td>\n",
       "    </tr>\n",
       "    <tr>\n",
       "      <th>2</th>\n",
       "      <td>1</td>\n",
       "      <td>Widow</td>\n",
       "      <td>38</td>\n",
       "      <td>1294</td>\n",
       "      <td>2.94</td>\n",
       "    </tr>\n",
       "    <tr>\n",
       "      <th>7</th>\n",
       "      <td>1</td>\n",
       "      <td>Alone</td>\n",
       "      <td>3</td>\n",
       "      <td>1294</td>\n",
       "      <td>0.23</td>\n",
       "    </tr>\n",
       "    <tr>\n",
       "      <th>4</th>\n",
       "      <td>1</td>\n",
       "      <td>YOLO</td>\n",
       "      <td>2</td>\n",
       "      <td>1294</td>\n",
       "      <td>0.15</td>\n",
       "    </tr>\n",
       "    <tr>\n",
       "      <th>11</th>\n",
       "      <td>2</td>\n",
       "      <td>Married</td>\n",
       "      <td>135</td>\n",
       "      <td>370</td>\n",
       "      <td>36.49</td>\n",
       "    </tr>\n",
       "    <tr>\n",
       "      <th>1</th>\n",
       "      <td>2</td>\n",
       "      <td>Together</td>\n",
       "      <td>92</td>\n",
       "      <td>370</td>\n",
       "      <td>24.86</td>\n",
       "    </tr>\n",
       "    <tr>\n",
       "      <th>9</th>\n",
       "      <td>2</td>\n",
       "      <td>Single</td>\n",
       "      <td>87</td>\n",
       "      <td>370</td>\n",
       "      <td>23.51</td>\n",
       "    </tr>\n",
       "    <tr>\n",
       "      <th>6</th>\n",
       "      <td>2</td>\n",
       "      <td>Divorced</td>\n",
       "      <td>35</td>\n",
       "      <td>370</td>\n",
       "      <td>9.46</td>\n",
       "    </tr>\n",
       "    <tr>\n",
       "      <th>17</th>\n",
       "      <td>2</td>\n",
       "      <td>Widow</td>\n",
       "      <td>19</td>\n",
       "      <td>370</td>\n",
       "      <td>5.14</td>\n",
       "    </tr>\n",
       "    <tr>\n",
       "      <th>8</th>\n",
       "      <td>2</td>\n",
       "      <td>Absurd</td>\n",
       "      <td>2</td>\n",
       "      <td>370</td>\n",
       "      <td>0.54</td>\n",
       "    </tr>\n",
       "  </tbody>\n",
       "</table>\n",
       "</div>"
      ]
     },
     "metadata": {
      "application/vnd.databricks.v1+output": {
       "addedWidgets": {},
       "arguments": {},
       "data": "<div>\n<style scoped>\n    .dataframe tbody tr th:only-of-type {\n        vertical-align: middle;\n    }\n\n    .dataframe tbody tr th {\n        vertical-align: top;\n    }\n\n    .dataframe thead th {\n        text-align: right;\n    }\n</style>\n<table border=\"1\" class=\"dataframe\">\n  <thead>\n    <tr style=\"text-align: right;\">\n      <th></th>\n      <th>prediction</th>\n      <th>Marital_Status</th>\n      <th>count</th>\n      <th>total</th>\n      <th>percentage</th>\n    </tr>\n  </thead>\n  <tbody>\n    <tr>\n      <th>3</th>\n      <td>0</td>\n      <td>Married</td>\n      <td>212</td>\n      <td>552</td>\n      <td>38.41</td>\n    </tr>\n    <tr>\n      <th>12</th>\n      <td>0</td>\n      <td>Together</td>\n      <td>147</td>\n      <td>552</td>\n      <td>26.63</td>\n    </tr>\n    <tr>\n      <th>5</th>\n      <td>0</td>\n      <td>Single</td>\n      <td>108</td>\n      <td>552</td>\n      <td>19.57</td>\n    </tr>\n    <tr>\n      <th>15</th>\n      <td>0</td>\n      <td>Divorced</td>\n      <td>66</td>\n      <td>552</td>\n      <td>11.96</td>\n    </tr>\n    <tr>\n      <th>10</th>\n      <td>0</td>\n      <td>Widow</td>\n      <td>19</td>\n      <td>552</td>\n      <td>3.44</td>\n    </tr>\n    <tr>\n      <th>0</th>\n      <td>1</td>\n      <td>Married</td>\n      <td>510</td>\n      <td>1294</td>\n      <td>39.41</td>\n    </tr>\n    <tr>\n      <th>16</th>\n      <td>1</td>\n      <td>Together</td>\n      <td>334</td>\n      <td>1294</td>\n      <td>25.81</td>\n    </tr>\n    <tr>\n      <th>13</th>\n      <td>1</td>\n      <td>Single</td>\n      <td>276</td>\n      <td>1294</td>\n      <td>21.33</td>\n    </tr>\n    <tr>\n      <th>14</th>\n      <td>1</td>\n      <td>Divorced</td>\n      <td>131</td>\n      <td>1294</td>\n      <td>10.12</td>\n    </tr>\n    <tr>\n      <th>2</th>\n      <td>1</td>\n      <td>Widow</td>\n      <td>38</td>\n      <td>1294</td>\n      <td>2.94</td>\n    </tr>\n    <tr>\n      <th>7</th>\n      <td>1</td>\n      <td>Alone</td>\n      <td>3</td>\n      <td>1294</td>\n      <td>0.23</td>\n    </tr>\n    <tr>\n      <th>4</th>\n      <td>1</td>\n      <td>YOLO</td>\n      <td>2</td>\n      <td>1294</td>\n      <td>0.15</td>\n    </tr>\n    <tr>\n      <th>11</th>\n      <td>2</td>\n      <td>Married</td>\n      <td>135</td>\n      <td>370</td>\n      <td>36.49</td>\n    </tr>\n    <tr>\n      <th>1</th>\n      <td>2</td>\n      <td>Together</td>\n      <td>92</td>\n      <td>370</td>\n      <td>24.86</td>\n    </tr>\n    <tr>\n      <th>9</th>\n      <td>2</td>\n      <td>Single</td>\n      <td>87</td>\n      <td>370</td>\n      <td>23.51</td>\n    </tr>\n    <tr>\n      <th>6</th>\n      <td>2</td>\n      <td>Divorced</td>\n      <td>35</td>\n      <td>370</td>\n      <td>9.46</td>\n    </tr>\n    <tr>\n      <th>17</th>\n      <td>2</td>\n      <td>Widow</td>\n      <td>19</td>\n      <td>370</td>\n      <td>5.14</td>\n    </tr>\n    <tr>\n      <th>8</th>\n      <td>2</td>\n      <td>Absurd</td>\n      <td>2</td>\n      <td>370</td>\n      <td>0.54</td>\n    </tr>\n  </tbody>\n</table>\n</div>",
       "datasetInfos": [],
       "metadata": {},
       "removedWidgets": [],
       "textData": null,
       "type": "htmlSandbox"
      }
     },
     "output_type": "display_data"
    }
   ],
   "source": [
    "# Convert Marital_Status % to pandas\n",
    "marital_counts_pd = marital_counts.toPandas()\n",
    "pd.options.display.float_format = '{:,.2f}'.format\n",
    "\n",
    "# Sort by prediction and percentage descending\n",
    "marital_counts_pd = marital_counts_pd.sort_values(by=['prediction', 'percentage'], ascending=[True, False])\n",
    "marital_counts_pd"
   ]
  },
  {
   "cell_type": "markdown",
   "metadata": {
    "application/vnd.databricks.v1+cell": {
     "cellMetadata": {
      "byteLimit": 2048000,
      "rowLimit": 10000
     },
     "inputWidgets": {},
     "nuid": "49437ae2-3c9b-4445-bc89-f396ca8bbd5c",
     "showTitle": false,
     "tableResultSettingsMap": {},
     "title": ""
    }
   },
   "source": [
    "#### Clustering Analysis\n",
    "**Cluster 0**\n",
    "\n",
    "-> Mostly Married + Together = 65.04% ; couples.\n",
    "\n",
    "-> Smaller percentage Single = 19.57%.\n",
    "\n",
    "**Cluster 1**\n",
    "\n",
    "-> Similar pattern to Cluster 0; but slightly more diverse.\n",
    "\n",
    "-> More Single = 21.33%; matches with higher Children count, younger families / diverse family structures.\n",
    "\n",
    "**Cluster 2**\n",
    "\n",
    "-> Very similar distribution to others - Married + Together dominate.\n",
    "\n",
    "-> High % Single (23.51%) - suggests some of these high spenders are younger professionals / single buyers, also matches diverse product interest."
   ]
  },
  {
   "cell_type": "markdown",
   "metadata": {
    "application/vnd.databricks.v1+cell": {
     "cellMetadata": {
      "byteLimit": 2048000,
      "rowLimit": 10000
     },
     "inputWidgets": {},
     "nuid": "1c1b3d50-1aa4-4bf8-8fde-e9a98567c64e",
     "showTitle": true,
     "tableResultSettingsMap": {},
     "title": ""
    },
    "jupyter": {
     "outputs_hidden": true
    }
   },
   "source": [
    "### Clustering #3\n",
    "Clustering customers by Total_Spend and NumTotalPurchases with profiling on promotions usage and online engagement"
   ]
  },
  {
   "cell_type": "code",
   "execution_count": 0,
   "metadata": {
    "application/vnd.databricks.v1+cell": {
     "cellMetadata": {
      "byteLimit": 2048000,
      "rowLimit": 10000
     },
     "inputWidgets": {},
     "nuid": "53696bfa-f626-4a2a-bb16-ded9e28e5942",
     "showTitle": false,
     "tableResultSettingsMap": {},
     "title": ""
    }
   },
   "outputs": [],
   "source": [
    "# Define features for clustering (value behavior)\n",
    "value_behavior_columns = [\n",
    "    'Total_Spend',\n",
    "    'NumTotalPurchases'\n",
    "]\n",
    "\n",
    "# Assemble features\n",
    "value_behavior_assembler = VectorAssembler(\n",
    "    inputCols=value_behavior_columns,\n",
    "    outputCol='valueBehaviorFeatures'\n",
    ")\n",
    "\n",
    "# Scale features\n",
    "value_behavior_scaler = StandardScaler(\n",
    "    inputCol='valueBehaviorFeatures',\n",
    "    outputCol='valueBehaviorScaledFeatures',\n",
    "    withStd=True,\n",
    "    withMean=True\n",
    ")"
   ]
  },
  {
   "cell_type": "code",
   "execution_count": 0,
   "metadata": {
    "application/vnd.databricks.v1+cell": {
     "cellMetadata": {
      "byteLimit": 2048000,
      "rowLimit": 10000
     },
     "inputWidgets": {},
     "nuid": "c539c4d0-f94a-4e60-a4ba-c8e834edb361",
     "showTitle": false,
     "tableResultSettingsMap": {},
     "title": ""
    }
   },
   "outputs": [],
   "source": [
    "# Build pipeline\n",
    "value_behavior_pipeline = Pipeline(stages=[\n",
    "    value_behavior_assembler,\n",
    "    value_behavior_scaler\n",
    "])\n",
    "\n",
    "# Fit and transform\n",
    "value_behavior_pipeline_model = value_behavior_pipeline.fit(df)\n",
    "value_behavior_df_prepared = value_behavior_pipeline_model.transform(df)\n",
    "\n",
    "# Loop to test different k values\n",
    "value_behavior_k_values = list(range(2, 11))\n",
    "value_behavior_silhouette_scores = []"
   ]
  },
  {
   "cell_type": "markdown",
   "metadata": {
    "application/vnd.databricks.v1+cell": {
     "cellMetadata": {
      "byteLimit": 2048000,
      "rowLimit": 10000
     },
     "inputWidgets": {},
     "nuid": "c79fcb61-b672-4917-8eaa-04fb1ffb0d63",
     "showTitle": false,
     "tableResultSettingsMap": {},
     "title": ""
    }
   },
   "source": [
    "##### Choosing K value"
   ]
  },
  {
   "cell_type": "code",
   "execution_count": 0,
   "metadata": {
    "application/vnd.databricks.v1+cell": {
     "cellMetadata": {
      "byteLimit": 2048000,
      "rowLimit": 10000
     },
     "inputWidgets": {},
     "nuid": "64fe71aa-3c9d-456b-aa81-93c8152d589a",
     "showTitle": false,
     "tableResultSettingsMap": {},
     "title": ""
    }
   },
   "outputs": [
    {
     "output_type": "stream",
     "name": "stdout",
     "output_type": "stream",
     "text": [
      "Training K-Means with k=2 ...\nSilhouette score for k=2: 0.7702\nTraining K-Means with k=3 ...\nSilhouette score for k=3: 0.6872\nTraining K-Means with k=4 ...\nSilhouette score for k=4: 0.6884\nTraining K-Means with k=5 ...\nSilhouette score for k=5: 0.6455\nTraining K-Means with k=6 ...\nSilhouette score for k=6: 0.6325\nTraining K-Means with k=7 ...\nSilhouette score for k=7: 0.6657\nTraining K-Means with k=8 ...\nSilhouette score for k=8: 0.6400\nTraining K-Means with k=9 ...\nSilhouette score for k=9: 0.6414\nTraining K-Means with k=10 ...\nSilhouette score for k=10: 0.6196\nDone!\n"
     ]
    }
   ],
   "source": [
    "# Loop to test different k values for product purchase clustering\n",
    "for k in value_behavior_k_values:\n",
    "    print(f\"Training K-Means with k={k} ...\")\n",
    "    \n",
    "    kmeans_tmp = KMeans(featuresCol='valueBehaviorScaledFeatures', k=k, seed=42)\n",
    "    model_tmp = kmeans_tmp.fit(value_behavior_df_prepared)\n",
    "    predictions_tmp = model_tmp.transform(value_behavior_df_prepared)\n",
    "    \n",
    "    evaluator_tmp = ClusteringEvaluator(featuresCol='valueBehaviorScaledFeatures', metricName='silhouette', distanceMeasure='squaredEuclidean')\n",
    "    silhouette = evaluator_tmp.evaluate(predictions_tmp)\n",
    "    \n",
    "    value_behavior_silhouette_scores.append(silhouette)\n",
    "    \n",
    "    print(f\"Silhouette score for k={k}: {silhouette:.4f}\")\n",
    "\n",
    "print(\"Done!\")"
   ]
  },
  {
   "cell_type": "code",
   "execution_count": 0,
   "metadata": {
    "application/vnd.databricks.v1+cell": {
     "cellMetadata": {
      "byteLimit": 2048000,
      "rowLimit": 10000
     },
     "inputWidgets": {},
     "nuid": "6df1c9c6-b197-4d8c-950c-08064cee9430",
     "showTitle": false,
     "tableResultSettingsMap": {},
     "title": ""
    }
   },
   "outputs": [
    {
     "output_type": "display_data",
     "data": {
      "image/png": "[encoded data removed]"
     },
     "metadata": {
      "application/vnd.databricks.v1+output": {
       "addedWidgets": {},
       "arguments": {},
       "data": "data:image/png;base64,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\n",
       "datasetInfos": [],
       "metadata": {},
       "removedWidgets": [],
       "type": "image"
      }
     },
     "output_type": "display_data"
    }
   ],
   "source": [
    "# Plot silhouette score vs k\n",
    "plt.figure(figsize=(8, 5))\n",
    "plt.plot(value_behavior_k_values, value_behavior_silhouette_scores, marker='o')\n",
    "plt.title('Silhouette Score vs Number of Clusters (k) — Value Behavior Clustering')\n",
    "plt.xlabel('Number of Clusters (k)')\n",
    "plt.ylabel('Silhouette Score')\n",
    "plt.grid(True)\n",
    "plt.show()"
   ]
  },
  {
   "cell_type": "markdown",
   "metadata": {
    "application/vnd.databricks.v1+cell": {
     "cellMetadata": {
      "byteLimit": 2048000,
      "rowLimit": 10000
     },
     "inputWidgets": {},
     "nuid": "71075dca-44c6-4510-b2a9-6f09386d0261",
     "showTitle": false,
     "tableResultSettingsMap": {},
     "title": ""
    }
   },
   "source": [
    "##### Apply k-means with chosen k (k=4)"
   ]
  },
  {
   "cell_type": "code",
   "execution_count": 0,
   "metadata": {
    "application/vnd.databricks.v1+cell": {
     "cellMetadata": {
      "byteLimit": 2048000,
      "rowLimit": 10000
     },
     "inputWidgets": {},
     "nuid": "76e7a85b-8db3-47c5-b4dd-0201fdd8307c",
     "showTitle": false,
     "tableResultSettingsMap": {},
     "title": ""
    }
   },
   "outputs": [
    {
     "output_type": "stream",
     "name": "stdout",
     "output_type": "stream",
     "text": [
      "+----------+-----+\n|prediction|count|\n+----------+-----+\n|         0|  415|\n|         1|  948|\n|         2|  495|\n|         3|  358|\n+----------+-----+\n\n"
     ]
    }
   ],
   "source": [
    "# Final K-Means with k = 4 for value behavior clustering\n",
    "k = 4\n",
    "value_behavior_kmeans = KMeans(featuresCol='valueBehaviorScaledFeatures', k=k, seed=42)\n",
    "value_behavior_kmeans_model = value_behavior_kmeans.fit(value_behavior_df_prepared)\n",
    "value_behavior_predictions = value_behavior_kmeans_model.transform(value_behavior_df_prepared)\n",
    "\n",
    "# Prepare for profiling\n",
    "value_behavior_clusters = value_behavior_predictions\n",
    "value_behavior_clusters.cache()\n",
    "\n",
    "# Show cluster sizes\n",
    "value_behavior_clusters.groupBy('prediction').count().orderBy('prediction').show()"
   ]
  },
  {
   "cell_type": "markdown",
   "metadata": {
    "application/vnd.databricks.v1+cell": {
     "cellMetadata": {
      "byteLimit": 2048000,
      "rowLimit": 10000
     },
     "inputWidgets": {},
     "nuid": "facdddf9-dfdc-449a-8ece-e7bd9f32d134",
     "showTitle": false,
     "tableResultSettingsMap": {},
     "title": ""
    }
   },
   "source": [
    "##### Promotions usage and online engagement clustering profiling"
   ]
  },
  {
   "cell_type": "code",
   "execution_count": 0,
   "metadata": {
    "application/vnd.databricks.v1+cell": {
     "cellMetadata": {
      "byteLimit": 2048000,
      "rowLimit": 10000
     },
     "inputWidgets": {},
     "nuid": "7a610b21-372a-474d-b537-e60b06f422e6",
     "showTitle": false,
     "tableResultSettingsMap": {},
     "title": ""
    }
   },
   "outputs": [
    {
     "output_type": "display_data",
     "data": {
      "text/html": [
       "<div>\n",
       "<style scoped>\n",
       "    .dataframe tbody tr th:only-of-type {\n",
       "        vertical-align: middle;\n",
       "    }\n",
       "\n",
       "    .dataframe tbody tr th {\n",
       "        vertical-align: top;\n",
       "    }\n",
       "\n",
       "    .dataframe thead th {\n",
       "        text-align: right;\n",
       "    }\n",
       "</style>\n",
       "<table border=\"1\" class=\"dataframe\">\n",
       "  <thead>\n",
       "    <tr style=\"text-align: right;\">\n",
       "      <th></th>\n",
       "      <th>prediction</th>\n",
       "      <th>avg_Total_Spend</th>\n",
       "      <th>avg_NumTotalPurchases</th>\n",
       "      <th>avg_AcceptedCmp1</th>\n",
       "      <th>avg_AcceptedCmp2</th>\n",
       "      <th>avg_AcceptedCmp3</th>\n",
       "      <th>avg_AcceptedCmp4</th>\n",
       "      <th>avg_AcceptedCmp5</th>\n",
       "      <th>avg_Website_Engagement</th>\n",
       "    </tr>\n",
       "  </thead>\n",
       "  <tbody>\n",
       "    <tr>\n",
       "      <th>0</th>\n",
       "      <td>0</td>\n",
       "      <td>1,589.89</td>\n",
       "      <td>20.39</td>\n",
       "      <td>0.22</td>\n",
       "      <td>0.05</td>\n",
       "      <td>0.09</td>\n",
       "      <td>0.19</td>\n",
       "      <td>0.31</td>\n",
       "      <td>8.52</td>\n",
       "    </tr>\n",
       "    <tr>\n",
       "      <th>1</th>\n",
       "      <td>1</td>\n",
       "      <td>80.11</td>\n",
       "      <td>7.29</td>\n",
       "      <td>0.00</td>\n",
       "      <td>0.00</td>\n",
       "      <td>0.07</td>\n",
       "      <td>0.01</td>\n",
       "      <td>0.00</td>\n",
       "      <td>8.26</td>\n",
       "    </tr>\n",
       "    <tr>\n",
       "      <th>2</th>\n",
       "      <td>2</td>\n",
       "      <td>531.43</td>\n",
       "      <td>17.02</td>\n",
       "      <td>0.04</td>\n",
       "      <td>0.01</td>\n",
       "      <td>0.06</td>\n",
       "      <td>0.09</td>\n",
       "      <td>0.02</td>\n",
       "      <td>10.49</td>\n",
       "    </tr>\n",
       "    <tr>\n",
       "      <th>3</th>\n",
       "      <td>3</td>\n",
       "      <td>967.80</td>\n",
       "      <td>25.65</td>\n",
       "      <td>0.08</td>\n",
       "      <td>0.01</td>\n",
       "      <td>0.08</td>\n",
       "      <td>0.09</td>\n",
       "      <td>0.06</td>\n",
       "      <td>11.96</td>\n",
       "    </tr>\n",
       "  </tbody>\n",
       "</table>\n",
       "</div>"
      ]
     },
     "metadata": {
      "application/vnd.databricks.v1+output": {
       "addedWidgets": {},
       "arguments": {},
       "data": "<div>\n<style scoped>\n    .dataframe tbody tr th:only-of-type {\n        vertical-align: middle;\n    }\n\n    .dataframe tbody tr th {\n        vertical-align: top;\n    }\n\n    .dataframe thead th {\n        text-align: right;\n    }\n</style>\n<table border=\"1\" class=\"dataframe\">\n  <thead>\n    <tr style=\"text-align: right;\">\n      <th></th>\n      <th>prediction</th>\n      <th>avg_Total_Spend</th>\n      <th>avg_NumTotalPurchases</th>\n      <th>avg_AcceptedCmp1</th>\n      <th>avg_AcceptedCmp2</th>\n      <th>avg_AcceptedCmp3</th>\n      <th>avg_AcceptedCmp4</th>\n      <th>avg_AcceptedCmp5</th>\n      <th>avg_Website_Engagement</th>\n    </tr>\n  </thead>\n  <tbody>\n    <tr>\n      <th>0</th>\n      <td>0</td>\n      <td>1,589.89</td>\n      <td>20.39</td>\n      <td>0.22</td>\n      <td>0.05</td>\n      <td>0.09</td>\n      <td>0.19</td>\n      <td>0.31</td>\n      <td>8.52</td>\n    </tr>\n    <tr>\n      <th>1</th>\n      <td>1</td>\n      <td>80.11</td>\n      <td>7.29</td>\n      <td>0.00</td>\n      <td>0.00</td>\n      <td>0.07</td>\n      <td>0.01</td>\n      <td>0.00</td>\n      <td>8.26</td>\n    </tr>\n    <tr>\n      <th>2</th>\n      <td>2</td>\n      <td>531.43</td>\n      <td>17.02</td>\n      <td>0.04</td>\n      <td>0.01</td>\n      <td>0.06</td>\n      <td>0.09</td>\n      <td>0.02</td>\n      <td>10.49</td>\n    </tr>\n    <tr>\n      <th>3</th>\n      <td>3</td>\n      <td>967.80</td>\n      <td>25.65</td>\n      <td>0.08</td>\n      <td>0.01</td>\n      <td>0.08</td>\n      <td>0.09</td>\n      <td>0.06</td>\n      <td>11.96</td>\n    </tr>\n  </tbody>\n</table>\n</div>",
       "datasetInfos": [],
       "metadata": {},
       "removedWidgets": [],
       "textData": null,
       "type": "htmlSandbox"
      }
     },
     "output_type": "display_data"
    }
   ],
   "source": [
    "# Define columns to profile (promotions + engagement)\n",
    "value_behavior_profile_columns = [\n",
    "    'Total_Spend',\n",
    "    'NumTotalPurchases',\n",
    "    'AcceptedCmp1',\n",
    "    'AcceptedCmp2',\n",
    "    'AcceptedCmp3',\n",
    "    'AcceptedCmp4',\n",
    "    'AcceptedCmp5',\n",
    "    'Website_Engagement'\n",
    "]\n",
    "\n",
    "# Build aggregation expressions\n",
    "value_behavior_agg_exprs = [ F.avg(col).alias(f'avg_{col}') for col in value_behavior_profile_columns ]\n",
    "\n",
    "# Compute cluster profile\n",
    "value_behavior_profile = value_behavior_clusters.groupBy('prediction').agg(*value_behavior_agg_exprs).orderBy('prediction')\n",
    "\n",
    "# Convert to pandas for better visualization\n",
    "value_behavior_profile_pd = value_behavior_profile.toPandas()\n",
    "pd.options.display.float_format = '{:,.2f}'.format\n",
    "\n",
    "# Show pandas table\n",
    "value_behavior_profile_pd"
   ]
  },
  {
   "cell_type": "markdown",
   "metadata": {
    "application/vnd.databricks.v1+cell": {
     "cellMetadata": {
      "byteLimit": 2048000,
      "rowLimit": 10000
     },
     "inputWidgets": {},
     "nuid": "8bbf4ee4-6eb3-4a81-b3f3-e80c976e0b64",
     "showTitle": false,
     "tableResultSettingsMap": {},
     "title": ""
    }
   },
   "source": [
    "#### Clustering Analysis\n",
    "**Cluster 0** - Very High Value Promo-driven buyers\n",
    "\n",
    "-> Highest Total_Spend = 1,589\n",
    "\n",
    "-> High NumPurchases = 20,39\n",
    "\n",
    "-> Heavy promo users: Cmp5 (0.31), Cmp1 (0.22), Cmp4 (0.19) - very responsive to campaigns\n",
    "\n",
    "-> Website Engagement average = 8.52\n",
    "\n",
    "**Cluster 1** - \n",
    "\n",
    "-> Very low Total_Spend = 80\n",
    "\n",
    "-> Low NumPurchases = 7.29\n",
    "\n",
    "-> No promotions used - all 0 or close to 0\n",
    "\n",
    "-> Website Engagement = 8.26 , lowest\n",
    "\n",
    "**Cluster 2**\n",
    "\n",
    "-> Medium Total_Spend = 531\n",
    "\n",
    "-> Moderate NumPurchases = 17.02\n",
    "\n",
    "-> Very low promotions used\n",
    "\n",
    "**Cluster 3**\n",
    "\n",
    "-> High NumPurchases = 25.65 ; highest\n",
    "\n",
    "-> High-moderate Total_Spend = 967\n",
    "\n",
    "-> Low promo use but not zero, some light engagement\n",
    "\n",
    "-> Highest Website Engagement = 11.96"
   ]
  }
 ],
 "metadata": {
  "application/vnd.databricks.v1+notebook": {
   "computePreferences": null,
   "dashboards": [],
   "environmentMetadata": {
    "base_environment": "",
    "environment_version": "1"
   },
   "inputWidgetPreferences": null,
   "language": "python",
   "notebookMetadata": {
    "pythonIndentUnit": 4
   },
   "notebookName": "Clustering",
   "widgets": {}
  }
 },
 "nbformat": 4,
 "nbformat_minor": 0
}