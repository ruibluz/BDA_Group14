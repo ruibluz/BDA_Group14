{
 "cells": [
  {
   "cell_type": "markdown",
   "metadata": {
    "application/vnd.databricks.v1+cell": {
     "cellMetadata": {
      "byteLimit": 2048000,
      "rowLimit": 10000
     },
     "inputWidgets": {},
     "nuid": "bd42bf5c-b3dc-4a19-81ab-f200d124bdf0",
     "showTitle": false,
     "tableResultSettingsMap": {},
     "title": ""
    }
   },
   "source": [
    "# Setup"
   ]
  },
  {
   "cell_type": "code",
   "execution_count": 0,
   "metadata": {
    "application/vnd.databricks.v1+cell": {
     "cellMetadata": {
      "byteLimit": 2048000,
      "rowLimit": 10000
     },
     "inputWidgets": {},
     "nuid": "a9d187a0-b3b4-4039-9329-b862396997ce",
     "showTitle": false,
     "tableResultSettingsMap": {},
     "title": ""
    }
   },
   "outputs": [],
   "source": [
    "import pandas as pd\n",
    "import numpy as np\n",
    "import matplotlib.pyplot as plt\n",
    "import seaborn as sns\n",
    "\n",
    "from pyspark.sql.functions import year, max as spark_max, lit, col, count, avg\n",
    "from pyspark.ml.feature import VectorAssembler, StringIndexer, OneHotEncoder, StandardScaler\n",
    "from pyspark.ml import Pipeline\n",
    "from pyspark.ml.clustering import KMeans, GaussianMixture\n",
    "from pyspark.ml.evaluation import ClusteringEvaluator"
   ]
  },
  {
   "cell_type": "code",
   "execution_count": 0,
   "metadata": {
    "application/vnd.databricks.v1+cell": {
     "cellMetadata": {
      "byteLimit": 2048000,
      "rowLimit": 10000
     },
     "inputWidgets": {},
     "nuid": "bab13765-0b7c-4a2a-a1bf-b04e71790c9d",
     "showTitle": false,
     "tableResultSettingsMap": {},
     "title": ""
    }
   },
   "outputs": [
    {
     "output_type": "stream",
     "name": "stdout",
     "output_type": "stream",
     "text": [
      "+----------+----------+--------------+-------+-------+--------+-------+--------+---------+---------------+---------------+----------------+------------+-----------------+---------------+-------------------+-----------------+-----------------+------------+------------+------------+------------+------------+--------+--------+-----------+-----------------+--------+-------------+-----------------------+------------------+---+\n|Year_Birth| Education|Marital_Status| Income|Kidhome|Teenhome|Recency|MntWines|MntFruits|MntMeatProducts|MntFishProducts|MntSweetProducts|MntGoldProds|NumDealsPurchases|NumWebPurchases|NumCatalogPurchases|NumStorePurchases|NumWebVisitsMonth|AcceptedCmp3|AcceptedCmp4|AcceptedCmp5|AcceptedCmp1|AcceptedCmp2|Complain|Response|Total_Spend|NumTotalPurchases|Children|Days_Customer|AcceptedCampaigns_Total|Website_Engagement|Age|\n+----------+----------+--------------+-------+-------+--------+-------+--------+---------+---------------+---------------+----------------+------------+-----------------+---------------+-------------------+-----------------+-----------------+------------+------------+------------+------------+------------+--------+--------+-----------+-----------------+--------+-------------+-----------------------+------------------+---+\n|      1957|Graduation|        Single|58138.0|      0|       0|     58|     635|       88|            546|            172|              88|          88|                3|              8|                 10|                4|                7|           0|           0|           0|           0|           0|       0|       1|       1617|               25|       0|          663|                      1|                15| 57|\n|      1954|Graduation|        Single|46344.0|      1|       1|     38|      11|        1|              6|              2|               1|           6|                2|              1|                  1|                2|                5|           0|           0|           0|           0|           0|       0|       0|         27|                6|       2|          113|                      0|                 6| 60|\n|      1965|Graduation|      Together|71613.0|      0|       0|     26|     426|       49|            127|            111|              21|          42|                1|              8|                  2|               10|                4|           0|           0|           0|           0|           0|       0|       0|        776|               21|       0|          312|                      0|                12| 49|\n|      1984|Graduation|      Together|26646.0|      1|       0|     26|      11|        4|             20|             10|               3|           5|                2|              2|                  0|                4|                6|           0|           0|           0|           0|           0|       0|       0|         53|                8|       1|          139|                      0|                 8| 30|\n|      1981|       PhD|       Married|58293.0|      1|       0|     94|     173|       43|            118|             46|              27|          15|                5|              5|                  3|                6|                5|           0|           0|           0|           0|           0|       0|       0|        422|               19|       1|          161|                      0|                10| 33|\n|      1967|    Master|      Together|62513.0|      0|       1|     16|     520|       42|             98|              0|              42|          14|                2|              6|                  4|               10|                6|           0|           0|           0|           0|           0|       0|       0|        716|               22|       1|          293|                      0|                12| 47|\n|      1971|Graduation|      Divorced|55635.0|      0|       1|     34|     235|       65|            164|             50|              49|          27|                4|              7|                  3|                7|                6|           0|           0|           0|           0|           0|       0|       0|        590|               21|       1|          593|                      0|                13| 43|\n|      1985|       PhD|       Married|33454.0|      1|       0|     32|      76|       10|             56|              3|               1|          23|                2|              4|                  0|                4|                8|           0|           0|           0|           0|           0|       0|       0|        169|               10|       1|          417|                      0|                12| 29|\n|      1974|       PhD|      Together|30351.0|      1|       0|     19|      14|        0|             24|              3|               3|           2|                1|              3|                  0|                2|                9|           0|           0|           0|           0|           0|       0|       1|         46|                6|       1|          388|                      1|                12| 40|\n|      1950|       PhD|      Together| 5648.0|      1|       1|     68|      28|        0|              6|              1|               1|          13|                1|              1|                  0|                0|               20|           1|           0|           0|           0|           0|       0|       0|         49|                2|       2|          108|                      1|                21| 64|\n|      1976|     Basic|       Married| 7500.0|      0|       0|     59|       6|       16|             11|             11|               1|          16|                1|              2|                  0|                3|                8|           0|           0|           0|           0|           0|       0|       0|         61|                6|       0|          593|                      0|                10| 38|\n|      1959|Graduation|      Divorced|63033.0|      0|       0|     82|     194|       61|            480|            225|             112|          30|                1|              3|                  4|                8|                2|           0|           0|           0|           0|           0|       0|       0|       1102|               16|       0|          226|                      0|                 5| 55|\n|      1952|    Master|      Divorced|59354.0|      1|       1|     53|     233|        2|             53|              3|               5|          14|                3|              6|                  1|                5|                6|           0|           0|           0|           0|           0|       0|       0|        310|               15|       2|          226|                      0|                12| 62|\n|      1987|Graduation|       Married|17323.0|      0|       0|     38|       3|       14|             17|              6|               1|           5|                1|              1|                  0|                3|                8|           0|           0|           0|           0|           0|       0|       0|         46|                5|       0|          627|                      0|                 9| 27|\n|      1946|       PhD|        Single|82800.0|      0|       0|     23|    1006|       22|            115|             59|              68|          45|                1|              7|                  6|               12|                3|           0|           0|           1|           1|           0|       0|       1|       1315|               26|       0|          582|                      3|                10| 68|\n|      1980|Graduation|       Married|41850.0|      1|       1|     51|      53|        5|             19|              2|              13|           4|                3|              3|                  0|                3|                8|           0|           0|           0|           0|           0|       0|       0|         96|                9|       2|          552|                      0|                11| 34|\n|      1946|Graduation|      Together|37760.0|      0|       0|     20|      84|        5|             38|            150|              12|          28|                2|              4|                  1|                6|                7|           0|           0|           0|           0|           0|       0|       0|        317|               13|       0|          667|                      0|                11| 68|\n|      1949|    Master|       Married|76995.0|      0|       1|     91|    1012|       80|            498|              0|              16|         176|                2|             11|                  4|                9|                5|           0|           0|           0|           1|           0|       0|       0|       1782|               26|       1|          458|                      1|                16| 65|\n|      1985|  2n Cycle|        Single|33812.0|      1|       0|     86|       4|       17|             19|             30|              24|          39|                2|              2|                  1|                3|                6|           0|           0|           0|           0|           0|       0|       0|        133|                8|       1|          603|                      0|                 8| 29|\n|      1982|Graduation|       Married|37040.0|      0|       0|     41|      86|        2|             73|             69|              38|          48|                1|              4|                  2|                5|                8|           0|           0|           0|           0|           0|       0|       0|        316|               12|       0|          690|                      0|                12| 32|\n+----------+----------+--------------+-------+-------+--------+-------+--------+---------+---------------+---------------+----------------+------------+-----------------+---------------+-------------------+-----------------+-----------------+------------+------------+------------+------------+------------+--------+--------+-----------+-----------------+--------+-------------+-----------------------+------------------+---+\nonly showing top 20 rows\n\n"
     ]
    }
   ],
   "source": [
    "df = spark.read.csv(\"dbfs:/FileStore/tables/marketing_campaign_preprocess.csv\", header=True, inferSchema=True)\n",
    "df.show()"
   ]
  },
  {
   "cell_type": "code",
   "execution_count": 0,
   "metadata": {
    "application/vnd.databricks.v1+cell": {
     "cellMetadata": {
      "byteLimit": 2048000,
      "rowLimit": 10000
     },
     "inputWidgets": {},
     "nuid": "3cb143a2-2024-4c7b-9ec1-d38c6b389a12",
     "showTitle": false,
     "tableResultSettingsMap": {},
     "title": ""
    }
   },
   "outputs": [],
   "source": [
    "metric_features = [\n",
    "    \"Income\",\n",
    "    \"Recency\",\n",
    "    \"Total_Spend\",\n",
    "    \"Days_Customer\",\n",
    "    \"Age\",\n",
    "    \"MntWines\",\n",
    "    \"MntFruits\",\n",
    "    \"MntMeatProducts\",\n",
    "    \"MntFishProducts\",\n",
    "    \"MntSweetProducts\",\n",
    "    \"MntGoldProds\",\n",
    "    \"NumTotalPurchases\",\n",
    "    \"Children\",\n",
    "    \"AcceptedCampaigns_Total\",\n",
    "    \"Website_Engagement\",\n",
    "    \"NumDealsPurchases\",\n",
    "    \"NumWebPurchases\",\n",
    "    \"NumCatalogPurchases\",\n",
    "    \"NumStorePurchases\",\n",
    "    \"NumWebVisitsMonth\", \n",
    "    \"Kidhome\",\n",
    "    \"Teenhome\",\n",
    "    \"Year_Birth\"\n",
    "]"
   ]
  },
  {
   "cell_type": "code",
   "execution_count": 0,
   "metadata": {
    "application/vnd.databricks.v1+cell": {
     "cellMetadata": {
      "byteLimit": 2048000,
      "rowLimit": 10000
     },
     "inputWidgets": {},
     "nuid": "7de32c64-4c03-4b5a-83b2-44c53dd9cdee",
     "showTitle": false,
     "tableResultSettingsMap": {},
     "title": ""
    }
   },
   "outputs": [],
   "source": [
    "non_metric_features = [\n",
    "    \"Education\",\n",
    "    \"Marital_Status\",\n",
    "    \"Complain\",\n",
    "    \"Response\",\n",
    "    \"AcceptedCmp1\",\n",
    "    \"AcceptedCmp2\",\n",
    "    \"AcceptedCmp3\",\n",
    "    \"AcceptedCmp4\",\n",
    "    \"AcceptedCmp5\"\n",
    "]"
   ]
  },
  {
   "cell_type": "code",
   "execution_count": 0,
   "metadata": {
    "application/vnd.databricks.v1+cell": {
     "cellMetadata": {
      "byteLimit": 2048000,
      "rowLimit": 10000
     },
     "inputWidgets": {},
     "nuid": "e9285762-3bfc-461b-b385-12008c8ea3d5",
     "showTitle": false,
     "tableResultSettingsMap": {},
     "title": ""
    }
   },
   "outputs": [
    {
     "output_type": "stream",
     "name": "stdout",
     "output_type": "stream",
     "text": [
      "root\n |-- Year_Birth: integer (nullable = true)\n |-- Education: string (nullable = true)\n |-- Marital_Status: string (nullable = true)\n |-- Income: double (nullable = true)\n |-- Kidhome: integer (nullable = true)\n |-- Teenhome: integer (nullable = true)\n |-- Recency: integer (nullable = true)\n |-- MntWines: integer (nullable = true)\n |-- MntFruits: integer (nullable = true)\n |-- MntMeatProducts: integer (nullable = true)\n |-- MntFishProducts: integer (nullable = true)\n |-- MntSweetProducts: integer (nullable = true)\n |-- MntGoldProds: integer (nullable = true)\n |-- NumDealsPurchases: integer (nullable = true)\n |-- NumWebPurchases: integer (nullable = true)\n |-- NumCatalogPurchases: integer (nullable = true)\n |-- NumStorePurchases: integer (nullable = true)\n |-- NumWebVisitsMonth: integer (nullable = true)\n |-- AcceptedCmp3: integer (nullable = true)\n |-- AcceptedCmp4: integer (nullable = true)\n |-- AcceptedCmp5: integer (nullable = true)\n |-- AcceptedCmp1: integer (nullable = true)\n |-- AcceptedCmp2: integer (nullable = true)\n |-- Complain: integer (nullable = true)\n |-- Response: integer (nullable = true)\n |-- Total_Spend: integer (nullable = true)\n |-- NumTotalPurchases: integer (nullable = true)\n |-- Children: integer (nullable = true)\n |-- Days_Customer: integer (nullable = true)\n |-- AcceptedCampaigns_Total: integer (nullable = true)\n |-- Website_Engagement: integer (nullable = true)\n |-- Age: integer (nullable = true)\n\n"
     ]
    }
   ],
   "source": [
    "df.printSchema()"
   ]
  },
  {
   "cell_type": "code",
   "execution_count": 0,
   "metadata": {
    "application/vnd.databricks.v1+cell": {
     "cellMetadata": {
      "byteLimit": 2048000,
      "rowLimit": 10000
     },
     "inputWidgets": {},
     "nuid": "6bc166c2-cea4-4631-95fc-7f4cc790d1d3",
     "showTitle": false,
     "tableResultSettingsMap": {},
     "title": ""
    }
   },
   "outputs": [],
   "source": [
    "# Encode categorical columns\n",
    "education_indexer = StringIndexer(inputCol='Education', outputCol='EducationIndex')\n",
    "marital_indexer = StringIndexer(inputCol='Marital_Status', outputCol='MaritalStatusIndex')\n",
    "\n",
    "# OneHotEncode indexed columns\n",
    "education_encoder = OneHotEncoder(inputCol='EducationIndex', outputCol='EducationVec')\n",
    "marital_encoder = OneHotEncoder(inputCol='MaritalStatusIndex', outputCol='MaritalStatusVec')"
   ]
  },
  {
   "cell_type": "code",
   "execution_count": 0,
   "metadata": {
    "application/vnd.databricks.v1+cell": {
     "cellMetadata": {
      "byteLimit": 2048000,
      "rowLimit": 10000
     },
     "inputWidgets": {},
     "nuid": "59891d14-fd1c-4c08-ba7d-b1ed28f8639f",
     "showTitle": false,
     "tableResultSettingsMap": {},
     "title": ""
    }
   },
   "outputs": [],
   "source": [
    "# define columns to scale\n",
    "scaled_columns = [\n",
    "    'Income',\n",
    "    'Recency',\n",
    "    'MntWines',\n",
    "    'MntFruits',\n",
    "    'MntMeatProducts',\n",
    "    'MntFishProducts',\n",
    "    'MntSweetProducts',\n",
    "    'MntGoldProds',\n",
    "    'NumDealsPurchases',\n",
    "    'NumWebPurchases',\n",
    "    'NumCatalogPurchases',\n",
    "    'NumStorePurchases',\n",
    "    'NumWebVisitsMonth',\n",
    "    'Total_Spend',\n",
    "    'NumTotalPurchases',\n",
    "    'Website_Engagement',\n",
    "    'Age',\n",
    "    'Days_Customer'\n",
    "]"
   ]
  },
  {
   "cell_type": "code",
   "execution_count": 0,
   "metadata": {
    "application/vnd.databricks.v1+cell": {
     "cellMetadata": {
      "byteLimit": 2048000,
      "rowLimit": 10000
     },
     "inputWidgets": {},
     "nuid": "2d6f7efd-7d56-4655-81f0-7a05918948ef",
     "showTitle": false,
     "tableResultSettingsMap": {},
     "title": ""
    }
   },
   "outputs": [],
   "source": [
    "# columns not scaled (binary / small counts)\n",
    "binary_columns = [\n",
    "    'Kidhome',\n",
    "    'Teenhome',\n",
    "    'Children',\n",
    "    'Complain',\n",
    "    'AcceptedCmp3',\n",
    "    'AcceptedCmp4',\n",
    "    'AcceptedCmp5',\n",
    "    'AcceptedCmp1',\n",
    "    'AcceptedCmp2',\n",
    "    'Response',\n",
    "    'AcceptedCampaigns_Total'\n",
    "]"
   ]
  },
  {
   "cell_type": "code",
   "execution_count": 0,
   "metadata": {
    "application/vnd.databricks.v1+cell": {
     "cellMetadata": {
      "byteLimit": 2048000,
      "rowLimit": 10000
     },
     "inputWidgets": {},
     "nuid": "cc2504af-a87c-4d4e-8c77-b2f219a084f0",
     "showTitle": false,
     "tableResultSettingsMap": {},
     "title": ""
    }
   },
   "outputs": [],
   "source": [
    "# encoded categorical columns\n",
    "encoded_columns = [\n",
    "    'EducationVec',\n",
    "    'MaritalStatusVec'\n",
    "]"
   ]
  },
  {
   "cell_type": "code",
   "execution_count": 0,
   "metadata": {
    "application/vnd.databricks.v1+cell": {
     "cellMetadata": {
      "byteLimit": 2048000,
      "rowLimit": 10000
     },
     "inputWidgets": {},
     "nuid": "00c91a98-f56a-4a62-870f-1cd2088cfa0a",
     "showTitle": false,
     "tableResultSettingsMap": {},
     "title": ""
    }
   },
   "outputs": [],
   "source": [
    "# assemble continuous features\n",
    "continuous_assembler = VectorAssembler(\n",
    "    inputCols=scaled_columns,\n",
    "    outputCol='continuousFeatures'\n",
    ")\n",
    "\n",
    "# scale continuous features\n",
    "scaler = StandardScaler(\n",
    "    inputCol='continuousFeatures',\n",
    "    outputCol='scaledContinuousFeatures',\n",
    "    withStd=True,\n",
    "    withMean=True\n",
    ")"
   ]
  },
  {
   "cell_type": "code",
   "execution_count": 0,
   "metadata": {
    "application/vnd.databricks.v1+cell": {
     "cellMetadata": {
      "byteLimit": 2048000,
      "rowLimit": 10000
     },
     "inputWidgets": {},
     "nuid": "f2c4002f-d6b5-4c8b-83ba-8d69b9345204",
     "showTitle": false,
     "tableResultSettingsMap": {},
     "title": ""
    }
   },
   "outputs": [],
   "source": [
    "# assemble binary and encoded columns\n",
    "other_assembler = VectorAssembler(\n",
    "    inputCols=binary_columns + encoded_columns,\n",
    "    outputCol='otherFeatures'\n",
    ")"
   ]
  },
  {
   "cell_type": "code",
   "execution_count": 0,
   "metadata": {
    "application/vnd.databricks.v1+cell": {
     "cellMetadata": {
      "byteLimit": 2048000,
      "rowLimit": 10000
     },
     "inputWidgets": {},
     "nuid": "0a08e3a8-d58f-4c48-b007-e9f90ac3f73e",
     "showTitle": false,
     "tableResultSettingsMap": {},
     "title": ""
    }
   },
   "outputs": [],
   "source": [
    "final_assembler = VectorAssembler(\n",
    "    inputCols=['scaledContinuousFeatures', 'otherFeatures'],\n",
    "    outputCol='finalFeatures'\n",
    ")"
   ]
  },
  {
   "cell_type": "code",
   "execution_count": 0,
   "metadata": {
    "application/vnd.databricks.v1+cell": {
     "cellMetadata": {
      "byteLimit": 2048000,
      "rowLimit": 10000
     },
     "inputWidgets": {},
     "nuid": "9217c23a-6bb7-4843-9b0c-e0ae1a0962da",
     "showTitle": false,
     "tableResultSettingsMap": {},
     "title": ""
    }
   },
   "outputs": [],
   "source": [
    "pipeline = Pipeline(stages=[\n",
    "    education_indexer,\n",
    "    marital_indexer,\n",
    "    education_encoder,\n",
    "    marital_encoder,\n",
    "    continuous_assembler,\n",
    "    scaler,\n",
    "    other_assembler,\n",
    "    final_assembler\n",
    "])\n",
    "\n",
    "# Fit and transform\n",
    "pipeline_model = pipeline.fit(df)\n",
    "df_prepared = pipeline_model.transform(df)"
   ]
  },
  {
   "cell_type": "markdown",
   "metadata": {
    "application/vnd.databricks.v1+cell": {
     "cellMetadata": {
      "byteLimit": 2048000,
      "rowLimit": 10000
     },
     "inputWidgets": {},
     "nuid": "6e486d7d-0d2d-450f-aaea-9e6e671704a2",
     "showTitle": false,
     "tableResultSettingsMap": {},
     "title": ""
    }
   },
   "source": [
    "# Gaussian Mixture Model (GMM)\n",
    "\n",
    "A Gaussian Mixture Model assumes that the data is generated from a mixture of several Gaussian distributions, each representing a different cluster.\n",
    "\n",
    "Unlike K-Means, which assigns each point to a single cluster, GMM performs soft clustering, meaning:\n",
    "\n",
    "- Each customer belongs to each cluster with a certain probabilistic membership, which brings deeper customer insights\n",
    "- Clusters can be elliptical and overlapping, making GMM more flexible handling non-spherical clusters\n",
    "\n",
    "This is particularly useful in customer segmentation, where behaviors often blend across groups (e.g., high spenders with moderate engagement).\n"
   ]
  },
  {
   "cell_type": "markdown",
   "metadata": {
    "application/vnd.databricks.v1+cell": {
     "cellMetadata": {
      "byteLimit": 2048000,
      "rowLimit": 10000
     },
     "inputWidgets": {},
     "nuid": "1accda8d-4eb2-4eea-bde2-fa54e88e321d",
     "showTitle": false,
     "tableResultSettingsMap": {},
     "title": ""
    }
   },
   "source": [
    "## Perspective-Based Customer Segmentations\n",
    "\n",
    "To create more insightful customer profiles, we will segment the dataset from three distinct perspectives:\n",
    "\n",
    "1. **Monetary** – Based on financial value and spending behavior.\n",
    "2. **Behavioral & Engagement** – Based on customer activity and interaction with channels.\n",
    "3. **Demographic** – Based on personal and household characteristics.\n",
    "\n",
    "Each perspective will be treated independently to uncover unique patterns from each angle."
   ]
  },
  {
   "cell_type": "markdown",
   "metadata": {
    "application/vnd.databricks.v1+cell": {
     "cellMetadata": {},
     "inputWidgets": {},
     "nuid": "55b259b4-14ef-4738-a63d-6eb1c33d5604",
     "showTitle": false,
     "tableResultSettingsMap": {},
     "title": ""
    }
   },
   "source": [
    "### Why We Chose to Keep Outliers in Customer Segmentation\n",
    "\n",
    "In this project, we decided **not to remove outliers before applying the Gaussian Mixture Model (GMM)**. Here's why:\n",
    "\n",
    "- In customer segmentation, **unusual or extreme behavior is often meaningful** — not noise. For example, a small group of customers with exceptionally high spending or rare purchasing habits might represent **VIP clients** or **niche strategic targets**.\n",
    "  \n",
    "- GMM handles these cases **implicitly** by assigning low-probability data points to small, specialized clusters. This probabilistic approach allows the model to **adapt to unique behaviors** without explicitly labeling them as outliers.\n",
    "\n",
    "- Unlike methods like DBSCAN that classify outliers as noise, GMM treats all customers as valid members of some distribution — which aligns better with our goal of **understanding the full diversity of customer profiles**.\n",
    "\n",
    "Therefore, retaining outliers in the dataset helps us capture the richness and variety of real-world customer behavior — a valuable insight in marketing and business decision-making.\n"
   ]
  },
  {
   "cell_type": "markdown",
   "metadata": {
    "application/vnd.databricks.v1+cell": {
     "cellMetadata": {},
     "inputWidgets": {},
     "nuid": "0ef38130-9074-4cf0-bf5e-035336145048",
     "showTitle": false,
     "tableResultSettingsMap": {},
     "title": ""
    }
   },
   "source": [
    "---"
   ]
  },
  {
   "cell_type": "markdown",
   "metadata": {
    "application/vnd.databricks.v1+cell": {
     "cellMetadata": {
      "byteLimit": 2048000,
      "rowLimit": 10000
     },
     "inputWidgets": {},
     "nuid": "7c1eee8a-7240-4853-8d1b-8176e16912d9",
     "showTitle": false,
     "tableResultSettingsMap": {},
     "title": ""
    }
   },
   "source": [
    "### 1. Monetary Segmentation\n",
    "\n",
    "This segmentation aims to group customers according to their financial value, focusing on their spending habits and income levels.\n",
    "\n",
    "**Selected features:**\n",
    "- Income level (`Income`)\n",
    "- Total spending (`Total_Spend`)\n",
    "- Spending by product category (`MntWines`, `MntFruits`, etc.)"
   ]
  },
  {
   "cell_type": "code",
   "execution_count": 0,
   "metadata": {
    "application/vnd.databricks.v1+cell": {
     "cellMetadata": {
      "byteLimit": 2048000,
      "rowLimit": 10000
     },
     "inputWidgets": {},
     "nuid": "33d1cd5c-d500-4da3-8ec9-63d6884300e2",
     "showTitle": false,
     "tableResultSettingsMap": {},
     "title": ""
    }
   },
   "outputs": [],
   "source": [
    "# Define monetary features\n",
    "monetary_features = [\n",
    "    \"Income\", \"Total_Spend\", \n",
    "    \"MntWines\", \"MntFruits\", \"MntMeatProducts\", \n",
    "    \"MntFishProducts\", \"MntSweetProducts\", \"MntGoldProds\"\n",
    "]\n",
    "\n",
    "assembler = VectorAssembler(inputCols=monetary_features, outputCol=\"monetary_vector\")\n",
    "scaler = StandardScaler(inputCol=\"monetary_vector\", outputCol=\"monetary_scaled\")\n",
    "\n",
    "pipeline = Pipeline(stages=[assembler, scaler])\n",
    "df_monetary = pipeline.fit(df).transform(df)"
   ]
  },
  {
   "cell_type": "code",
   "execution_count": 0,
   "metadata": {
    "application/vnd.databricks.v1+cell": {
     "cellMetadata": {
      "byteLimit": 2048000,
      "rowLimit": 10000
     },
     "inputWidgets": {},
     "nuid": "32349571-2ea4-43dc-be32-69d79ffdaf06",
     "showTitle": false,
     "tableResultSettingsMap": {},
     "title": ""
    }
   },
   "outputs": [
    {
     "output_type": "display_data",
     "data": {
      "text/html": [
       "<style scoped>\n",
       "  .table-result-container {\n",
       "    max-height: 300px;\n",
       "    overflow: auto;\n",
       "  }\n",
       "  table, th, td {\n",
       "    border: 1px solid black;\n",
       "    border-collapse: collapse;\n",
       "  }\n",
       "  th, td {\n",
       "    padding: 5px;\n",
       "  }\n",
       "  th {\n",
       "    text-align: left;\n",
       "  }\n",
       "</style><div class='table-result-container'><table class='table-result'><thead style='background-color: white'><tr><th>k</th><th>log_likelihood</th></tr></thead><tbody><tr><td>2</td><td>-12918.5552689928</td></tr><tr><td>3</td><td>-11143.547726172994</td></tr><tr><td>4</td><td>-10888.963088176659</td></tr><tr><td>5</td><td>-8185.709334271427</td></tr><tr><td>6</td><td>-10024.033038703154</td></tr><tr><td>7</td><td>-8230.764698098086</td></tr><tr><td>8</td><td>-9067.652987319749</td></tr><tr><td>9</td><td>-8571.55672530669</td></tr><tr><td>10</td><td>-9320.528259582537</td></tr></tbody></table></div>"
      ]
     },
     "metadata": {
      "application/vnd.databricks.v1+output": {
       "addedWidgets": {},
       "aggData": [],
       "aggError": "",
       "aggOverflow": false,
       "aggSchema": [],
       "aggSeriesLimitReached": false,
       "aggType": "",
       "arguments": {},
       "columnCustomDisplayInfos": {},
       "data": [
        [
         2,
         -12918.5552689928
        ],
        [
         3,
         -11143.547726172994
        ],
        [
         4,
         -10888.963088176659
        ],
        [
         5,
         -8185.709334271427
        ],
        [
         6,
         -10024.033038703154
        ],
        [
         7,
         -8230.764698098086
        ],
        [
         8,
         -9067.652987319749
        ],
        [
         9,
         -8571.55672530669
        ],
        [
         10,
         -9320.528259582537
        ]
       ],
       "datasetInfos": [],
       "dbfsResultPath": null,
       "isJsonSchema": true,
       "metadata": {},
       "overflow": false,
       "plotOptions": {
        "customPlotOptions": {},
        "displayType": "table",
        "pivotAggregation": null,
        "pivotColumns": null,
        "xColumns": null,
        "yColumns": null
       },
       "removedWidgets": [],
       "schema": [
        {
         "metadata": "{}",
         "name": "k",
         "type": "\"long\""
        },
        {
         "metadata": "{}",
         "name": "log_likelihood",
         "type": "\"double\""
        }
       ],
       "type": "table"
      }
     },
     "output_type": "display_data"
    }
   ],
   "source": [
    "results = []\n",
    "\n",
    "for k in range(2, 11):\n",
    "    gmm = GaussianMixture(featuresCol=\"monetary_scaled\", k=k)\n",
    "    model = gmm.fit(df_monetary)\n",
    "    log_likelihood = model.summary.logLikelihood\n",
    "    results.append((k, log_likelihood))\n",
    "\n",
    "# Save results to DataFrame\n",
    "log_df = pd.DataFrame(results, columns=[\"k\", \"log_likelihood\"])\n",
    "display(log_df)"
   ]
  },
  {
   "cell_type": "code",
   "execution_count": 0,
   "metadata": {
    "application/vnd.databricks.v1+cell": {
     "cellMetadata": {
      "byteLimit": 2048000,
      "rowLimit": 10000
     },
     "inputWidgets": {},
     "nuid": "071b6163-e733-4570-8ef9-9ac3dc1516c1",
     "showTitle": false,
     "tableResultSettingsMap": {},
     "title": ""
    }
   },
   "outputs": [
    {
     "output_type": "display_data",
     "data": {
      "image/png": "[encoded data removed]"
     },
     "metadata": {
      "application/vnd.databricks.v1+output": {
       "addedWidgets": {},
       "arguments": {},
       "data": "data:image/png;base64,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\n",
       "datasetInfos": [],
       "metadata": {},
       "removedWidgets": [],
       "type": "image"
      }
     },
     "output_type": "display_data"
    }
   ],
   "source": [
    "plt.figure(figsize=(8, 5))\n",
    "plt.plot(log_df[\"k\"], log_df[\"log_likelihood\"], marker='o')\n",
    "plt.xlabel(\"Number of Clusters (k)\")\n",
    "plt.ylabel(\"Log Likelihood\")\n",
    "plt.title(\"Monetary Segmentation – Log Likelihood per K\")\n",
    "plt.grid(True)\n",
    "plt.show()"
   ]
  },
  {
   "cell_type": "code",
   "execution_count": 0,
   "metadata": {
    "application/vnd.databricks.v1+cell": {
     "cellMetadata": {
      "byteLimit": 2048000,
      "rowLimit": 10000
     },
     "inputWidgets": {},
     "nuid": "3c3b7fb6-e1e7-47e5-b789-eb13d1e1bd64",
     "showTitle": false,
     "tableResultSettingsMap": {},
     "title": ""
    }
   },
   "outputs": [
    {
     "output_type": "stream",
     "name": "stdout",
     "output_type": "stream",
     "text": [
      "+----------+-----+\n|prediction|count|\n+----------+-----+\n|         3| 1695|\n|         2|  278|\n|         4|  233|\n|         1|   10|\n+----------+-----+\n\n"
     ]
    }
   ],
   "source": [
    "best_k = 5\n",
    "\n",
    "gmm_final = GaussianMixture(featuresCol=\"monetary_scaled\", k=best_k)\n",
    "model_final = gmm_final.fit(df_monetary)\n",
    "df_monetary_clustered = model_final.transform(df_monetary)\n",
    "\n",
    "df_monetary_clustered.select(\"prediction\").groupBy(\"prediction\").count().orderBy(\"count\", ascending=False).show()"
   ]
  },
  {
   "cell_type": "markdown",
   "metadata": {
    "application/vnd.databricks.v1+cell": {
     "cellMetadata": {},
     "inputWidgets": {},
     "nuid": "7b648de6-6124-4aca-b658-5641b9bce384",
     "showTitle": false,
     "tableResultSettingsMap": {},
     "title": ""
    }
   },
   "source": [
    "The resulting cluster sizes from the Gaussian Mixture Model are quite unbalanced:\n",
    "\n",
    "- One cluster (Cluster 3) contains **the vast majority of clients**, suggesting a dominant customer profile.\n",
    "- Two medium-sized clusters (Clusters 0 and 2) represent **distinct but less common segments**.\n",
    "- One very small cluster (Cluster 1) contains **only 10 clients**, which may indicate **outliers** or a **very niche high-value group**.\n",
    "\n",
    "This distribution is typical in real-world datasets, where the majority of customers fall into a general profile, and only a small number exhibit extreme behaviors (e.g., very high spenders).\n"
   ]
  },
  {
   "cell_type": "markdown",
   "metadata": {
    "application/vnd.databricks.v1+cell": {
     "cellMetadata": {},
     "inputWidgets": {},
     "nuid": "803eb67b-b120-4e3d-b146-77414987a06f",
     "showTitle": false,
     "tableResultSettingsMap": {},
     "title": ""
    }
   },
   "source": [
    "### Why the Gaussian Mixture Model Returned Only 4 Clusters When k=5\n",
    "\n",
    "Although we selected **k = 5** based on the Log Likelihood curve — which showed a significant improvement up to k=5 — the Gaussian Mixture Model (GMM) effectively returned **only 4 active clusters**.\n",
    "\n",
    "This is not an error or a misconfiguration. GMM is a **probabilistic clustering model**, and when fitting the data, it may determine that:\n",
    "- One of the clusters is **redundant** or overlaps heavily with another.\n",
    "- The data points assigned to that component have **negligible probability**, causing it to collapse.\n",
    "- The model **automatically deactivates** that component due to its lack of contribution to the log likelihood.\n",
    "\n",
    "This behavior reflects the model's attempt to avoid overfitting by removing components that are not statistically meaningful.\n",
    "\n",
    "Therefore, although we set `k=5`, the model has objectively found that **4 distinct and relevant clusters** describe the monetary segmentation best."
   ]
  },
  {
   "cell_type": "code",
   "execution_count": 0,
   "metadata": {
    "application/vnd.databricks.v1+cell": {
     "cellMetadata": {
      "byteLimit": 2048000,
      "rowLimit": 10000
     },
     "inputWidgets": {},
     "nuid": "008ce506-cf68-4c57-b7bc-16b0af150c7b",
     "showTitle": false,
     "tableResultSettingsMap": {},
     "title": ""
    }
   },
   "outputs": [
    {
     "output_type": "stream",
     "name": "stdout",
     "output_type": "stream",
     "text": [
      "+----------+------------------+-----------------+------------------+------------------+--------------------+--------------------+---------------------+------------------+\n|prediction|       avg(Income)| avg(Total_Spend)|     avg(MntWines)|    avg(MntFruits)|avg(MntMeatProducts)|avg(MntFishProducts)|avg(MntSweetProducts)| avg(MntGoldProds)|\n+----------+------------------+-----------------+------------------+------------------+--------------------+--------------------+---------------------+------------------+\n|         1|          188901.7|            730.4|              21.9|               3.9|               670.3|                 3.6|                 27.3|               3.4|\n|         2| 34801.08633093525|36.84892086330935|21.863309352517987|  0.60431654676259|   8.661870503597122|   1.129496402877698|  0.46402877697841727| 4.125899280575539|\n|         3| 58341.97168141593|776.9982300884956| 394.0702064896755|33.736283185840705|   211.3976401179941|   48.08967551622419|   34.451917404129794| 55.25250737463127|\n|         4|22860.721030042918|46.00429184549356| 7.884120171673819| 4.356223175965665|  11.300429184549357|   6.622317596566524|     4.71244635193133|11.128755364806867|\n+----------+------------------+-----------------+------------------+------------------+--------------------+--------------------+---------------------+------------------+\n\n"
     ]
    }
   ],
   "source": [
    "# View the average values per cluster\n",
    "df_monetary_clustered.groupBy(\"prediction\").mean(*monetary_features).orderBy(\"prediction\").show()"
   ]
  },
  {
   "cell_type": "code",
   "execution_count": 0,
   "metadata": {
    "application/vnd.databricks.v1+cell": {
     "cellMetadata": {
      "byteLimit": 2048000,
      "rowLimit": 10000
     },
     "inputWidgets": {},
     "nuid": "59d69c01-c7d2-42a9-ad8e-a3237232f0f2",
     "showTitle": false,
     "tableResultSettingsMap": {},
     "title": ""
    }
   },
   "outputs": [
    {
     "output_type": "display_data",
     "data": {
      "text/html": [
       "<style scoped>\n",
       "  .table-result-container {\n",
       "    max-height: 300px;\n",
       "    overflow: auto;\n",
       "  }\n",
       "  table, th, td {\n",
       "    border: 1px solid black;\n",
       "    border-collapse: collapse;\n",
       "  }\n",
       "  th, td {\n",
       "    padding: 5px;\n",
       "  }\n",
       "  th {\n",
       "    text-align: left;\n",
       "  }\n",
       "</style><div class='table-result-container'><table class='table-result'><thead style='background-color: white'><tr><th>Income</th><th>Total_Spend</th><th>MntWines</th><th>MntFruits</th><th>MntMeatProducts</th><th>MntFishProducts</th><th>MntSweetProducts</th><th>MntGoldProds</th></tr></thead><tbody><tr><td>188901.7</td><td>730.4</td><td>21.9</td><td>3.9</td><td>670.3</td><td>3.6</td><td>27.3</td><td>3.4</td></tr><tr><td>34801.1</td><td>36.8</td><td>21.9</td><td>0.6</td><td>8.7</td><td>1.1</td><td>0.5</td><td>4.1</td></tr><tr><td>58342.0</td><td>777.0</td><td>394.1</td><td>33.7</td><td>211.4</td><td>48.1</td><td>34.5</td><td>55.3</td></tr><tr><td>22860.7</td><td>46.0</td><td>7.9</td><td>4.4</td><td>11.3</td><td>6.6</td><td>4.7</td><td>11.1</td></tr></tbody></table></div>"
      ]
     },
     "metadata": {
      "application/vnd.databricks.v1+output": {
       "addedWidgets": {},
       "aggData": [],
       "aggError": "",
       "aggOverflow": false,
       "aggSchema": [],
       "aggSeriesLimitReached": false,
       "aggType": "",
       "arguments": {},
       "columnCustomDisplayInfos": {},
       "data": [
        [
         "188901.7",
         "730.4",
         "21.9",
         "3.9",
         "670.3",
         "3.6",
         "27.3",
         "3.4"
        ],
        [
         "34801.1",
         "36.8",
         "21.9",
         "0.6",
         "8.7",
         "1.1",
         "0.5",
         "4.1"
        ],
        [
         "58342.0",
         "777.0",
         "394.1",
         "33.7",
         "211.4",
         "48.1",
         "34.5",
         "55.3"
        ],
        [
         "22860.7",
         "46.0",
         "7.9",
         "4.4",
         "11.3",
         "6.6",
         "4.7",
         "11.1"
        ]
       ],
       "datasetInfos": [],
       "dbfsResultPath": null,
       "isJsonSchema": true,
       "metadata": {},
       "overflow": false,
       "plotOptions": {
        "customPlotOptions": {},
        "displayType": "table",
        "pivotAggregation": null,
        "pivotColumns": null,
        "xColumns": null,
        "yColumns": null
       },
       "removedWidgets": [],
       "schema": [
        {
         "metadata": "{}",
         "name": "Income",
         "type": "\"string\""
        },
        {
         "metadata": "{}",
         "name": "Total_Spend",
         "type": "\"string\""
        },
        {
         "metadata": "{}",
         "name": "MntWines",
         "type": "\"string\""
        },
        {
         "metadata": "{}",
         "name": "MntFruits",
         "type": "\"string\""
        },
        {
         "metadata": "{}",
         "name": "MntMeatProducts",
         "type": "\"string\""
        },
        {
         "metadata": "{}",
         "name": "MntFishProducts",
         "type": "\"string\""
        },
        {
         "metadata": "{}",
         "name": "MntSweetProducts",
         "type": "\"string\""
        },
        {
         "metadata": "{}",
         "name": "MntGoldProds",
         "type": "\"string\""
        }
       ],
       "type": "table"
      }
     },
     "output_type": "display_data"
    }
   ],
   "source": [
    "summary_df = df_monetary_clustered.groupBy(\"prediction\").agg(\n",
    "    *[avg(col).alias(col) for col in monetary_features]\n",
    ").orderBy(\"prediction\")\n",
    "\n",
    "# Converter para Pandas\n",
    "summary_pd = summary_df.toPandas()\n",
    "\n",
    "# Formatar a tabela\n",
    "summary_pd.rename(columns={\"prediction\": \"Cluster\"}, inplace=True)\n",
    "summary_pd[\"Cluster\"] = summary_pd[\"Cluster\"].astype(int)\n",
    "summary_pd.set_index(\"Cluster\", inplace=True)\n",
    "\n",
    "# Arredondar e forçar uma casa decimal em todos os valores\n",
    "summary_pd = summary_pd.round(1)\n",
    "summary_pd = summary_pd.applymap(lambda x: f\"{x:.1f}\")\n",
    "\n",
    "# Mostrar tabela apelativa no Databricks\n",
    "display(summary_pd)\n"
   ]
  },
  {
   "cell_type": "code",
   "execution_count": 0,
   "metadata": {
    "application/vnd.databricks.v1+cell": {
     "cellMetadata": {
      "byteLimit": 2048000,
      "rowLimit": 10000
     },
     "inputWidgets": {},
     "nuid": "13bf9819-bacc-4bbc-8c16-1f4db8b45330",
     "showTitle": false,
     "tableResultSettingsMap": {},
     "title": ""
    }
   },
   "outputs": [
    {
     "output_type": "display_data",
     "data": {
      "text/html": [
       "<style scoped>\n",
       "  .table-result-container {\n",
       "    max-height: 300px;\n",
       "    overflow: auto;\n",
       "  }\n",
       "  table, th, td {\n",
       "    border: 1px solid black;\n",
       "    border-collapse: collapse;\n",
       "  }\n",
       "  th, td {\n",
       "    padding: 5px;\n",
       "  }\n",
       "  th {\n",
       "    text-align: left;\n",
       "  }\n",
       "</style><div class='table-result-container'><table class='table-result'><thead style='background-color: white'><tr><th>avg_Kidhome</th><th>avg_Teenhome</th><th>avg_Children</th><th>avg_Recency</th><th>avg_NumWebPurchases</th><th>avg_NumCatalogPurchases</th><th>avg_NumStorePurchases</th><th>avg_NumWebVisitsMonth</th><th>avg_Complain</th><th>avg_AcceptedCampaigns_Total</th></tr></thead><tbody><tr><td>0.4</td><td>0.2</td><td>0.6</td><td>44.0</td><td>3.1</td><td>10.7</td><td>0.6</td><td>1.1</td><td>0.0</td><td>0.0</td></tr><tr><td>0.9</td><td>0.6</td><td>1.6</td><td>50.0</td><td>1.3</td><td>0.1</td><td>2.7</td><td>6.6</td><td>0.0</td><td>0.1</td></tr><tr><td>0.3</td><td>0.5</td><td>0.8</td><td>49.1</td><td>4.9</td><td>3.4</td><td>6.7</td><td>4.9</td><td>0.0</td><td>0.5</td></tr><tr><td>0.8</td><td>0.2</td><td>1.0</td><td>47.2</td><td>1.6</td><td>0.3</td><td>2.8</td><td>6.8</td><td>0.0</td><td>0.2</td></tr></tbody></table></div>"
      ]
     },
     "metadata": {
      "application/vnd.databricks.v1+output": {
       "addedWidgets": {},
       "aggData": [],
       "aggError": "",
       "aggOverflow": false,
       "aggSchema": [],
       "aggSeriesLimitReached": false,
       "aggType": "",
       "arguments": {},
       "columnCustomDisplayInfos": {},
       "data": [
        [
         0.4,
         0.2,
         0.6,
         44.0,
         3.1,
         10.7,
         0.6,
         1.1,
         0.0,
         0.0
        ],
        [
         0.9,
         0.6,
         1.6,
         50.0,
         1.3,
         0.1,
         2.7,
         6.6,
         0.0,
         0.1
        ],
        [
         0.3,
         0.5,
         0.8,
         49.1,
         4.9,
         3.4,
         6.7,
         4.9,
         0.0,
         0.5
        ],
        [
         0.8,
         0.2,
         1.0,
         47.2,
         1.6,
         0.3,
         2.8,
         6.8,
         0.0,
         0.2
        ]
       ],
       "datasetInfos": [],
       "dbfsResultPath": null,
       "isJsonSchema": true,
       "metadata": {},
       "overflow": false,
       "plotOptions": {
        "customPlotOptions": {},
        "displayType": "table",
        "pivotAggregation": null,
        "pivotColumns": null,
        "xColumns": null,
        "yColumns": null
       },
       "removedWidgets": [],
       "schema": [
        {
         "metadata": "{}",
         "name": "avg_Kidhome",
         "type": "\"double\""
        },
        {
         "metadata": "{}",
         "name": "avg_Teenhome",
         "type": "\"double\""
        },
        {
         "metadata": "{}",
         "name": "avg_Children",
         "type": "\"double\""
        },
        {
         "metadata": "{}",
         "name": "avg_Recency",
         "type": "\"double\""
        },
        {
         "metadata": "{}",
         "name": "avg_NumWebPurchases",
         "type": "\"double\""
        },
        {
         "metadata": "{}",
         "name": "avg_NumCatalogPurchases",
         "type": "\"double\""
        },
        {
         "metadata": "{}",
         "name": "avg_NumStorePurchases",
         "type": "\"double\""
        },
        {
         "metadata": "{}",
         "name": "avg_NumWebVisitsMonth",
         "type": "\"double\""
        },
        {
         "metadata": "{}",
         "name": "avg_Complain",
         "type": "\"double\""
        },
        {
         "metadata": "{}",
         "name": "avg_AcceptedCampaigns_Total",
         "type": "\"double\""
        }
       ],
       "type": "table"
      }
     },
     "output_type": "display_data"
    }
   ],
   "source": [
    "# Variables for profiling (outside of clustering)\n",
    "profiling_vars = [\n",
    "    \"Education\", \"Marital_Status\", \"Kidhome\", \"Teenhome\", \"Children\",\n",
    "    \"Recency\", \"NumWebPurchases\", \"NumCatalogPurchases\", \"NumStorePurchases\",\n",
    "    \"NumWebVisitsMonth\", \"Complain\", \"AcceptedCampaigns_Total\"\n",
    "]\n",
    "\n",
    "# Categorical variables\n",
    "categorical_vars = [\"Education\", \"Marital_Status\"]\n",
    "profiling_categorical = {}\n",
    "\n",
    "for cat_var in categorical_vars:\n",
    "    profiling_categorical[cat_var] = (\n",
    "        df_monetary_clustered.groupBy(\"prediction\", cat_var)\n",
    "        .agg(count(\"*\").alias(\"count\"))\n",
    "        .orderBy(\"prediction\", \"count\", ascending=False)\n",
    "    )\n",
    "\n",
    "# Numeric variables\n",
    "numeric_vars = [v for v in profiling_vars if v not in categorical_vars]\n",
    "\n",
    "profiling_numeric = (\n",
    "    df_monetary_clustered.groupBy(\"prediction\")\n",
    "    .agg(*[avg(col(v)).alias(f\"avg_{v}\") for v in numeric_vars])\n",
    "    .orderBy(\"prediction\")\n",
    ")\n",
    "\n",
    "# Convert to Pandas and format\n",
    "profiling_numeric_pd = profiling_numeric.toPandas()\n",
    "profiling_numeric_pd.rename(columns={\"prediction\": \"Cluster\"}, inplace=True)\n",
    "profiling_numeric_pd.set_index(\"Cluster\", inplace=True)\n",
    "profiling_numeric_pd = profiling_numeric_pd.round(1)\n",
    "\n",
    "# Display numeric profiling summary\n",
    "display(profiling_numeric_pd)\n"
   ]
  },
  {
   "cell_type": "code",
   "execution_count": 0,
   "metadata": {
    "application/vnd.databricks.v1+cell": {
     "cellMetadata": {
      "byteLimit": 2048000,
      "rowLimit": 10000
     },
     "inputWidgets": {},
     "nuid": "cdc551b5-0e9e-4ec9-8199-748556281e15",
     "showTitle": false,
     "tableResultSettingsMap": {},
     "title": ""
    }
   },
   "outputs": [
    {
     "output_type": "display_data",
     "data": {
      "text/html": [
       "<style scoped>\n",
       "  .table-result-container {\n",
       "    max-height: 300px;\n",
       "    overflow: auto;\n",
       "  }\n",
       "  table, th, td {\n",
       "    border: 1px solid black;\n",
       "    border-collapse: collapse;\n",
       "  }\n",
       "  th, td {\n",
       "    padding: 5px;\n",
       "  }\n",
       "  th {\n",
       "    text-align: left;\n",
       "  }\n",
       "</style><div class='table-result-container'><table class='table-result'><thead style='background-color: white'><tr><th>Absurd</th><th>Alone</th><th>Divorced</th><th>Married</th><th>Single</th><th>Together</th><th>Widow</th><th>YOLO</th></tr></thead><tbody><tr><td></td><td></td><td>10.0%</td><td>40.0%</td><td>10.0%</td><td>40.0%</td><td></td><td></td></tr><tr><td></td><td></td><td>9.4%</td><td>37.4%</td><td>21.9%</td><td>28.4%</td><td>2.9%</td><td></td></tr><tr><td>0.1%</td><td>0.2%</td><td>10.6%</td><td>38.6%</td><td>21.2%</td><td>25.3%</td><td>3.9%</td><td>0.1%</td></tr><tr><td></td><td></td><td>11.2%</td><td>40.8%</td><td>21.0%</td><td>26.2%</td><td>0.9%</td><td></td></tr></tbody></table></div>"
      ]
     },
     "metadata": {
      "application/vnd.databricks.v1+output": {
       "addedWidgets": {},
       "aggData": [],
       "aggError": "",
       "aggOverflow": false,
       "aggSchema": [],
       "aggSeriesLimitReached": false,
       "aggType": "",
       "arguments": {},
       "columnCustomDisplayInfos": {},
       "data": [
        [
         "",
         "",
         "10.0%",
         "40.0%",
         "10.0%",
         "40.0%",
         "",
         ""
        ],
        [
         "",
         "",
         "9.4%",
         "37.4%",
         "21.9%",
         "28.4%",
         "2.9%",
         ""
        ],
        [
         "0.1%",
         "0.2%",
         "10.6%",
         "38.6%",
         "21.2%",
         "25.3%",
         "3.9%",
         "0.1%"
        ],
        [
         "",
         "",
         "11.2%",
         "40.8%",
         "21.0%",
         "26.2%",
         "0.9%",
         ""
        ]
       ],
       "datasetInfos": [],
       "dbfsResultPath": null,
       "isJsonSchema": true,
       "metadata": {},
       "overflow": false,
       "plotOptions": {
        "customPlotOptions": {},
        "displayType": "table",
        "pivotAggregation": null,
        "pivotColumns": null,
        "xColumns": null,
        "yColumns": null
       },
       "removedWidgets": [],
       "schema": [
        {
         "metadata": "{}",
         "name": "Absurd",
         "type": "\"string\""
        },
        {
         "metadata": "{}",
         "name": "Alone",
         "type": "\"string\""
        },
        {
         "metadata": "{}",
         "name": "Divorced",
         "type": "\"string\""
        },
        {
         "metadata": "{}",
         "name": "Married",
         "type": "\"string\""
        },
        {
         "metadata": "{}",
         "name": "Single",
         "type": "\"string\""
        },
        {
         "metadata": "{}",
         "name": "Together",
         "type": "\"string\""
        },
        {
         "metadata": "{}",
         "name": "Widow",
         "type": "\"string\""
        },
        {
         "metadata": "{}",
         "name": "YOLO",
         "type": "\"string\""
        }
       ],
       "type": "table"
      }
     },
     "output_type": "display_data"
    },
    {
     "output_type": "display_data",
     "data": {
      "text/html": [
       "<style scoped>\n",
       "  .table-result-container {\n",
       "    max-height: 300px;\n",
       "    overflow: auto;\n",
       "  }\n",
       "  table, th, td {\n",
       "    border: 1px solid black;\n",
       "    border-collapse: collapse;\n",
       "  }\n",
       "  th, td {\n",
       "    padding: 5px;\n",
       "  }\n",
       "  th {\n",
       "    text-align: left;\n",
       "  }\n",
       "</style><div class='table-result-container'><table class='table-result'><thead style='background-color: white'><tr><th>2n Cycle</th><th>Basic</th><th>Graduation</th><th>Master</th><th>PhD</th></tr></thead><tbody><tr><td></td><td></td><td>40.0%</td><td>10.0%</td><td>50.0%</td></tr><tr><td>3.6%</td><td></td><td>44.2%</td><td>20.1%</td><td>32.0%</td></tr><tr><td>8.7%</td><td>1.1%</td><td>50.9%</td><td>17.0%</td><td>22.4%</td></tr><tr><td>18.5%</td><td>15.5%</td><td>54.5%</td><td>8.6%</td><td>3.0%</td></tr></tbody></table></div>"
      ]
     },
     "metadata": {
      "application/vnd.databricks.v1+output": {
       "addedWidgets": {},
       "aggData": [],
       "aggError": "",
       "aggOverflow": false,
       "aggSchema": [],
       "aggSeriesLimitReached": false,
       "aggType": "",
       "arguments": {},
       "columnCustomDisplayInfos": {},
       "data": [
        [
         "",
         "",
         "40.0%",
         "10.0%",
         "50.0%"
        ],
        [
         "3.6%",
         "",
         "44.2%",
         "20.1%",
         "32.0%"
        ],
        [
         "8.7%",
         "1.1%",
         "50.9%",
         "17.0%",
         "22.4%"
        ],
        [
         "18.5%",
         "15.5%",
         "54.5%",
         "8.6%",
         "3.0%"
        ]
       ],
       "datasetInfos": [],
       "dbfsResultPath": null,
       "isJsonSchema": true,
       "metadata": {},
       "overflow": false,
       "plotOptions": {
        "customPlotOptions": {},
        "displayType": "table",
        "pivotAggregation": null,
        "pivotColumns": null,
        "xColumns": null,
        "yColumns": null
       },
       "removedWidgets": [],
       "schema": [
        {
         "metadata": "{}",
         "name": "2n Cycle",
         "type": "\"string\""
        },
        {
         "metadata": "{}",
         "name": "Basic",
         "type": "\"string\""
        },
        {
         "metadata": "{}",
         "name": "Graduation",
         "type": "\"string\""
        },
        {
         "metadata": "{}",
         "name": "Master",
         "type": "\"string\""
        },
        {
         "metadata": "{}",
         "name": "PhD",
         "type": "\"string\""
        }
       ],
       "type": "table"
      }
     },
     "output_type": "display_data"
    }
   ],
   "source": [
    "# Função para converter distribuição categórica em tabela pivotada\n",
    "def pivot_categorical_distribution(dist_df, cluster_col, category_col):\n",
    "    # Converter para Pandas\n",
    "    pdf = dist_df.select(cluster_col, category_col, \"percentage\").toPandas()\n",
    "    \n",
    "    # Pivot da tabela: categorias como colunas, clusters como linhas\n",
    "    pivot_df = pdf.pivot(index=cluster_col, columns=category_col, values=\"percentage\").fillna(0)\n",
    "    \n",
    "    # Arredondar e aplicar formatação percentual\n",
    "    pivot_df = pivot_df.round(1).applymap(lambda x: f\"{x:.1f}%\" if x > 0 else \"\")\n",
    "    \n",
    "    # Renomear índice\n",
    "    pivot_df.index.name = \"Cluster\"\n",
    "    return pivot_df\n",
    "\n",
    "# Aplicar à variável Marital_Status\n",
    "marital_pivot = pivot_categorical_distribution(marital_dist, \"prediction\", \"Marital_Status\")\n",
    "display(marital_pivot)\n",
    "\n",
    "# Aplicar à variável Education (se quiseres também)\n",
    "education_pivot = pivot_categorical_distribution(education_dist, \"prediction\", \"Education\")\n",
    "display(education_pivot)"
   ]
  },
  {
   "cell_type": "markdown",
   "metadata": {
    "application/vnd.databricks.v1+cell": {
     "cellMetadata": {},
     "inputWidgets": {},
     "nuid": "af699db7-6a92-4ab1-b4ed-f0f1dc97373e",
     "showTitle": false,
     "tableResultSettingsMap": {},
     "title": ""
    }
   },
   "source": [
    "---"
   ]
  },
  {
   "cell_type": "markdown",
   "metadata": {
    "application/vnd.databricks.v1+cell": {
     "cellMetadata": {
      "byteLimit": 2048000,
      "rowLimit": 10000
     },
     "inputWidgets": {},
     "nuid": "5e694c1f-49da-4a35-8128-cdc49db11329",
     "showTitle": false,
     "tableResultSettingsMap": {},
     "title": ""
    }
   },
   "source": [
    "### 2. Behavioral & Engagement Segmentation\n",
    "\n",
    "This segmentation focuses on how customers interact with the company — their preferred channels, purchasing frequency, and responsiveness to marketing.\n",
    "\n",
    "**Selected features:**\n",
    "- Purchase channels (`NumWebPurchases`, `NumCatalogPurchases`, etc.)\n",
    "- Website engagement and recency\n",
    "- Total accepted campaigns"
   ]
  },
  {
   "cell_type": "code",
   "execution_count": 0,
   "metadata": {
    "application/vnd.databricks.v1+cell": {
     "cellMetadata": {
      "byteLimit": 2048000,
      "rowLimit": 10000
     },
     "inputWidgets": {},
     "nuid": "96a4b257-571a-4863-9acd-a45a0b1b55d7",
     "showTitle": false,
     "tableResultSettingsMap": {},
     "title": ""
    }
   },
   "outputs": [],
   "source": [
    "engagement_features = [\n",
    "    \"NumDealsPurchases\", \"NumWebPurchases\", \n",
    "    \"NumCatalogPurchases\", \"NumStorePurchases\", \n",
    "    \"NumWebVisitsMonth\", \"Website_Engagement\", \n",
    "    \"AcceptedCampaigns_Total\", \"Recency\"\n",
    "]\n",
    "\n",
    "# VectorAssembler and StandardScaler\n",
    "assembler = VectorAssembler(inputCols=engagement_features, outputCol=\"engagement_vector\")\n",
    "scaler = StandardScaler(inputCol=\"engagement_vector\", outputCol=\"engagement_scaled\")\n",
    "\n",
    "pipeline = Pipeline(stages=[assembler, scaler])\n",
    "df_engagement = pipeline.fit(df).transform(df)"
   ]
  },
  {
   "cell_type": "code",
   "execution_count": 0,
   "metadata": {
    "application/vnd.databricks.v1+cell": {
     "cellMetadata": {
      "byteLimit": 2048000,
      "rowLimit": 10000
     },
     "inputWidgets": {},
     "nuid": "ce28921c-ef95-4fcd-a19f-17cce6798a62",
     "showTitle": false,
     "tableResultSettingsMap": {},
     "title": ""
    }
   },
   "outputs": [
    {
     "output_type": "display_data",
     "data": {
      "text/html": [
       "<style scoped>\n",
       "  .table-result-container {\n",
       "    max-height: 300px;\n",
       "    overflow: auto;\n",
       "  }\n",
       "  table, th, td {\n",
       "    border: 1px solid black;\n",
       "    border-collapse: collapse;\n",
       "  }\n",
       "  th, td {\n",
       "    padding: 5px;\n",
       "  }\n",
       "  th {\n",
       "    text-align: left;\n",
       "  }\n",
       "</style><div class='table-result-container'><table class='table-result'><thead style='background-color: white'><tr><th>k</th><th>log_likelihood</th></tr></thead><tbody><tr><td>2</td><td>13348.349368399005</td></tr><tr><td>3</td><td>16842.978670808472</td></tr><tr><td>4</td><td>-21787.86936260629</td></tr><tr><td>5</td><td>-9190.813030153111</td></tr><tr><td>6</td><td>-20699.417156200787</td></tr><tr><td>7</td><td>13918.705555420293</td></tr><tr><td>8</td><td>-12473.589993728128</td></tr><tr><td>9</td><td>13626.380259184007</td></tr><tr><td>10</td><td>19057.519055087814</td></tr></tbody></table></div>"
      ]
     },
     "metadata": {
      "application/vnd.databricks.v1+output": {
       "addedWidgets": {},
       "aggData": [],
       "aggError": "",
       "aggOverflow": false,
       "aggSchema": [],
       "aggSeriesLimitReached": false,
       "aggType": "",
       "arguments": {},
       "columnCustomDisplayInfos": {},
       "data": [
        [
         2,
         13348.349368399005
        ],
        [
         3,
         16842.978670808472
        ],
        [
         4,
         -21787.86936260629
        ],
        [
         5,
         -9190.813030153111
        ],
        [
         6,
         -20699.417156200787
        ],
        [
         7,
         13918.705555420293
        ],
        [
         8,
         -12473.589993728128
        ],
        [
         9,
         13626.380259184007
        ],
        [
         10,
         19057.519055087814
        ]
       ],
       "datasetInfos": [],
       "dbfsResultPath": null,
       "isJsonSchema": true,
       "metadata": {},
       "overflow": false,
       "plotOptions": {
        "customPlotOptions": {},
        "displayType": "table",
        "pivotAggregation": null,
        "pivotColumns": null,
        "xColumns": null,
        "yColumns": null
       },
       "removedWidgets": [],
       "schema": [
        {
         "metadata": "{}",
         "name": "k",
         "type": "\"long\""
        },
        {
         "metadata": "{}",
         "name": "log_likelihood",
         "type": "\"double\""
        }
       ],
       "type": "table"
      }
     },
     "output_type": "display_data"
    }
   ],
   "source": [
    "# Test several k values using GMM\n",
    "results = []\n",
    "\n",
    "for k in range(2, 11):\n",
    "    gmm = GaussianMixture(featuresCol=\"engagement_scaled\", k=k)\n",
    "    model = gmm.fit(df_engagement)\n",
    "    log_likelihood = model.summary.logLikelihood\n",
    "    results.append((k, log_likelihood))\n",
    "\n",
    "# Create Pandas DataFrame\n",
    "import pandas as pd\n",
    "log_df_eng = pd.DataFrame(results, columns=[\"k\", \"log_likelihood\"])\n",
    "display(log_df_eng)"
   ]
  },
  {
   "cell_type": "code",
   "execution_count": 0,
   "metadata": {
    "application/vnd.databricks.v1+cell": {
     "cellMetadata": {
      "byteLimit": 2048000,
      "rowLimit": 10000
     },
     "inputWidgets": {},
     "nuid": "c931a59f-ed95-44e2-9423-a70b6ce450d6",
     "showTitle": false,
     "tableResultSettingsMap": {},
     "title": ""
    }
   },
   "outputs": [
    {
     "output_type": "display_data",
     "data": {
      "image/png": "[encoded data removed]"
     },
     "metadata": {
      "application/vnd.databricks.v1+output": {
       "addedWidgets": {},
       "arguments": {},
       "data": "data:image/png;base64,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\n",
       "datasetInfos": [],
       "metadata": {},
       "removedWidgets": [],
       "type": "image"
      }
     },
     "output_type": "display_data"
    }
   ],
   "source": [
    "plt.figure(figsize=(8, 5))\n",
    "plt.plot(log_df_eng[\"k\"], log_df_eng[\"log_likelihood\"], marker='o')\n",
    "plt.xlabel(\"Number of Clusters (k)\")\n",
    "plt.ylabel(\"Log Likelihood\")\n",
    "plt.title(\"Engagement Segmentation – Log Likelihood per K\")\n",
    "plt.grid(True)\n",
    "plt.show()"
   ]
  },
  {
   "cell_type": "code",
   "execution_count": 0,
   "metadata": {
    "application/vnd.databricks.v1+cell": {
     "cellMetadata": {
      "byteLimit": 2048000,
      "rowLimit": 10000
     },
     "inputWidgets": {},
     "nuid": "532da727-6ac9-4917-a423-f35fdee5a304",
     "showTitle": false,
     "tableResultSettingsMap": {},
     "title": ""
    }
   },
   "outputs": [
    {
     "output_type": "stream",
     "name": "stdout",
     "output_type": "stream",
     "text": [
      "+----------+-----+\n|prediction|count|\n+----------+-----+\n|         2| 1600|\n|         0|  604|\n|         1|   12|\n+----------+-----+\n\n"
     ]
    }
   ],
   "source": [
    "best_k_eng = 3\n",
    "\n",
    "gmm_final_eng = GaussianMixture(featuresCol=\"engagement_scaled\", k=best_k_eng)\n",
    "model_final_eng = gmm_final_eng.fit(df_engagement)\n",
    "df_engagement_clustered = model_final_eng.transform(df_engagement)\n",
    "\n",
    "# Quick overview – count per cluster\n",
    "df_engagement_clustered.select(\"prediction\").groupBy(\"prediction\").count().orderBy(\"count\", ascending=False).show()"
   ]
  },
  {
   "cell_type": "code",
   "execution_count": 0,
   "metadata": {
    "application/vnd.databricks.v1+cell": {
     "cellMetadata": {
      "byteLimit": 2048000,
      "rowLimit": 10000
     },
     "inputWidgets": {},
     "nuid": "ea4b1ce2-94fa-47fc-8680-414ef8d4275f",
     "showTitle": false,
     "tableResultSettingsMap": {},
     "title": ""
    }
   },
   "outputs": [
    {
     "output_type": "display_data",
     "data": {
      "text/html": [
       "<style scoped>\n",
       "  .table-result-container {\n",
       "    max-height: 300px;\n",
       "    overflow: auto;\n",
       "  }\n",
       "  table, th, td {\n",
       "    border: 1px solid black;\n",
       "    border-collapse: collapse;\n",
       "  }\n",
       "  th, td {\n",
       "    padding: 5px;\n",
       "  }\n",
       "  th {\n",
       "    text-align: left;\n",
       "  }\n",
       "</style><div class='table-result-container'><table class='table-result'><thead style='background-color: white'><tr><th>NumDealsPurchases</th><th>NumWebPurchases</th><th>NumCatalogPurchases</th><th>NumStorePurchases</th><th>NumWebVisitsMonth</th><th>Website_Engagement</th><th>AcceptedCampaigns_Total</th><th>Recency</th></tr></thead><tbody><tr><td>2.2</td><td>5.1</td><td>4.1</td><td>6.6</td><td>5.0</td><td>10.1</td><td>1.6</td><td>44.1</td></tr><tr><td>7.6</td><td>6.3</td><td>9.0</td><td>0.2</td><td>8.5</td><td>14.8</td><td>0.1</td><td>47.9</td></tr><tr><td>2.3</td><td>3.7</td><td>2.1</td><td>5.5</td><td>5.4</td><td>9.1</td><td>0.0</td><td>50.9</td></tr></tbody></table></div>"
      ]
     },
     "metadata": {
      "application/vnd.databricks.v1+output": {
       "addedWidgets": {},
       "aggData": [],
       "aggError": "",
       "aggOverflow": false,
       "aggSchema": [],
       "aggSeriesLimitReached": false,
       "aggType": "",
       "arguments": {},
       "columnCustomDisplayInfos": {},
       "data": [
        [
         "2.2",
         "5.1",
         "4.1",
         "6.6",
         "5.0",
         "10.1",
         "1.6",
         "44.1"
        ],
        [
         "7.6",
         "6.3",
         "9.0",
         "0.2",
         "8.5",
         "14.8",
         "0.1",
         "47.9"
        ],
        [
         "2.3",
         "3.7",
         "2.1",
         "5.5",
         "5.4",
         "9.1",
         "0.0",
         "50.9"
        ]
       ],
       "datasetInfos": [],
       "dbfsResultPath": null,
       "isJsonSchema": true,
       "metadata": {},
       "overflow": false,
       "plotOptions": {
        "customPlotOptions": {},
        "displayType": "table",
        "pivotAggregation": null,
        "pivotColumns": null,
        "xColumns": null,
        "yColumns": null
       },
       "removedWidgets": [],
       "schema": [
        {
         "metadata": "{}",
         "name": "NumDealsPurchases",
         "type": "\"string\""
        },
        {
         "metadata": "{}",
         "name": "NumWebPurchases",
         "type": "\"string\""
        },
        {
         "metadata": "{}",
         "name": "NumCatalogPurchases",
         "type": "\"string\""
        },
        {
         "metadata": "{}",
         "name": "NumStorePurchases",
         "type": "\"string\""
        },
        {
         "metadata": "{}",
         "name": "NumWebVisitsMonth",
         "type": "\"string\""
        },
        {
         "metadata": "{}",
         "name": "Website_Engagement",
         "type": "\"string\""
        },
        {
         "metadata": "{}",
         "name": "AcceptedCampaigns_Total",
         "type": "\"string\""
        },
        {
         "metadata": "{}",
         "name": "Recency",
         "type": "\"string\""
        }
       ],
       "type": "table"
      }
     },
     "output_type": "display_data"
    }
   ],
   "source": [
    "# Calcular médias por cluster\n",
    "summary_df_eng = df_engagement_clustered.groupBy(\"prediction\").agg(\n",
    "    *[avg(col(f)).alias(f) for f in engagement_features]\n",
    ").orderBy(\"prediction\")\n",
    "\n",
    "# Converter para Pandas e formatar\n",
    "summary_pd_eng = summary_df_eng.toPandas()\n",
    "summary_pd_eng.rename(columns={\"prediction\": \"Cluster\"}, inplace=True)\n",
    "summary_pd_eng[\"Cluster\"] = summary_pd_eng[\"Cluster\"].astype(int)\n",
    "summary_pd_eng.set_index(\"Cluster\", inplace=True)\n",
    "\n",
    "# Arredondar e manter formatação uniforme\n",
    "summary_pd_eng = summary_pd_eng.round(1)\n",
    "summary_pd_eng = summary_pd_eng.applymap(lambda x: f\"{x:.1f}\")\n",
    "\n",
    "# Mostrar tabela apelativa no Databricks\n",
    "display(summary_pd_eng)"
   ]
  },
  {
   "cell_type": "code",
   "execution_count": 0,
   "metadata": {
    "application/vnd.databricks.v1+cell": {
     "cellMetadata": {
      "byteLimit": 2048000,
      "rowLimit": 10000
     },
     "inputWidgets": {},
     "nuid": "e13da734-b4b5-48f5-9467-5773cb22ec60",
     "showTitle": false,
     "tableResultSettingsMap": {},
     "title": ""
    }
   },
   "outputs": [
    {
     "output_type": "display_data",
     "data": {
      "text/html": [
       "<style scoped>\n",
       "  .table-result-container {\n",
       "    max-height: 300px;\n",
       "    overflow: auto;\n",
       "  }\n",
       "  table, th, td {\n",
       "    border: 1px solid black;\n",
       "    border-collapse: collapse;\n",
       "  }\n",
       "  th, td {\n",
       "    padding: 5px;\n",
       "  }\n",
       "  th {\n",
       "    text-align: left;\n",
       "  }\n",
       "</style><div class='table-result-container'><table class='table-result'><thead style='background-color: white'><tr><th>Absurd</th><th>Alone</th><th>Divorced</th><th>Married</th><th>Single</th><th>Together</th><th>Widow</th><th>YOLO</th></tr></thead><tbody><tr><td>0.2%</td><td>0.2%</td><td>11.4%</td><td>35.8%</td><td>24.3%</td><td>23.7%</td><td>4.3%</td><td>0.2%</td></tr><tr><td></td><td></td><td>8.3%</td><td>41.7%</td><td>25.0%</td><td>25.0%</td><td></td><td></td></tr><tr><td>0.1%</td><td>0.1%</td><td>10.1%</td><td>39.8%</td><td>20.1%</td><td>26.7%</td><td>3.1%</td><td>0.1%</td></tr></tbody></table></div>"
      ]
     },
     "metadata": {
      "application/vnd.databricks.v1+output": {
       "addedWidgets": {},
       "aggData": [],
       "aggError": "",
       "aggOverflow": false,
       "aggSchema": [],
       "aggSeriesLimitReached": false,
       "aggType": "",
       "arguments": {},
       "columnCustomDisplayInfos": {},
       "data": [
        [
         "0.2%",
         "0.2%",
         "11.4%",
         "35.8%",
         "24.3%",
         "23.7%",
         "4.3%",
         "0.2%"
        ],
        [
         "",
         "",
         "8.3%",
         "41.7%",
         "25.0%",
         "25.0%",
         "",
         ""
        ],
        [
         "0.1%",
         "0.1%",
         "10.1%",
         "39.8%",
         "20.1%",
         "26.7%",
         "3.1%",
         "0.1%"
        ]
       ],
       "datasetInfos": [],
       "dbfsResultPath": null,
       "isJsonSchema": true,
       "metadata": {},
       "overflow": false,
       "plotOptions": {
        "customPlotOptions": {},
        "displayType": "table",
        "pivotAggregation": null,
        "pivotColumns": null,
        "xColumns": null,
        "yColumns": null
       },
       "removedWidgets": [],
       "schema": [
        {
         "metadata": "{}",
         "name": "Absurd",
         "type": "\"string\""
        },
        {
         "metadata": "{}",
         "name": "Alone",
         "type": "\"string\""
        },
        {
         "metadata": "{}",
         "name": "Divorced",
         "type": "\"string\""
        },
        {
         "metadata": "{}",
         "name": "Married",
         "type": "\"string\""
        },
        {
         "metadata": "{}",
         "name": "Single",
         "type": "\"string\""
        },
        {
         "metadata": "{}",
         "name": "Together",
         "type": "\"string\""
        },
        {
         "metadata": "{}",
         "name": "Widow",
         "type": "\"string\""
        },
        {
         "metadata": "{}",
         "name": "YOLO",
         "type": "\"string\""
        }
       ],
       "type": "table"
      }
     },
     "output_type": "display_data"
    },
    {
     "output_type": "display_data",
     "data": {
      "text/html": [
       "<style scoped>\n",
       "  .table-result-container {\n",
       "    max-height: 300px;\n",
       "    overflow: auto;\n",
       "  }\n",
       "  table, th, td {\n",
       "    border: 1px solid black;\n",
       "    border-collapse: collapse;\n",
       "  }\n",
       "  th, td {\n",
       "    padding: 5px;\n",
       "  }\n",
       "  th {\n",
       "    text-align: left;\n",
       "  }\n",
       "</style><div class='table-result-container'><table class='table-result'><thead style='background-color: white'><tr><th>2n Cycle</th><th>Basic</th><th>Graduation</th><th>Master</th><th>PhD</th></tr></thead><tbody><tr><td>7.5%</td><td>1.2%</td><td>49.0%</td><td>16.4%</td><td>26.0%</td></tr><tr><td></td><td></td><td>41.7%</td><td></td><td>58.3%</td></tr><tr><td>9.7%</td><td>2.9%</td><td>50.9%</td><td>16.6%</td><td>19.8%</td></tr></tbody></table></div>"
      ]
     },
     "metadata": {
      "application/vnd.databricks.v1+output": {
       "addedWidgets": {},
       "aggData": [],
       "aggError": "",
       "aggOverflow": false,
       "aggSchema": [],
       "aggSeriesLimitReached": false,
       "aggType": "",
       "arguments": {},
       "columnCustomDisplayInfos": {},
       "data": [
        [
         "7.5%",
         "1.2%",
         "49.0%",
         "16.4%",
         "26.0%"
        ],
        [
         "",
         "",
         "41.7%",
         "",
         "58.3%"
        ],
        [
         "9.7%",
         "2.9%",
         "50.9%",
         "16.6%",
         "19.8%"
        ]
       ],
       "datasetInfos": [],
       "dbfsResultPath": null,
       "isJsonSchema": true,
       "metadata": {},
       "overflow": false,
       "plotOptions": {
        "customPlotOptions": {},
        "displayType": "table",
        "pivotAggregation": null,
        "pivotColumns": null,
        "xColumns": null,
        "yColumns": null
       },
       "removedWidgets": [],
       "schema": [
        {
         "metadata": "{}",
         "name": "2n Cycle",
         "type": "\"string\""
        },
        {
         "metadata": "{}",
         "name": "Basic",
         "type": "\"string\""
        },
        {
         "metadata": "{}",
         "name": "Graduation",
         "type": "\"string\""
        },
        {
         "metadata": "{}",
         "name": "Master",
         "type": "\"string\""
        },
        {
         "metadata": "{}",
         "name": "PhD",
         "type": "\"string\""
        }
       ],
       "type": "table"
      }
     },
     "output_type": "display_data"
    }
   ],
   "source": [
    "def categorical_distribution(df, cluster_col, cat_col):\n",
    "    total = df.groupBy(cluster_col).agg(count(\"*\").alias(\"total\"))\n",
    "    count_df = df.groupBy(cluster_col, cat_col).agg(count(\"*\").alias(\"count\"))\n",
    "    dist = count_df.join(total, cluster_col)\n",
    "    dist = dist.withColumn(\"percentage\", (col(\"count\") / col(\"total\")) * 100)\n",
    "    return dist.orderBy(cluster_col, \"percentage\", ascending=[True, False])\n",
    "\n",
    "# Distribuição por cluster\n",
    "marital_dist = categorical_distribution(df_engagement_clustered, \"prediction\", \"Marital_Status\")\n",
    "education_dist = categorical_distribution(df_engagement_clustered, \"prediction\", \"Education\")\n",
    "\n",
    "def pivot_categorical_distribution(dist_df, cluster_col, category_col):\n",
    "    pdf = dist_df.select(cluster_col, category_col, \"percentage\").toPandas()\n",
    "    pivot_df = pdf.pivot(index=cluster_col, columns=category_col, values=\"percentage\").fillna(0)\n",
    "    pivot_df = pivot_df.round(1).applymap(lambda x: f\"{x:.1f}%\" if x > 0 else \"\")\n",
    "    pivot_df.index.name = \"Cluster\"\n",
    "    return pivot_df\n",
    "\n",
    "marital_pivot = pivot_categorical_distribution(marital_dist, \"prediction\", \"Marital_Status\")\n",
    "education_pivot = pivot_categorical_distribution(education_dist, \"prediction\", \"Education\")\n",
    "\n",
    "display(marital_pivot)\n",
    "display(education_pivot)"
   ]
  },
  {
   "cell_type": "code",
   "execution_count": 0,
   "metadata": {
    "application/vnd.databricks.v1+cell": {
     "cellMetadata": {
      "byteLimit": 2048000,
      "rowLimit": 10000
     },
     "inputWidgets": {},
     "nuid": "42e283a9-1496-4819-ac26-5a774730efde",
     "showTitle": false,
     "tableResultSettingsMap": {},
     "title": ""
    }
   },
   "outputs": [
    {
     "output_type": "display_data",
     "data": {
      "text/html": [
       "<style scoped>\n",
       "  .table-result-container {\n",
       "    max-height: 300px;\n",
       "    overflow: auto;\n",
       "  }\n",
       "  table, th, td {\n",
       "    border: 1px solid black;\n",
       "    border-collapse: collapse;\n",
       "  }\n",
       "  th, td {\n",
       "    padding: 5px;\n",
       "  }\n",
       "  th {\n",
       "    text-align: left;\n",
       "  }\n",
       "</style><div class='table-result-container'><table class='table-result'><thead style='background-color: white'><tr><th>avg_Kidhome</th><th>avg_Teenhome</th><th>avg_Children</th><th>avg_Complain</th></tr></thead><tbody><tr><td>0.3</td><td>0.4</td><td>0.7</td><td>0.0</td></tr><tr><td>0.2</td><td>0.6</td><td>0.8</td><td>0.0</td></tr><tr><td>0.5</td><td>0.5</td><td>1.0</td><td>0.0</td></tr></tbody></table></div>"
      ]
     },
     "metadata": {
      "application/vnd.databricks.v1+output": {
       "addedWidgets": {},
       "aggData": [],
       "aggError": "",
       "aggOverflow": false,
       "aggSchema": [],
       "aggSeriesLimitReached": false,
       "aggType": "",
       "arguments": {},
       "columnCustomDisplayInfos": {},
       "data": [
        [
         0.3,
         0.4,
         0.7,
         0.0
        ],
        [
         0.2,
         0.6,
         0.8,
         0.0
        ],
        [
         0.5,
         0.5,
         1.0,
         0.0
        ]
       ],
       "datasetInfos": [],
       "dbfsResultPath": null,
       "isJsonSchema": true,
       "metadata": {},
       "overflow": false,
       "plotOptions": {
        "customPlotOptions": {},
        "displayType": "table",
        "pivotAggregation": null,
        "pivotColumns": null,
        "xColumns": null,
        "yColumns": null
       },
       "removedWidgets": [],
       "schema": [
        {
         "metadata": "{}",
         "name": "avg_Kidhome",
         "type": "\"double\""
        },
        {
         "metadata": "{}",
         "name": "avg_Teenhome",
         "type": "\"double\""
        },
        {
         "metadata": "{}",
         "name": "avg_Children",
         "type": "\"double\""
        },
        {
         "metadata": "{}",
         "name": "avg_Complain",
         "type": "\"double\""
        }
       ],
       "type": "table"
      }
     },
     "output_type": "display_data"
    }
   ],
   "source": [
    "profiling_vars_clean = [\"Kidhome\", \"Teenhome\", \"Children\", \"Complain\"]\n",
    "profiling_numeric = (\n",
    "    df_engagement_clustered.groupBy(\"prediction\")\n",
    "    .agg(*[avg(col(v)).alias(f\"avg_{v}\") for v in profiling_vars_clean])\n",
    "    .orderBy(\"prediction\")\n",
    ")\n",
    "\n",
    "profiling_numeric_pd = profiling_numeric.toPandas()\n",
    "profiling_numeric_pd.rename(columns={\"prediction\": \"Cluster\"}, inplace=True)\n",
    "profiling_numeric_pd.set_index(\"Cluster\", inplace=True)\n",
    "profiling_numeric_pd = profiling_numeric_pd.round(1)\n",
    "display(profiling_numeric_pd)"
   ]
  },
  {
   "cell_type": "markdown",
   "metadata": {
    "application/vnd.databricks.v1+cell": {
     "cellMetadata": {},
     "inputWidgets": {},
     "nuid": "1150114e-0c15-4983-b69b-185da5b0e937",
     "showTitle": false,
     "tableResultSettingsMap": {},
     "title": ""
    }
   },
   "source": [
    "---"
   ]
  },
  {
   "cell_type": "markdown",
   "metadata": {
    "application/vnd.databricks.v1+cell": {
     "cellMetadata": {
      "byteLimit": 2048000,
      "rowLimit": 10000
     },
     "inputWidgets": {},
     "nuid": "85935afd-4e56-41c5-922a-0ef5a4c3dd70",
     "showTitle": false,
     "tableResultSettingsMap": {},
     "title": ""
    }
   },
   "source": [
    "## 3. Promo Response Segmentation\n",
    "\n",
    "This segmentation focuses on how customers respond to promotions and marketing campaigns — including their sensitivity to discounts, recency of activity, and overall promotional engagement.\n",
    "\n",
    "**Selected features:**\n",
    "- Campaign response (`AcceptedCampaigns_Total`)\n",
    "- Promotion-driven purchases (`NumDealsPurchases`)\n",
    "- Customer complaints (`Complain`)\n",
    "- Recency (days since last purchase)\n"
   ]
  },
  {
   "cell_type": "code",
   "execution_count": 0,
   "metadata": {
    "application/vnd.databricks.v1+cell": {
     "cellMetadata": {
      "byteLimit": 2048000,
      "rowLimit": 10000
     },
     "inputWidgets": {},
     "nuid": "98012abc-b443-4e4e-85b1-edc146d1bb5b",
     "showTitle": false,
     "tableResultSettingsMap": {},
     "title": ""
    }
   },
   "outputs": [
    {
     "output_type": "display_data",
     "data": {
      "text/html": [
       "<style scoped>\n",
       "  .table-result-container {\n",
       "    max-height: 300px;\n",
       "    overflow: auto;\n",
       "  }\n",
       "  table, th, td {\n",
       "    border: 1px solid black;\n",
       "    border-collapse: collapse;\n",
       "  }\n",
       "  th, td {\n",
       "    padding: 5px;\n",
       "  }\n",
       "  th {\n",
       "    text-align: left;\n",
       "  }\n",
       "</style><div class='table-result-container'><table class='table-result'><thead style='background-color: white'><tr><th>k</th><th>log_likelihood</th></tr></thead><tbody><tr><td>2</td><td>12440.222007512411</td></tr><tr><td>3</td><td>10754.5584227257</td></tr><tr><td>4</td><td>42703.31085843341</td></tr><tr><td>5</td><td>8594.37455150414</td></tr><tr><td>6</td><td>-3472.5791712937703</td></tr><tr><td>7</td><td>20427.836533658756</td></tr><tr><td>8</td><td>19281.30158796102</td></tr><tr><td>9</td><td>15987.13284630148</td></tr><tr><td>10</td><td>23313.258949620093</td></tr></tbody></table></div>"
      ]
     },
     "metadata": {
      "application/vnd.databricks.v1+output": {
       "addedWidgets": {},
       "aggData": [],
       "aggError": "",
       "aggOverflow": false,
       "aggSchema": [],
       "aggSeriesLimitReached": false,
       "aggType": "",
       "arguments": {},
       "columnCustomDisplayInfos": {},
       "data": [
        [
         2,
         12440.222007512411
        ],
        [
         3,
         10754.5584227257
        ],
        [
         4,
         42703.31085843341
        ],
        [
         5,
         8594.37455150414
        ],
        [
         6,
         -3472.5791712937703
        ],
        [
         7,
         20427.836533658756
        ],
        [
         8,
         19281.30158796102
        ],
        [
         9,
         15987.13284630148
        ],
        [
         10,
         23313.258949620093
        ]
       ],
       "datasetInfos": [],
       "dbfsResultPath": null,
       "isJsonSchema": true,
       "metadata": {},
       "overflow": false,
       "plotOptions": {
        "customPlotOptions": {},
        "displayType": "table",
        "pivotAggregation": null,
        "pivotColumns": null,
        "xColumns": null,
        "yColumns": null
       },
       "removedWidgets": [],
       "schema": [
        {
         "metadata": "{}",
         "name": "k",
         "type": "\"long\""
        },
        {
         "metadata": "{}",
         "name": "log_likelihood",
         "type": "\"double\""
        }
       ],
       "type": "table"
      }
     },
     "output_type": "display_data"
    }
   ],
   "source": [
    "# Define final features for Promo Response Segmentation\n",
    "promo_features = [\n",
    "    \"AcceptedCampaigns_Total\", \"NumDealsPurchases\",\n",
    "    \"Complain\", \"Recency\"\n",
    "]\n",
    "\n",
    "# Preparation pipeline\n",
    "assembler = VectorAssembler(inputCols=promo_features, outputCol=\"promo_vector\")\n",
    "scaler = StandardScaler(inputCol=\"promo_vector\", outputCol=\"promo_scaled\")\n",
    "pipeline = Pipeline(stages=[assembler, scaler])\n",
    "df_promo = pipeline.fit(df).transform(df)\n",
    "\n",
    "# Log Likelihood for k = 2 to 10\n",
    "results = []\n",
    "for k in range(2, 11):\n",
    "    gmm = GaussianMixture(featuresCol=\"promo_scaled\", k=k)\n",
    "    model = gmm.fit(df_promo)\n",
    "    log_likelihood = model.summary.logLikelihood\n",
    "    results.append((k, log_likelihood))\n",
    "\n",
    "log_df_promo = pd.DataFrame(results, columns=[\"k\", \"log_likelihood\"])\n",
    "display(log_df_promo)"
   ]
  },
  {
   "cell_type": "code",
   "execution_count": 0,
   "metadata": {
    "application/vnd.databricks.v1+cell": {
     "cellMetadata": {
      "byteLimit": 2048000,
      "rowLimit": 10000
     },
     "inputWidgets": {},
     "nuid": "7a17141a-a71d-4d3d-b561-143056c443da",
     "showTitle": false,
     "tableResultSettingsMap": {},
     "title": ""
    }
   },
   "outputs": [
    {
     "output_type": "display_data",
     "data": {
      "image/png": "[encoded data removed]"
     },
     "metadata": {
      "application/vnd.databricks.v1+output": {
       "addedWidgets": {},
       "arguments": {},
       "data": "data:image/png;base64,iVBORw0KGgoAAAANSUhEUgAAAgEAAAFNCAYAAACZlLzrAAAAOXRFWHRTb2Z0d2FyZQBNYXRwbG90bGliIHZlcnNpb24zLjUuMSwgaHR0cHM6Ly9tYXRwbG90bGliLm9yZy/YYfK9AAAACXBIWXMAAAsTAAALEwEAmpwYAABP0UlEQVR4nO3dd3xV9f348dc7e5AQSEIgYUMShspGBY0MFbdUW6td2q9dVlv7bWurHb/uamuH3a2t/dpWBa0TJyox4GYKCAlTJCSQASQhkJD1/v1xTvASkxDCvTl3vJ+Px33k3s8599z3J3e97/ksUVWMMcYYE3mivA7AGGOMMd6wJMAYY4yJUJYEGGOMMRHKkgBjjDEmQlkSYIwxxkQoSwKMMcaYCGVJgDEmKIjIuSKyxes4vCIi3xGRf7jXR4qIikjMSR7juPuJyPMicr17/QYRec3/kXcah4rI2L54LHNqLAmIECKyS0QaRKReRCpE5H4R6ed1XL58PsDq3csuEbnd67gCTUTSROSfIrJPRA6JyNZQq7eIzBGRPSd5n+O+KFT1VVXN9390PY7npOvQi8fo8stdVX+uqp/z5+Op6sWq+i9/HjPYuZ8b5/vcvlZEDorIeV7GFawsCYgsl6tqP2AqMB34XscdTvaXR4CkuXF+FPi+iFzgdUAB9lugHzAe6A9cAWz3NCJjgpw4uv0Oc8+C/Am4VFWX901kocWSgAikqmXA88BpcOwX2c0isg3Y5pZ9XkS2i8gBEVkiItnt93f3/7KIbHN/uf5ERMaIyBsiUicij4hInM/+XR7rBHGuBjYBk32O9T8iUuxm9ktFZIRbLiLyWxGpdGPYKCLt9btfRP4qIi+58S5vv5+7fZaIrBKRWvfvLJ9tRW79Xnfv+6KIZLjbEkTkARHZLyI17n2z3G39ReQ+EdkrImUi8lMRie6iqjOAh1T1oKq2qWqJqj7qE8M4N/YDIrJFRK7x2ZYuIk+7dV7lPs5rPttP9rm6TETecevzhoic4bNtl4h8U0Q2uP+rh93/QTLO6ylbPjiLky0iM0XkTfdYe0Xkj+2PJSIr3MOud/f/uHT4JS4i493/f42IbBKRK3y23S8ifxKRZ916vS0iY7p7PZ2KE8TS7XNwEo/xQxF5oIttV7v//9NEJEpEbheRHe5r7xERGdjF/YpE5HMdyn7lvn/eE5GLfcqzxXl/HhDn/fp5n23xInKPiJS7l3tEJN5n+23uc1wuIv9zgnoWicidIrLS/Z895Ru/iJzlvvZqRGS9iMzpcN+ficjrwBFgdDeP80Xg18ACVX2ju5gimqraJQIuwC7gfPf6MJwv15+4txV4CRgIJALzgGqcMwbxwB+AFT7HUuApIBWYCBwFluG8IfsDm4Hr3X27PVaHGEe6x45xb5+F80b/iHv7SpxfyOOBGJwzGW+42xYAa4A0QNx9hrjb7gcOAQVuDL8DXnO3DQQOAp92j3mdezvd3V4E7ADy3P9NEXCXu+2LwNNAEhANTANS3W1PAH8DkoFBwErgi13U+x/u8/FZILfDtmSg1N0WA0xx/58T3O2L3UsSMMHd97VePldTgErgTLc+1+O8buJ9XkMrgWz3/1YMfMndNgfY0yH2ae5zGOM+t8XA1zrENtbn9rFjALHuc/0dIA7ndXQIyPd5TvcDM93jPwgsPsX3yIfq0MNYun0OunuNd9j2Q+CBjvu5z/329v8VcCvwFjAU5/X8N2BRF++hIuBz7vUbgGbg8+7zexNQDoi7fQXwZyABJ/GuAua5237sPuYgIBN4gw8+Py4CKnB+VCQDD3V8bjvUswgo89n/MZ9657jP6yU4P1IvcG9n+tx3N85rOQaI7eKz7jE3pklef/YG+8XzAOzSR0+088aoB2qA9903e6K7Tdvf7O7t+4Bf+tzu5354jPTZf7bP9jXAt31u/xq4pyfH6hBj+wdYDdDgXv+Vz4fU88CNPvtH4SQJI3A+mLfifOlEdTju/fh8QbgxtOIkQ58GVnbY/03gBvd6EfA9n21fBl5wr/+P+2F4Rof7Z+F82Sb6lF0HvNLFc5OI8wWzxv3fbAcudrd9HHi1w/5/A36A80HejPtl5G77KR9OAnr6XP0F94PdZ/sW4Dyf19CnfLb9Evire30OnXyBdjjW14AnOsTWVRJwLrDP97kEFgE/9HlO/+Gz7RKg5BTfI53WobtYevIcdPEa72kS8E2cRG2oz37FwHyf20PcGGI6Hp8PJwHbfe6X5O47GOe90Aqk+Gy/E7jfvb4DuMRn2wJgl3v9n7iJsXs7r+Nz26GeRR32nwA0uf/LbwP/6bD/Uj5IVIuAH5/gedwF1OEkv1Hd7WsXteaACLNQVdNUdYSqfllVG3y2lfpcz8ZJFABQ1XqcbDzHZ58Kn+sNndxu73TYk2N1lOHe/xs4H8yxbvkI4HfuacIa4ADOr/4cVS0E/ojT/lcpIveKSGpn9XNjOODGdlx8rvc7xLfP5/oRn7r9B+cDarF7GvSXIhLrxhkL7PWJ9W84v6I+RFUb1OkUNg1IBx4B/uueIh0BnNl+HPdYn8T54M7E+eD3fe5K+bCePlcjgG90eKxhOP+jE/0vPkRE8kTkGXE6PNYBP8d5bnsiGyhV1Tafsp4+Lx3juN+nmaL9Mr6HcZwolp4+B711G/AnVfXtsDgCeMLnOSrG+QLP6sHxjv3PVPWIe7UfTh0PqOohn319/98d3yfv88HrIpvj69zx/dSZjvvH4rw2RgAf6/AaPAcn0ensvl25CScZ+YeISA/2j1iWBJh26nO9HOfNCIDb5puOcwrvZPXqWKraqqq/ARpxfn2D8+b/opvItF8S1W3vU9Xfu1+kE3A+AG7zOeQwnxj64ZzOLu8Yn2v4ieJzH69ZVX+kqhOAWcBlwGfcOI8CGT5xpqrqxB4cs/3LMhkY5R5reYc691PVm3BO17bgnBb+UD17oRT4WYfHSlLVRT24r3ZS9hegBKeJIxXnbEdPP5DLgWFyfMevHj0vHwpM9Qb3f+Z7KT6JQ3QXi7+fg44uBL4nIlf7lJXinCnyfZ4S1Onr01vlwEARSfEp8/1/d3yfDHfLAPZyfJ2H9+DxOu7fjNPMVYpzJsC3bsmqepfP/p291jqqAObjnMX5cw/2j1iWBJjOLAI+KyKT3c4/PwfeVtVdHhzrLuBbIpIA/BW4Q0QmwrHOdx9zr88QkTPdX+KHcZIH319ul4jIOeJ0TPsJ8JaqlgLPAXki8gkRiRGRj+MkEc+cKDARmSsip4vT4a8O54OsTVX3Ai8CvxaRVLcj1xjpYoiSiHzfjT/OreetOE0iW9w48kTk0yIS615miMh4VW0FHgd+KCJJIjIOJwnprb8DX3L/jyIiySJyaYcvhq5UAOki0t+nLAXn/1LvxnZTJ/fpqmPX2zi/7r/l1nkOcDlO23tAidPZ8dgFpx9Ep7GcwnMQ3+Fxuvos3oTT5v4n+aAz4l+Bn8kHnWIzReTK3tYXwH0vvAHc6cZzBnAj0N5RcRFOMpIpTsfY/+ez7RHgBhGZICJJOE1VJ/Ipn/1/DDzq/i8fAC4XkQUiEu3GMkdEhnZ/uE7rVI6TCFwkIr892ftHCksCzIeo6svA93E61+wFxgDXenSsZ3E66n1eVZ8AfoFz+r0OeBdo792civMldhDn9OJ+4G6f4zyE8+F0AKfD2qfc+Pbj/IL/hnufbwGXqWp1D2IbDDyK80VXDCzHaSIA54sgDqc996C735BOjgHOL5v/w/klVI7TGepSVa13T89eiPM/K8c5nfsLnA5hALfgdPDb5z72IpyzECdNndEYn8dpVjmI0zfhhh7et8R97J3uadxsnPbsT+B0ovs78HCHu/0Q+Je7/zUdjteE80V7Mc7/5c/AZ9zHCaQcnCYS38uwE8TSm+egvsNjzOtqR1Vdj/Ma/bs4vfl/BywBXhSRQzgd9s482Yp24jqcPgXlOB1bf+C+f8Hp57Aa2ABsBNa6Zajq88A9QCHOa6awB4/1H5x+HftwOiJ+1T1WKU4H4O/gnGUpxTmj16vvKlXdjfO//aiI3NmbY4S79g5XxoQtEbkfp8PXh+ZFCDci8gtgsKpe73Uskcqeg+6JSBFOB8h/eB2LsTMBxoQ0ceYQOMM9fT8T5xTuE17HFUnsOTChLBhmhzPG9F4KzunnbJw29l/jDI0yfceeAxOyrDnAGGOMiVDWHGCMMcZEKEsCjDHGmAgVcX0CMjIydOTIkX473uHDh0lOTvbb8bwULnUJl3qA1SVYhUtdwqUeYHXpzpo1a6pVNbOzbRGXBIwcOZLVq1f77XhFRUXMmTPHb8fzUrjUJVzqAVaXYBUudQmXeoDVpTsi0uVUztYcYIwxxkQoSwKMMcaYCGVJgDHGGBOhLAkwxhhjIpQlAcYYY0yEsiTAGGOMiVCWBBhjjDERKuLmCTDh68l1Zdy9dAtlNQ3kvFXIbQvyWTglx+uwjDEmaFkSYMLCk+vKuOPxjTQ0twJQVtPAHY9vBLBEwBhjumDNASYs3L10y7EEoF1Dcyt3L93iUUTGGBP8LAkwYaG8puGkyo0xxlgSYMJEdlriSZUbY4yxJMCEidsW5JMQc/zLOTE2mtsW5HsUkTHGBD9LAkxYWDglh8snZx+7LcBPrpxonQKNMaYblgSYsHHwcBNDByTy1SnxKJAzIMnrkIwxJqhZEmDCQmNzK69tr2b+uEGMT48mJkpYsa3K67CMMSaoWRJgwsKbO/bT2NzGvPFZJMYIU0cMYPkWSwKMMaY7lgSYsLCspIKkuGjOHDUQgPPyMtm8t46qQ0c9jswYY4KXJQEm5Kkqr5RUcc7YDBJiowEoyM0E4FVrEjDGmC5ZEmBC3paKQ5TVNDB//KBjZROzU0lPjmPFVksCjDGmK5YEmJC3rLgSgLn5HyQBUVHCubkZvLqtmrY29So0Y4wJagFPAkQkWkTWicgz7u1RIvK2iGwXkYdFJM4tj3dvb3e3j/Q5xh1u+RYRWeBTfpFbtl1Ebg90XUxwKiyp5Iyh/RmUmnBceUFeJvsPN7F5b51HkRljTHDrizMBtwLFPrd/AfxWVccCB4Eb3fIbgYNu+W/d/RCRCcC1wETgIuDPbmIRDfwJuBiYAFzn7msiyIHDTazdfZB54wZ9aNu5br+A5dYkYIwxnQpoEiAiQ4FLgX+4twWYBzzq7vIvYKF7/Ur3Nu72+e7+VwKLVfWoqr4HbAdmupftqrpTVZuAxe6+JoIUbalEFeaPy/rQtsyUeCYMSbUkwBhjuhDoMwH3AN8C2tzb6UCNqra4t/cA7fO65gClAO72Wnf/Y+Ud7tNVuYkgy0oqGZQSz8Ts1E63F+Rlsvb9gxxqbO7jyIwxJvjFBOrAInIZUKmqa0RkTqAep4exfAH4AkBWVhZFRUV+O3Z9fb1fj+elUKtLS5tSuPkIMwbHsGLF8mPlvvXof6SVljbl708tZ2pWwF7uARNqz0l3rC7BJ1zqAVaX3grkp+Js4AoRuQRIAFKB3wFpIhLj/tofCpS5+5cBw4A9IhID9Af2+5S3871PV+XHUdV7gXsBpk+frnPmzDnlyrUrKirCn8fzUqjV5Y0d1TS0vM2n5k5izsTBx8p96zGrpY0/rH+RA/FZzJlzukeR9l6oPSfdsboEn3CpB1hdeitgzQGqeoeqDlXVkTgd+wpV9ZPAK8BH3d2uB55yry9xb+NuL1RVdcuvdUcPjAJygZXAKiDXHW0Q5z7GkkDVxwSfwuJK4mKimD02o8t94mKimDUmnRVbq/swMmOMCQ1ezBPwbeDrIrIdp83/Prf8PiDdLf86cDuAqm4CHgE2Ay8AN6tqq3sm4RZgKc7og0fcfU2EKCyp5OzR6STHd39CqyAvk90HjrCr+nAfRWaMMaGhTxpJVbUIKHKv78Tp2d9xn0bgY13c/2fAzzopfw54zo+hmhCxs6qendWHuX7WyBPuW+AzVHBkRnKAIzPGmNBhMwaakFRY4swS2Nn8AB2NzEhm+MAkm0LYGGM6sCTAhKTCkkrysvoxbGBSj/YvyMvgzZ37aWppO/HOxhgTISwJMCGnrrGZle8dYF4nEwR1pSA3kyNNrax+/0AAIzPGmNBiSYAJOa9uraalTY9bNfBEZo3NICZKbJSAMcb4sCTAhJxlJRWkJcUyZVhaj+/TLz6GaSMGWL8AY4zxYUmACSmtbUrRlirm5GUSE31yL9+CvEw2762j8lBjgKIzxpjQYkmACSnvlNZw4HAT88b3vD9Au/PynKGCr1qTgDHGAJYEmBBTWFJBdJRwnjv2/2RMGJJKenIcK7ZZk4AxxoAlASbELCuuZPqIAfRPij3p+0ZFCefmZvDqtmra2jQA0RljTGixJMCEjLKaBkr2HTqpUQEdnZefyYHDTWwqr/NjZMYYE5osCTAh44NZAk++P0C7c91mBGsSMMYYSwJMCHmlpJIR6UmMyez9/P8Z/eKZmJ3KchsqaIwxlgSY0NDQ1Mrr26uZN24QInJKxyrIy2Tt+wc51Njsp+iMMSY0WRJgQsIbO6o52tLG/FNoCmhXkJtJS5vyxo79fojMGGNClyUBJiQsK6kkOS6amaMGnvKxpo0YQHJctM0eaIyJeJYEmKCnqhQWV1KQl0lczKm/ZONiojh7TDortlWhakMFjTGRy5IAE/Q2761jX10j88b1fmhgR+flZVJ6oIFd+4/47ZjGGBNqLAkwQa+wuBIRmJPvvySgwJ1C2JoEjDGRzJIAE/SWlVQyaWgamSnxfjvmiPRkRqQnWRJgjIlolgSYoFZ16Cjr99Qw349NAe0KcjN5Y8d+jra0+v3YxhgTCiwJMEGtaEslqjDvFKYK7kpBXiYNza2s2XXQ78c2xphQYEmACWqFJZUMTk1gwpBUvx/77DHpxEQJy20KYWNMhLIkwAStppY2VmytYt74U58lsDP94mOYNmIAK7ZW+/3YxhgTCiwJMEFr5XsHONzUGpD+AO3Oy8+keG8dlYcaA/YYxhgTrCwJMEFrWUkF8TFRzBqTEbDHKHBXFXzVzgYYYyKQJQEmKKkqy4ormTUmncS46IA9zoQhqWT0i7OlhY0xEcmSABOUdlQdZveBI8wbf+oLBnUnKko4NzeTV7dV09ZmUwgbYyKLJQEmKBWWVAD4dargrhTkZXDgcBPvltcG/LGMMSaYWBJggtKy4krGDU4hJy0x4I91bq5NIWyMiUyWBJigU3ukmdXvH2R+ACYI6kxGv3gmZqfaUEFjTMSxJMAEneXbqmhtU+aNC2x/AF/n5WWydvdBDjU299ljGmOM1ywJMEGnsLiCgclxTB6W1mePWZCXSUub8saO/X32mMYY4zVLAkxQaWlto2hrFXPyM4mO8v8sgV2ZOnwAyXHR1i/AGBNRLAkwQWVdaQ01R5qZ34dNAQBxMVGcPSaD5VurULWhgsaYyGBJgAkqhSWVxEQJ5+YFbpbArpyXl8Gegw28V324zx/bGGO8YEmACSqFxZXMHDWQ1ITYPn/sgjwbKmiMiSyWBJigUXrgCFsqDvXJBEGdGZGezMj0JFZss6GCxpjIYEmACRqvbKkEYH6ApwruTkFeJm/u2M/RllbPYjDGmL5iSYAJGsuKKxmdkcyojGTPYijIzaShuZU1uw56FoMxxvQVSwJMUDh8tIU3d+z3rCmg3dlj0omNFpZbvwBjTASwJMAEhde3V9PU2sa8PpoquCvJ8TFMGzHAkgBjTESwJMAEhcKSSlLiY5gxcqDXoVCQl0nJvkNU1jV6HYoxxgSUJQHGc21tSmFJJQX5mcRGe/+SLGhfVdBGCRhjwpz3n7gm4m0qr6Py0FHme9wfoN2EIalk9Iu3+QKMMWHPkgDjuWUlFYjAnPzgSAKiooSC3Axe215NW5tNIWyMCV8BSwJEJEFEVorIehHZJCI/cstHicjbIrJdRB4WkTi3PN69vd3dPtLnWHe45VtEZIFP+UVu2XYRuT1QdTGBVVhSydThAxiYHOd1KMcU5GVy4HAT75bXeh2KMcYETCDPBBwF5qnqJGAycJGInAX8Avitqo4FDgI3uvvfCBx0y3/r7oeITACuBSYCFwF/FpFoEYkG/gRcDEwArnP3NSGksq6RDXtqPR8a2NE5uc7aBcu3WJOAMSZ8BSwJUEe9ezPWvSgwD3jULf8XsNC9fqV7G3f7fBERt3yxqh5V1feA7cBM97JdVXeqahOw2N3XhJAPZgkMriQgo188p+WksmKbJQHGmPAVE8iDu7/W1wBjcX617wBqVLXF3WUPkONezwFKAVS1RURqgXS3/C2fw/rep7RD+ZldxPEF4AsAWVlZFBUVnVK9fNXX1/v1eF7yoi4Pr20kPUHYW7yGfSXil2P6qx4j45t47r1mnnvpFZJi/RPbybLXV3AKl7qESz3A6tJbAU0CVLUVmCwiacATwLhAPl43cdwL3Aswffp0nTNnjt+OXVRUhD+P56W+rktjcytfLnyJq6YOY+7c0/12XH/VI2H4fp659y2ihoxnzmmDTz2wXrDXV3AKl7qESz3A6tJbfTI6QFVrgFeAs4E0EWlPPoYCZe71MmAYgLu9P7Dft7zDfboqNyHi7fcOcKSplfnjvFswqDtThw+gX3yMNQkYY8JWIEcHZLpnABCRROACoBgnGfiou9v1wFPu9SXubdzthaqqbvm17uiBUUAusBJYBeS6ow3icDoPLglUfYz/FRZXkBAbxdlj0r0OpVNxMU5sK7ZW4bwUjTEmvASyOWAI8C+3X0AU8IiqPiMim4HFIvJTYB1wn7v/fcB/RGQ7cADnSx1V3SQijwCbgRbgZreZARG5BVgKRAP/VNVNAayP8SNVZVlJJeeMzSAhNtrrcLpUkJfJS5sreK/6MKMz+3kdjjHG+FXAkgBV3QBM6aR8J07P/o7ljcDHujjWz4CfdVL+HPDcKQdr+ty2ynr2HGzgy3PGeh1Kt85zpxBevrXKkgBjTNixGQONJ5YVO0MDg21+gI6GpycxMj3JphA2xoQlSwKMJwpLKpiYncrg/gleh3JCBXmZvLXzAEdbWr0OxRhj/MqSANPnDh5uYs37B4NmwaATKcjNpKG5ldW7DnodijHG+JUlAabPrdhWRZvCvPHBOTSwo7PHpBMbLdYkYIwJO5YEmD63rLiSjH5xnJHT3+tQeiQ5PobpIway3JIAY0yYsSTA9KmW1jaKtlQyN38QUVHeTMXbGwV5mZTsO0RFXaPXoRhjjN9YEmD61Jr3D1LX2BJ0CwadSEGes6qgNQkYY8KJJQGmTxWWVBIbLZzjjr8PFeMHp5LRL54V26q9DsUYY/zGkgDTp5aVVHLW6HT6xQd07Sq/i4oSCnIzeG1bFa1tNoWwMSY8WBJg+sz7+w+zvbI+6CcI6sp5+ZkcPNLMu2W1XodijDF+YUmA6TOFJaExS2BXzhmbgYj1CzDGhA9LAkyfKSypZOygfoxIT/Y6lF5J7xfPadn9bWlhY0zYsCTA9In6oy28tXN/yMwS2JWCvAzW7q6hrrHZ61CMMeaUWRJg+sRr26pobtWQbQpoV5CbSWub8sZ2GyVgjAl9lgSYPrGsuJLUhBimjRjgdSinZOqIAfSLj2H5VksCjDGhz5IAE3BtbcorWyqZkz+ImOjQfsnFRkdx9ph0VmytQtWGChpjQluXg7VF5Kru7qiqj/s/HBOONpTVUl3fFHKzBHblvLxMXtpcwc7qw4zJ7Od1OMYY02vdzdhyuft3EDALKHRvzwXeACwJMD1SWFxBlDhfnuGgvR4rtlZZEmCMCWldnptV1c+q6meBWGCCql6tqlcDE90yY3pkWUkl00cMJC0pzutQ/GLYwCRGZSTbfAHGmJDXkwbaYaq61+d2BTA8QPGYMLOvtpFN5XXMC5OmgHYFuRm8uXM/jc2tXodijDG91pMkYJmILBWRG0TkBuBZ4OXAhmXCRajPEtiVgrxMGpvbWL3roNehGGNMr50wCVDVW4C/ApPcy72q+pVAB2bCQ2FJBUMHJJI7KLzazs8anU5stNjsgcaYkNbT8Vpv4HQMXAa8HrhwTDhpbG7lte3VzB83CBHxOhy/So6PYfqIgdYvwBgT0k6YBIjINcBK4KPANcDbIvLRQAdmQt+bO/bT2NzGvPFZXocSEOflZ1Ky7xAVdY1eh2KMMb3SkzMB3wVmqOr1qvoZYCbw/cCGZcLBspIKkuKiOXPUQK9DCYiC3A+GChpjTCjqSRIQpaqVPrf39/B+JoKpKoXFlZwzNoOE2GivwwmI8UNSyEyJZ7klAcaYENWTL/MXOhkd8FxgwzKhrmTfIcprG8NmlsDOiAjn5mbw2vZqWttsCmFjTOjpyeiA24C/AWe4l3tV9duBDsyEtvahgXPzwzcJAGf2wJojzWwsq/U6FGNMiHtyXRmz7yrkhhcOM/uuQp5cVxbwx+xu2mBfrwPNgOJ0EjSmW4UllZwxtD+DUhO8DiWgzhmbgYjTL2DysDSvwzHGhKgn15Vxx+MbaXAnICuraeCOxzcCsHBKTsAe10YHGL87cLiJtbsPht0EQZ1J7xfPadn9rXOgMeaU3L10y7EEoF1Dcyt3L90S0MftyZmA9tEBlQAikokzY+CjgQzMhK6iLZWowvxx4Tk0sKPz8jL5y/Id1DU2k5pgy2oYY05eeU3DSZX7i40OMH63rKSSQSnxTMxO9TqUPlGQl0lrm/LG9mqvQzHGhKBHVpfSVdfi7LTEgD62jQ4wftXc2saKLVXMGzeIqKjwmiWwK1OGp9EvPsaGChpjTkpjcyu3P7aBbz26gdxBySTEHv+VnBgbzW0L8gMawwmbA1T1NhG5GpjtFt2rqk8ENCoTslbtOsChoy0R0R+gXWx0FLPGpLNiazWqGnZTJBtj/K/0wBFuenAN75bVccvcsfzvBXk8vb6cu5duoaymgZy0RG5bkB/QToHQw9EBqvoY8FhAIzFhobC4kriYKGaPzfA6lD5VkJfJi5sr2FF1mLFhtliSMca/Cksq+NridwC47/rpzHenVl84JYeFU3IoKipizpw5fRJLT0YHXCUi20SkVkTqROSQiNT1RXAm9BSWVHL26HSS43s6+jQ8nJdnUwgbY7rX2qb8aukW/uf+1QwbmMQzXzn3WALglZ70CfglcIWq9lfVVFVNUdXI6PFlTsrOqnp2Vh8O61kCuzJsYBKjM5JtaWFjTKf21x/lM/98mz++sp2PTx/GYzfNYnh6ktdh9ag5oEJViwMeiQl5kTJLYFcK8jJZvGo3jc2tYbtegjHm5K3dfZCbH1zLgcNN/PLqM7hmxjCvQzqmyyRARK5yr64WkYeBJ4Gj7dtV9fHAhmZCTWFJJflZKQwb6H1264WCvAzuf2MXq3cd5JzcyOoTYYz5MFXlX2/s4mfPFTOkfyKP3TSL03L6ex3Wcbo7E3C5z/UjwIU+txWwJMAcU9fYzMr3DvD5gtFeh+KZs0anExcdxfKtlZYEGBPhDh9t4fbHN/L0+nLOHz+IX39sMv2Tgm8ysS6TAFX9bF8GYkLbq1uraWlT5kfQ0MCOkuJimD5yACu2VvPdS72Oxhjjle2V9XzpgTXsrKrntgX53HTemKCdN6W75oBvqeovReQP8OHJjFT1qwGNzISUZSUVpCXFMmX4AK9D8VRBXiZ3PV/CvtpGBvcP78WTjDEf9syGcr796AYSYqN54MYzmRXkw6W7Gx3Q3hlwNbCmk4sxgDPspWhLFXPzBxEdpNluXynIdYcK2igBYyJKc2sbP356M7c8tI78wSk8+9Vzgz4BgO6bA552//6r78Ixoeid0hoOHG6KqFkCuzJ+SAqZKfGs2FrFNdODpwew8Y8n15V9MKPbW4V9MqObCX77ahu5+aG1rHn/IJ+dPZI7Lh5PXExoLLHTXXPA03TSDNBOVa/o7sAiMgz4N5DlHudeVf2diAwEHgZGAruAa1T1oDhzrf4OuASnI+INqrrWPdb1wPfcQ/+0PTERkWnA/UAiznoGt6pqlzGbwCgsqSA6SihwJ8yJZCJCQW4my0oqaG3TiD8zEk68Wu/dBLc3tlfz1cXrONLUyh+um8Llk7K9DumkdDc64FeneOwW4BuqulZEUoA1IvIScAOwTFXvEpHbgduBbwMXA7nu5UzgL8CZbtLwA2A6TjKxRkSWqOpBd5/PA2/jJAEXAc+fYtzmJC0rrmT6iAH0Twy+nq9eKMjL4LG1e9iwpybi+0iEk67We//2Yxt4+7395KQlkjMgkZy0JHIGJJKVEk9MdGj8GjQnr61N+euKHfxq6RZGZ/Zj8RemMnZQitdhnbTumgOWt18XkURguKpu6emBVXUvsNe9fkhEioEc4Epgjrvbv4AinCTgSuDf7i/5t0QkTUSGuPu+pKoH3FheAi4SkSIgVVXfcsv/DSzEkoA+VVbTQMm+Q3znknFehxI0zs3NRARWbK22JCCMdLWu+9GWNl7cVMH+w03HlUdHCYNTE8gZkMjQtESyjyUJH/y1SaVCU21DM994ZD0vF1dw2RlD+MXVZ4TsVOknjFpELsc5KxAHjBKRycCPT9Qc0OEYI4EpOL/Ys9wEAWAfTnMBOAlCqc/d9rhl3ZXv6aTc9KH2WQLnjfN2/utgMjA5jtNz+rNiWxW3np/rdTjGT7JSE9hX1/ih8py0RF6/fR4NTa2U1TQ4l4MNlNUccf828NbO/eyra6StQ2NlRr+445IC53rSsTI7uxZ8NpXXctMDaymvaeCHl0/g+lkjQ3rl0J6kLj8EZuL8YkdV3xGRUT19ABHph7MC4ddUtc73n6WqKiIBb8MXkS8AXwDIysqiqKjIb8eur6/36/G81Ju6/HdNI4OShNJNq9izOTjeCMHwnIyIa+LZ95p59qVXSI7t/f8lGOriL6Fel2GJTezrsHRaXBRcOrz1Q/XKBrLjYcZgYDBANK1tSRw8quxvUKob2tjf6P5tOMTaA3W81Kg0tx1//MQYSE8Q0hOjyEgU0hOFjIQo0hOF9AQhNV6IOoUvoFB/Tnz1RV1e3dPMvzc30S9W+PaMeEY2v8/y5e/7/XH68nnpSRLQrKq1HTKdHn1xi0gsTgLwoM80wxUiMkRV97qn+yvd8jLAtzv1ULesjA+aD9rLi9zyoZ3s/yGqei9wL8D06dPVn0s09uWSj4F2snVpaGply8sv8okzRzB37sTABXaSguE5SRpxgKf/9iZRg8cx5/QhvT5OMNTFX0K5Lm1tyvdXvsLYzCgamtsCst67qlJd39TpmYQ9BxtYWdnAocbm4+4TFxNFdv8EnzMJSceuDx2QyOD+CcR20i/hg1EOQk5aW1iMcgjk66uxuZUfPb2JRe+WMmtMOr+/bgoZ/eID8ljQt++VniQBm0TkE0C0iOQCXwXeONGd3N7+9wHFqvobn01LgOuBu9y/T/mU3yIii3E6Bta6icJS4Oci0t64eiFwh6oecJc2PgunmeEzwB96UB/jJ2/sqOZoSxvzrSngQ6YMTyMlPoYV26q4+BSSABMcXt9RTemBBn5/3RSumJQdkA9pESEzJZ7MlHgmD0vrdJ+6xmYnMTjYQHmt83ePmzS8sqWKqkNHj9s/SpxmDN8mh6r6ozy1rpymVue0g41y6F7pgSPc9OAa3i2r4+a5Y/j6BflhNeqnJ0nAV4Dv4iwe9BDwIvDjHtxvNvBpYKOIvOOWfQfny/8REbkReB+4xt32HM7wwO04QwQ/C+B+2f8EWOXu9+P2ToLAl/lgiODzWKfAPrWspJLkuGhmjhrodShBJzY6illj01mxtRpVDek2QwOLVu5mQFIsCyZ6m/CmJsSSOiSW8UM6X829sbmVvbWNx51JaE8S1rx/kGc37KWlY8cEnFEOv3yhxJKADgpLKvja4ndQ4B+fmc75E8LvB09PkoDrVPW7OIkAACJyF87Qvi6p6mtAV5988zvZX4GbuzjWP4F/dlK+GjituzhMYKgqhcWVFORlhsykGH2tIC+TpZsq2FFVH5JDh4yj6tBRXtxUwQ2zRhIfE9y9+RNioxmVkcyojOROt7e2KWO/81yn7bnltY1845H1XDE5m9lj0iN6eGNrm3LPy1v5Q+F2JgxJ5a+fmsbw9PBcHbUnScDVItKoqg8CiMgfcX55mwi2eW8d++oabZbAbrRPIbx8a7UlASHssbV7aGlTrp0Z+jNARkcJ2WmJlHUy3DEpLpoXN+/jsbV7SE+O45LTh3DF5GymDR8QtIvfBML++qPcuvgdXttezcenD+NHV04M66GcPUoCgCUi0oYzGU+Nqt4Y2LBMsCssrkQE5uRbEtCVYQOTGJ2RzIqtVdx4To8H1JggoqosXrmbmSMHhk0id9uC/ONmPgRIjI3m5x85nYtOG8zyrVUsWV/Of9eU8p+33ie7fwKXT8rm8knZTMxODeumrbW7D3Lzg2vZf7iJX1x9Oh+fMdzrkAKuu2mDfRt6Pwc8CbwO/EhEBvq0y5sItKykkklD08hMCVwP2XBQkJfJ4lW7aWxuDetfE+HqzZ372bX/SFjN99De7n9sDYQOoxwWTBzMgomDqT/awsubK1iyvpz7XnuPv63YyejMZK6YlM0Vk7IZndnPy2r4lary7zff56fPbmZw/wQev2kWp+X09zqsPtHdmYA1OEMBxefvpe5FgdEBj84EpapDR1m/p4avn5/ndShBryAvg/vf2MWqXQc4N9fWVgg1i1eWkpoQw8WnhdcIj4VTclg4JafbUQ794mOO7XfwcBPPv7uPJevL+N2ybdzz8jYmZqdyhXuGIDstdFuIDx9t4Y7HN7JkfTnzxw3iN9dMpn9S5EzS1N20wXb+0nSqaEslqjBvvDUFnMhZo9OJi45ixdYqSwJCzIHDTbzw7j4+cebwiD+LMyA5jk+cOZxPnDmcfbWNPLOhnKfXl3Pn8yXc+XwJM0YO4IpJ2Vxy+hDSAzh+3t+2V9Zz0wNr2FFVz20L8rnpvDER1f8Bum8OmKeqhSJyVWfbfSb/MRGmsKSSwakJTOhimJL5QFJcDDNGDWDF1mq+e6nX0ZiT8fjaPTS1tnHdzPBvFz4Zg/sn8LlzR/O5c0ezq/owT68vZ8n6cr7/1CZ++PRmZo/N4IpJ2SyYmEVKQvD+on52w16+9eh6EmKj+c+NZzJ7bIbXIXmiu+aA84BC4PJOtilgSUAEamppY8XWKq6ckhPWHYT8qSA3kzufL2FvbQND+ofuadNIoqosWrmbqcPTyB8cHh0CA2FkRjJfmZ/LLfPGUrLvEEvWO2cIvvnf9XzniSjm5Q/iisnZzBs3KGjOpjS3tnHncyX88/X3mDo8jT99cmpEvy+7aw74gfv3sx23icjVgQzKBK+V7x3gcFMr821oYI8V5DlJwKtbq7lmRugPM4sEq98/yI6qw/zyo2d4HUpIEBHGD0ll/JBUvrUgn7W7a3h6fTnPbNjLC5v20S8+hgsnZHH55GzOGZvR6VTGfWFfbSO3PLSW1e8f5IZZI/nOJeMjfp6T3q59+FucNQFMhFlWUkF8TBSzxkTmqbPeGDc4hUEp8SzfVmVJQIhY9PZuUuJjuOyM8OoQ2BdEhGkjBjBtxAC+f9kE3tq5nyXvlPP8u3t5fF0ZA5JinTkIJmUzY+TAPmuDf2NHNV9dtI4jTa3Hpn82vU8C7DxwBFJVlhVXMntsBolxwXFqLxSICOfmZvJycQWtbRpW846Ho9ojzTy7cS8fmz6UpLjQXCM+WERHCbPHZjB7bAY/XjiRFVurWbK+nMfXlvHg27sZ0j+By84YwhWTcjgtJzBzELS1KX9dsYNfLd3CqIxkFn3+LHKzrImnXW9f4QFf/tcEnx1Vh9l94AhfKLDRoSfrvPxMHlu7hw17apgyfMCJ72A888S6PRxtsQ6B/hYfE80FE7K4YEIWh4+28HJxBU+vL+f+N3bx91ffY1RGMpdPyuaKSUP8NjFTbUMz33hkPS8XV3DZGUO46+oz6BdviZ2v7kYHbKTzL3sBwm8VBXNChSUVADZVcC+cOzYDEVixtdqSgCDmdAgs5Yyh/ZmYHRmTxXghOT6GKyfncOXkHGqOOEMxl6wv5w+F2/j9sm2MH9I+B8EQhg7o3Zz9m8pr+fKDayk72MAPLp/ADbNGWmfmTnSXEl3WZ1GYkLCsuJLxQ1JDemIQrwxIjuOMnP4s31oZVrPPhZt1pTVsqTjEnVed7nUoESMtKY5rZw7n2pnDqaxr5JkNe1myvpxfvFDCL14oYdqID+Yg6OkMpf9dXcr3nnyXtKRYHv7iWUwbYSuddqW70QHv92UgJrjVHmlm9fsHuem8MV6HErIK8jL50yvbqT3SHFEzkoWSRW/vJikumsut05gnBqUm8D/njOJ/zhnF7v1HeHpDOUveKecHSzbxo6c3MXtsBpdPymbBxMH0T3TeQ0+uKzs2BXL2m8sYkZ7EmzsPMGtMOr+/bgoZITR5kResccT0yPJtVbS2qc0SeAoK8jL5Q+F2Xt9RzSWnW6/zYFPX2MwzG/aycEq2tRsHgeHpSdw8dyw3zx3Lln2HWLK+jKfX7+Vbj27ge0+8y5z8TIb0T+Dh1aU0NrcBznLI5bWNXDB+EH/99HTrhNsD9ko3PVJYXEF6chyThqZ5HUrImjwsjZT4GFZsrbIkIAg99U45Dc2t1iEwCOUPTuG2weP45oX5rN9Ty5J3ynlmQzkvbj7a6f6b9x6yBKCHInuWBNMjLa1tFG2tYk7+IHtjnYLY6ChmjU1nxdYqVG2ATTBRVRa9vZsJQ1I5PUJWjwtFIsLkYWn8v8sn8OYd87vcr7ymoQ+jCm0nTAJEZKOIbOhweVVEfisi6X0RpPHWutIaao4026gAPzgvbxDltY3sqKr3OhTjY2NZLZv31nHdmcOtB3mIiI4ScrropGydl3uuJ2cCngeeBT7pXp4GVgP7gPsDFpkJGsuKK4mJEs7Ns1kCT1WB+z9cvrXa40iMr0UrS0mMjebKydYhMJTctiCfxA5rEiTGRnPbgnyPIgo9PekTcL6qTvW5vVFE1qrqVBH5VKACM8GjsKSCmaMGkhrEK4KFiqEDkhidmczyrVXceI6t1h0MDh9tYck7ZVx2xhB7jYeYhVNyAI6NDshJS+S2BfnHys2J9SQJiBaRmaq6EkBEZgDtqVdLwCIzQaH0wBG2VtRzzXSb895fCnIzWbRyN43NrUGzsloke3p9OYebWrnWOgSGpIVTclg4JYeioiLmzJnjdTghpyfNAZ8D7hOR90RkF3Af8DkRSQbuDGRwxnuvbKkEYP54myTSX87Ly+RoSxsr3zvgdSgGWLRyN/lZKUwdnuZ1KMb0uRMmAaq6SlVPByYDk1T1DLfssKo+EvAIjaeWFVcyOiOZURnJXocSNs4cPZC46ChWbK3yOpSIt6m8lvV7arl25jDrEGgiUk9GB/QXkd8Ay4BlIvJrEbExNBHg8NEW3tyx30YF+FlSXAwzRg1gxTZLAry2eGUp8TFRfMTakE2E6klzwD+BQ8A17qUO+L9ABmWCw+vbq2lqbbNZAgPgvLxMtlbUs7fWxjN75UhTC0+uK+OS04eQlhTndTjGeKInScAYVf2Bqu50Lz8CbC3ZCFBYUklKfAwzRtriG/5WkJcJwKs2VNAzz27Yy6GjLTZDoIloPUkCGkTknPYbIjIbsJ8vYa6tTSksqaQgP5PYaJtY0t/ys1LISo1nufUL8MyilbsZk5nMjJG2tLOJXD0ZIvgl4N8+/QAOAtcHLiQTDDaV11F56CjzrT9AQIgI5+Zm8tLmClrb1KZj7mNb9h1i7e4avnfpeOsQaCJaT0YHrFfVScAZwBmqOgWYF/DIjKeWlVQgAnPyLQkIlIK8TGobmlm/p8brUCLOopW7iYuO4qqpQ70OxRhP9fg8r6rWqWqde/PrAYrHBInCkkqmDh/AwGTrMBUo547NQAQbKtjHGptbeWJdGQtOG2yvbxPxetvYa+fPwlhlXSMb9tTa0MAAG5AcxxlD0ywJ6GPPv7uX2oZmrptps2Aa09skwNZBDWMfzBJoSUCgnZebwTulNdQeafY6lIixaGUpI9OTOHu0LYJqTJdJgIgcEpG6Ti6HgIhfauvJdWXMvquQG144zOy7CnlyXZnXIfnNsuJKctISyc9K8TqUsFeQl0mbwmvbbahgX9heWc/K9w5w7UxbMtgY6CYJUNUUVU3t5JKiqj0ZVRC2nlxXxh2Pb6SsxhkpWVbTwB2PbwyLRKCxuZXXtlczb9wg+5DsA5OHpZGSEGNNAn3k4VW7iYkSrrYOgcYAvW8OiGh3L91CQ3PrcWUNza3cvXSLRxH5z9vvHeBIU6vNEthHYqKjmD0mgxXbqlC1VrZAOtrSyqNr9nDhxCwyU+K9DseYoGBJQC+U13Q+V1JZTQO3Ll7HX4p28EpJJXtrG0Lug72wuILE2GhrL+1DBXmZ7K1tZHtlvdehhLWlmyo4eKSZa2fYDIHGtIvo0/q9lZ2WeKwpwFd8TBSrdx3kqXfKj5WlJsQwbkgq4wanMG5wKvmDU8gfnEK/+OD716sqy0oqmT02w9a570MFeRkALN9aRa71wwiYxSt3M3RAIueMzfA6FGOCRvB9E4WA2xbkc8fjG49rEkiMjebOq05n4ZQcahua2VpxiJK9dZTsO0TJvkM8vraM+qPvH9t/2MBExg0+PjkYmZ5EjIdT9JbXK3sONnDz3LGexRCJhg5IYkxmMiu2VfO5c21ZjkDYVX2YN3bs55sX5hFlszMac4wlAb2w0F129O6lWyiraSAnLZHbFuQfK++fGMuMkQOPW3hH1fmCLdl3iC376ijed4gt+w6xrLiCNrfFID4mitysfh9KDvqq/fKdqhYA5tosgX2uIC+Th97eTWNzq52FCYDFq0qJjhI+Nt3mBjDGlyUBvbRwSg4Lp+RQVFTEnDlzTri/iDBsYBLDBiZxwYSsY+WNza1sr6w/lhyU7DvE8q1VPLpmz7F9MvrFke8mBe3JQW5WP79/WayvauW0nFQG90/w63HNiRXkZfJ/r+/i7fcOcJ67wqDxj6aWNh5dU8q8cYPISrXXtjG+LAnwWEJsNKfl9Oe0nP7Hle+vP8qWfYfcMwZOcvDg2+/T2NwGQJTAyIxkxrtnC9qTg6EDEnt1uvPg4Sa2HWzjK1OzTryz8buzRqUTFxPFiq1VlgT42bLiCqrrm/iELRlszIdYEhCk0vvFM2tsPLN8OjG1tinv7z98rJ9Byd463i2v5dmNe4/tkxwXTd5xZw2c6/2TYrt8rCfXlfGjpzehwKK3dzM6I/lY04bpG4lx0cwcOdDmCwiAh1buJrt/AgWWXBnzIZYEhJDoKGF0Zj9GZ/bjktOHHCs/fLTF6Yjo9jMo3lvH8+/uZdHK3cf2GdI/4fgmhSEpjM7ox3Mb9x7XybGq/ih3PL4RwBKBPlaQl8HPnyuhvKaB7LREr8MJC6UHjvDa9mpunZ9ryzUb0wlLAsJAcnwMU4YPYMrwAcfKVJWKuqOUuE0J7cnB69uraW51eiLGRguq0NJ2/FwG7RMfWRLQtwryMvn5cyW8uq2Kj9tYdr94eFUpAlxjHQKN6ZQlAWFKRBjcP4HB/ROY49Pbv7m1jZ1Vh48lB38p2tHp/buaEMkETn5WClmp8azYWm1JgB+0tLbxyOpS5uQPsjMrxnQhYIPSReSfIlIpIu/6lA0UkZdEZJv7d4BbLiLyexHZLiIbRGSqz32ud/ffJiLX+5RPE5GN7n1+LzbRfY/ERkeRPziFKyfn8O2LxpHTxYejfWj2PRGhIDeT17ZX09La5nU4Ia+wpJLKQ0e5zjoEGtOlQM5Mcz9wUYey24FlqpoLLHNvA1wM5LqXLwB/ASdpAH4AnAnMBH7Qnji4+3ze534dH8v0wG0L8knsMNQwMTaa2xbkexRRZCvIy6S2oZn1e2q9DiXkLV5VSlZqPHPzrUOgMV0JWBKgqiuAAx2KrwT+5V7/F7DQp/zf6ngLSBORIcAC4CVVPaCqB4GXgIvcbamq+pY6k/P/2+dY5iQsnJLDnVedfuyMQE5a4rGZD03fO2dsBiLYKIFTVFbTQNGWSq6ZPszTWTiNCXZ93ScgS1Xbx7PtA9oHpecApT777XHLuivf00l5p0TkCzhnGMjKyqKoqKj3Neigvr7er8fzQhrws7OiqK9X+vWLgtptFBVt8zqsXgv152RUahTPrN7BlNjykK+Lr76syxPbmlCF4S1lFBXtPfEdTlK4PC/hUg+wuvSWZx0DVVVFpE+W2FPVe4F7AaZPn649meGvp3o6Y2AoCJe6hHo91jZt4Y+vbGfKzNmsW/l6SNfFV189L61tyh1vFnJuXhofu2RmQB4j1F9j7cKlHmB16a2+Pk9W4Z7Kx/1b6ZaXAb5jeIa6Zd2VD+2k3JiQV5CXSZvCa9urvQ4lJC3fWsne2kaum2HDAo05kb5OApYA7T38rwee8in/jDtK4Cyg1m02WApcKCID3A6BFwJL3W11InKWOyrgMz7HMiakTR6WRkpCjPUL6KVFK0vJ6BfP+RNsCmxjTiSQQwQXAW8C+SKyR0RuBO4CLhCRbcD57m2A54CdwHbg78CXAVT1APATYJV7+bFbhrvPP9z77ACeD1RdjOlLMdFRnDM2g+Vbq3D6vZqeqqhrpLCkko9OG0qsdQg05oQC1idAVa/rYtP8TvZV4OYujvNP4J+dlK8GTjuVGI0JVikJMeyra+SzSyHn7cLjlqo2Xfvv6lJa25RrrSnAmB6xVNmYIPPkujKeeqf82O2ymgbueHwjT66zbi/daWtTFq8qZdaYdEZmJHsdjjEhwZIAY4LM3Uu3cLTl+BkD29dzMF17bXs1ew422AyBxpwESwKMCTJdrdtg6zl0b9HK3QxIiuXCidYh0JiesiTAmCDT1boNtp5D16oOHeWlzRV8dNpQ4mOiT3wHYwxgSYAxQaez9RwAPjt7ZN8HEyIeXbOHljblWmsKMOakWBJgTJDpuJ5DVmo8ibFRPLa2jIamVo+jCz5tbcrDq3Yzc9RAxmT28zocY0KKJQHGBKGFU3J4/fZ53H9RMm9/53z+/KlplOyr4ztPbLS5Azp4a+d+du0/wifsLIAxJ82SAGNCwNz8Qfzv+Xk8sa6Mf7/5vtfhBJWHVu6mf2IsF5022OtQjAk5lgQYEyJumTuW88cP4ifPbGb1ro6rdEem/fVHeXFTBVdNzSGhk34UxpjuWRJgTIiIihJ+fc1khg5I5MsPrqXyUKPXIXnu8bVlNLW22dwAxvSSJQHGhJD+ibH89dPTONTYwi0PrqO5te3EdwpTqsqiVbuZNmIAeVkpXodjTEiyJMCYEDNucCp3XX06K3cd4OfPFXsdjmdWvneAnVWHbZ0AY05BwBYQMsYEzpWTc3intIb/e30Xk4elceXkyFtcaPGqUlISYrjsjGyvQzEmZNmZAGNC1HcuGc/MkQP59mMbKN5b53U4farmSBPPbtzLwsk5JMZZh0BjesuSAGNCVGx0FH/85BRSE2L50gNrqG1o9jqkPvPEujKaWqxDoDGnypIAY0LYoJQE/vKpqZQdbODrD79DW1v4TySkqixauZtJQ/szITvV63CMCWmWBBgT4qaNGMj3L5vAspJK/lC43etwAm7t7hq2VtTbWQBj/MCSAGPCwGfOHsFVU3K4Z9lWXtlS6XU4AbVo5W6S46K5fJJ1CDTmVFkSYEwYEBF+9pHTGTc4lVsXrWP3/iNehxQQtQ3NPLOhnCsm55Acb4ObjDlVlgQYEyYS46L526emISJ88YE1Ybni4JJ3ymhsbrPFgozxE0sCjAkjw9OTuOfayZTsq+O7YbbioKry0MpSJmancvrQ/l6HY0xYsCTAmDAzN38QX5ufx+NhtuLghj21FO+tsw6BxviRJQHGhKGvzBvL/HHhteLgopW7SYyN5srJ1iHQGH+xJMCYMBQVJfzm45PJCZMVB+uPtrBkfTmXTxpCSkKs1+EYEzYsCTAmTPVPjOWvn5pGXWNzyK84uOSdco40tXKtNQUY41eWBBgTxsYPSeUXV58R8isOLl61m3GDU5gyLM3rUIwJK5YEGBPmrpycww2zRvJ/r+/iqXfKvA7npL1bVsuGPbVcO2MYIuJ1OMaEFUsCjIkA373UWXHw9sc2UrIvtFYcXLxqN/ExUXxkylCvQzEm7FgSYEwEaF9xMCUhhi/+J3RWHDzS1MKT68q59PQh9E+yDoHG+JslAcZEiFBccfCZDXupP9rCdWdah0BjAsGSAGMiiO+Kg398JfhXHFy0cjdjB/Vj+ogBXodiTFiyJMCYCPOZs0fwkSk5/Pbl4F5xsGRfHet211iHQGMCyJIAYyKMiPDzEFhxcPHKUuKio7hqqnUINCZQLAkwJgIlxkXz109NBQjKFQcbm1t5fO0eLjptMAOT47wOx5iwZUmAMRFqRHoyv7t2SlCuOPjcxr3UNbbYYkHGBJglAcZEsLnjBnHr/FweX1fGf94KnhUHF63czaiMZM4aPdDrUIwJa5YEGBPhvjovl/njBvHjpzez5n3vVxzcXnmIVbsOWodAY/qAJQHGRDjfFQdvesD7FQcXrSwlNlq4epp1CDQm0CwJMMYEzYqD7R0CL5wwmIx+8Z7EYEwksSTAGAMcv+Lgnc+VeBLD0k37OHikmWtnDvPk8Y2JNJYEGGOOaV9x8J+vv+fJioOLV5YybGAis8dk9PljGxOJLAkwxhznu5eOZ8bIAX2+4uB71Yd5c+d+rp0xnKgo6xBoTF+wJMAYc5zY6Cj+9Imp9OvjFQcXr9pNdJTwMesQaEyfsSTAGPMhg1IT+Msn+27FwaaWNh5dvYf54wYxKDUhoI9ljPlAyCcBInKRiGwRke0icrvX8RgTLqaPHMj3Lh3fJysOvrS5gv2Hm2zJYGP6WEgnASISDfwJuBiYAFwnIhO8jcqY8HH9rJEsnJwd8BUHF6/aTU5aIgW5mQF7DGPMh4V0EgDMBLar6k5VbQIWA1d6HJMxYUNEuPOqMxg3OJWvLX4nICsO7t5/hFe3VXPN9GFEW4dAY/pUqCcBOUCpz+09bpkxxk/aVxxUVb4UgBUHH169myiBa2ZYh0Bj+poE08phJ0tEPgpcpKqfc29/GjhTVW/psN8XgC8AZGVlTVu8eLHfYqivr6dfv35+O56XwqUu4VIPCK66rK9q4Z41R5mVHcPnTo876Xn9O6tLS5vyjeUNjEyN4n+nhU6HwGB6Xk5FuNQDrC7dmTt37hpVnd7Zthi/PYo3ygDfqcWGumXHUdV7gXsBpk+frnPmzPFbAEVFRfjzeF4Kl7qESz0guOoyB9ABW7nn5W1cNCOfT5898qTu31ldlm7aR+3RNXzl4inMmZDlr1ADLpiel1MRLvUAq0tvhXpzwCogV0RGiUgccC2wxOOYjAlbX52Xy7xxg/iRn1YcXLRyN1mp8czJtw6BxnghpJMAVW0BbgGWAsXAI6q6yduojAlfUVHCb6+ZTHbaqa84WFbTwPKtVXx8+jBiokP6o8iYkBXy7zxVfU5V81R1jKr+zOt4jAl3/ZNi+dunT33FwYdXOX16r5lhiwUZ45WQTwKMMX1v/JBU7rqq9ysOtrS28d/VpRTkZjJ0QFIAIjTG9IQlAcaYXlk4pfcrDi7fWsXe2kausyWDjfGUJQHGmF77ziXjmT7i5FccXLSylIx+8cwfHzojAowJR5YEGGN6LS4mij9/0llx8Es9XHFwX20jhSUVfGz6UGKtQ6AxnrJ3oDHmlLSvOLjnYAPfeOTEKw4+srqUNoVrrUOgMZ6zJMAYc8raVxx8ubiSP3Wz4mBrm/LwqlJmj01nRHpyH0ZojOmMJQHGGL9oX3HwN92sOPjqtirKahq4bqYtGWxMMLAkwBjjF+0rDuZnpXS54uDilaUMTI7jghCaItiYcGZJgDHGbxLjovnbp6d1uuJgzdE2Xi6u4KPThhIfE+1hlMaYdpYEGGP8akR6MvdcO5nNe+v47pMbaV+p9LWyFlra1DoEGhNEQn0VQWNMEJo3Lotb5+fyu2XbiALe2Lmf8ppm4qKj2LCnltGZ4bHkqzGhzs4EGGMC4tb5uYwfnMKja8sor3EWGmpqbeOOxzfy5LqTm2HQGBMYlgQYYwIiKkqo6WTyoIbmVu5eusWDiIwxHVkSYIwJmH21nS81XF7T0MeRGGM6Y0mAMSZgstMST6rcGNO3LAkwxgTMbQvySYw9fjhgYmw0ty3I9ygiY4wvGx1gjAmYhVNyALh76RbKahrISUvktgX5x8qNMd6yJMAYE1ALp+SwcEoORUVFzJkzx+twjDE+rDnAGGOMiVCWBBhjjDERypIAY4wxJkJZEmCMMcZEKEsCjDHGmAhlSYAxxhgToSwJMMYYYyKUJQHGGGNMhBJV9TqGPiUiVcD7fjxkBlDtx+N5KVzqEi71AKtLsAqXuoRLPcDq0p0RqprZ2YaISwL8TURWq+p0r+Pwh3CpS7jUA6wuwSpc6hIu9QCrS29Zc4AxxhgToSwJMMYYYyKUJQGn7l6vA/CjcKlLuNQDrC7BKlzqEi71AKtLr1ifAGOMMSZC2ZkAY4wxJkJZEtALIjJMRF4Rkc0isklEbvU6pt4SkQQRWSki6926/MjrmE6ViESLyDoRecbrWE6FiOwSkY0i8o6IrPY6nt4SkTQReVRESkSkWETO9jqm3hCRfPe5aL/UicjXvI6rt0Tkf933/LsiskhEEryOqTdE5Fa3DptC7fkQkX+KSKWIvOtTNlBEXhKRbe7fAYGMwZKA3mkBvqGqE4CzgJtFZILHMfXWUWCeqk4CJgMXichZ3oZ0ym4Fir0Owk/mqurkEB/69DvgBVUdB0wiRJ8bVd3iPheTgWnAEeAJb6PqHRHJAb4KTFfV04Bo4Fpvozp5InIa8HlgJs5r6zIRGettVCflfuCiDmW3A8tUNRdY5t4OGEsCekFV96rqWvf6IZwPtRxvo+odddS7N2PdS8h2FBGRocClwD+8jsWAiPQHCoD7AFS1SVVrPA3KP+YDO1TVnxOP9bUYIFFEYoAkoNzjeHpjPPC2qh5R1RZgOXCVxzH1mKquAA50KL4S+Jd7/V/AwkDGYEnAKRKRkcAU4G2PQ+k19/T5O0Al8JKqhmxdgHuAbwFtHsfhDwq8KCJrROQLXgfTS6OAKuD/3Caaf4hIstdB+cG1wCKvg+gtVS0DfgXsBvYCtar6ordR9cq7wLkiki4iScAlwDCPYzpVWaq6172+D8gK5INZEnAKRKQf8BjwNVWt8zqe3lLVVvcU51BgpnuKLeSIyGVApaqu8ToWPzlHVacCF+M0ORV4HVAvxABTgb+o6hTgMAE+vRloIhIHXAH81+tYesttZ74SJ0nLBpJF5FPeRnXyVLUY+AXwIvAC8A7Q6mVM/qTO8L2Anpm1JKCXRCQWJwF4UFUf9zoef3BP077Ch9uoQsVs4AoR2QUsBuaJyAPehtR77q81VLUSp+15prcR9coeYI/P2aVHcZKCUHYxsFZVK7wO5BScD7ynqlWq2gw8DszyOKZeUdX7VHWaqhYAB4GtXsd0iipEZAiA+7cykA9mSUAviIjgtHEWq+pvvI7nVIhIpoikudcTgQuAEk+D6iVVvUNVh6rqSJzTtYWqGnK/bgBEJFlEUtqvAxfinPoMKaq6DygVkXy3aD6w2cOQ/OE6QrgpwLUbOEtEktzPs/mEaIdNERnk/h2O0x/gIW8jOmVLgOvd69cDTwXywWICefAwNhv4NLDRbUsH+I6qPuddSL02BPiXiETjJIWPqGpID60LE1nAE87nMzHAQ6r6grch9dpXgAfd0+g7gc96HE+vuQnZBcAXvY7lVKjq2yLyKLAWZ7TTOkJ3xr3HRCQdaAZuDqWOpyKyCJgDZIjIHuAHwF3AIyJyI86Kt9cENAabMdAYY4yJTNYcYIwxxkQoSwKMMcaYCGVJgDHGGBOhLAkwxhhjIpQlAcYYY0yEsiTAGGOMiVCWBBgTJEREReTXPre/KSI/9NOx7xeRj/rjWCd4nI+5ywW/0sm2PBF5zl0ida2IPCIiWSIyp7fLPovI19w54/1ORKaIyH3u9R+KyDc72edXIjIvEI9vTF+wJMCY4HEUuEpEMrwOxJe7ylxP3Qh8XlXndjhGAvAszhoCue6aCH8GMk8xvK/hrIDXY+7EWD3xHeD3J9jnD4T4WggmslkSYEzwaMGZte1/O27o+EteROrdv3NEZLmIPCUiO0XkLhH5pIisFJGNIjLG5zDni8hqEdnqLrbUvoLk3SKySkQ2iMgXfY77qogsoZNpfkXkOvf474rIL9yy/wecA9wnInd3uMsngDdV9en2AlUtUtXjpkLu+IvbPf5IdxrlZ0VkvVv2cRH5Ks7iN6+0n3kQkQtF5E33TMN/3UW+EJFdIvILEVkLfExEvioim906L+6kfinAGaq6vpNtnxeR50Uk0V1KOF1EBnfcz5hQYNMGGxNc/gRsEJFfnsR9JuGsq34AZ1ref6jqTBG5FWfK3q+5+43EWYRoDM4X51jgMzjLyM4QkXjgdRFpX1J2KnCaqr7n+2Aiko2zcts0nAVbXhSRhar6Y/fU+DdVdXWHGE8DTmV1x4uAclW91I2hv6rWisjXgbmqWu2eQfkecL6qHhaRbwNfB37sHmO/ewYCESkHRqnq0fa1MzqYTidrNYjILTjTBi9U1aNu8VqcqcQfO4X6GeMJOxNgTBBxl6T+N/DVk7jbKlXd634p7cBZVhVgI84Xf7tHVLVNVbfhJAvjcBYm+oy7BsbbQDqQ6+6/smMC4JoBFLkr0LUADwKBXuZ4I3CB+2v+XFWt7WSfs4AJOInMOziLr4zw2f6wz/UNOOsZfArnDExHQ4CqDmWfwVlB8KM+CQA4q7xln0xljAkWlgQYE3zuwWlbT/Ypa8F9v4pIFBDns833C6nN53Ybx5/t67hQiAICfEVVJ7uXUarankQcPpVKdLAJ58zBiRyrpysBQFW34pyZ2Aj81G166EiAl3zqMkFVb/TZ7lufS3HOukwFVnXS76Gh/bF9tCdVQzuUJ7j7GxNyLAkwJsio6gHgEZxEoN0uPvgSvQKI7cWhPyYiUW4/gdHAFmApcJOIxMKxHvzJ3R0EWAmcJyIZbie764DlJ7jPQ8AsEbm0vUBECkTktA777cL5YkZEpgKj3OvZwBFVfQC4u30f4BCQ4l5/C5jtNnO0L8ec1zEQN4kapqqvAN8G+gP9OuxWDIztULYOZ/XAJW487fIIwWWejQFLAowJVr8GfEcJ/B3ni3c9cDa9+5W+G+cL/HngS6raCPwDp+PfWhF5F/gbJ+grpKp7cXrEvwKsB9aoardrnqtqA3AZ8BV3iOBm4Mt8+JT7Y8BAEdkE3AJsdctPB1a6p/l/APzULb8XeEFEXlHVKuAGYJGIbADexGny6CgaeEBENuJ8sf++4/KzqloC9Hc7CPqWvwZ8E3jWTYJicZKFjn0gjAkJtpSwMcZ0QkT+Fzikqv/oZp+PAFNV9ft9F5kx/mNnAowxpnN/4fj+Fp2JwTlrY0xIsjMBxhhjTISyMwHGGGNMhLIkwBhjjIlQlgQYY4wxEcqSAGOMMSZCWRJgjDHGRKj/D7vfgtODKuuVAAAAAElFTkSuQmCC\n",
       "datasetInfos": [],
       "metadata": {},
       "removedWidgets": [],
       "type": "image"
      }
     },
     "output_type": "display_data"
    }
   ],
   "source": [
    "plt.figure(figsize=(8, 5))\n",
    "plt.plot(log_df_promo[\"k\"], log_df_promo[\"log_likelihood\"], marker='o')\n",
    "plt.xlabel(\"Number of Clusters (k)\")\n",
    "plt.ylabel(\"Log Likelihood\")\n",
    "plt.title(\"Promo Response Segmentation – Log Likelihood per K\")\n",
    "plt.grid(True)\n",
    "plt.show()\n"
   ]
  },
  {
   "cell_type": "code",
   "execution_count": 0,
   "metadata": {
    "application/vnd.databricks.v1+cell": {
     "cellMetadata": {
      "byteLimit": 2048000,
      "rowLimit": 10000
     },
     "inputWidgets": {},
     "nuid": "6dd26e6e-0b43-4392-bc45-af176126fb7d",
     "showTitle": false,
     "tableResultSettingsMap": {},
     "title": ""
    }
   },
   "outputs": [
    {
     "output_type": "stream",
     "name": "stdout",
     "output_type": "stream",
     "text": [
      "+----------+-----+\n|prediction|count|\n+----------+-----+\n|         3| 1861|\n|         0|  289|\n|         1|   45|\n|         2|   21|\n+----------+-----+\n\n"
     ]
    }
   ],
   "source": [
    "best_k_promo = 4\n",
    "\n",
    "gmm_final_promo = GaussianMixture(featuresCol=\"promo_scaled\", k=best_k_promo)\n",
    "model_final_promo = gmm_final_promo.fit(df_promo)\n",
    "df_promo_clustered = model_final_promo.transform(df_promo)\n",
    "\n",
    "# Quick overview – count per cluster\n",
    "df_promo_clustered.select(\"prediction\").groupBy(\"prediction\").count().orderBy(\"count\", ascending=False).show()"
   ]
  },
  {
   "cell_type": "code",
   "execution_count": 0,
   "metadata": {
    "application/vnd.databricks.v1+cell": {
     "cellMetadata": {
      "byteLimit": 2048000,
      "rowLimit": 10000
     },
     "inputWidgets": {},
     "nuid": "4b55ef33-ef5c-4b32-9b6a-71d2aed3c0ae",
     "showTitle": false,
     "tableResultSettingsMap": {},
     "title": ""
    }
   },
   "outputs": [
    {
     "output_type": "display_data",
     "data": {
      "text/html": [
       "<style scoped>\n",
       "  .table-result-container {\n",
       "    max-height: 300px;\n",
       "    overflow: auto;\n",
       "  }\n",
       "  table, th, td {\n",
       "    border: 1px solid black;\n",
       "    border-collapse: collapse;\n",
       "  }\n",
       "  th, td {\n",
       "    padding: 5px;\n",
       "  }\n",
       "  th {\n",
       "    text-align: left;\n",
       "  }\n",
       "</style><div class='table-result-container'><table class='table-result'><thead style='background-color: white'><tr><th>AcceptedCampaigns_Total</th><th>NumDealsPurchases</th><th>Complain</th><th>Recency</th></tr></thead><tbody><tr><td>2.2</td><td>1.2</td><td>0.0</td><td>53.3</td></tr><tr><td>0.6</td><td>10.0</td><td>0.0</td><td>35.4</td></tr><tr><td>0.3</td><td>2.3</td><td>1.0</td><td>53.0</td></tr><tr><td>0.2</td><td>2.3</td><td>0.0</td><td>48.6</td></tr></tbody></table></div>"
      ]
     },
     "metadata": {
      "application/vnd.databricks.v1+output": {
       "addedWidgets": {},
       "aggData": [],
       "aggError": "",
       "aggOverflow": false,
       "aggSchema": [],
       "aggSeriesLimitReached": false,
       "aggType": "",
       "arguments": {},
       "columnCustomDisplayInfos": {},
       "data": [
        [
         "2.2",
         "1.2",
         "0.0",
         "53.3"
        ],
        [
         "0.6",
         "10.0",
         "0.0",
         "35.4"
        ],
        [
         "0.3",
         "2.3",
         "1.0",
         "53.0"
        ],
        [
         "0.2",
         "2.3",
         "0.0",
         "48.6"
        ]
       ],
       "datasetInfos": [],
       "dbfsResultPath": null,
       "isJsonSchema": true,
       "metadata": {},
       "overflow": false,
       "plotOptions": {
        "customPlotOptions": {},
        "displayType": "table",
        "pivotAggregation": null,
        "pivotColumns": null,
        "xColumns": null,
        "yColumns": null
       },
       "removedWidgets": [],
       "schema": [
        {
         "metadata": "{}",
         "name": "AcceptedCampaigns_Total",
         "type": "\"string\""
        },
        {
         "metadata": "{}",
         "name": "NumDealsPurchases",
         "type": "\"string\""
        },
        {
         "metadata": "{}",
         "name": "Complain",
         "type": "\"string\""
        },
        {
         "metadata": "{}",
         "name": "Recency",
         "type": "\"string\""
        }
       ],
       "type": "table"
      }
     },
     "output_type": "display_data"
    }
   ],
   "source": [
    "# Calcular médias por cluster\n",
    "summary_df_promo = df_promo_clustered.groupBy(\"prediction\").agg(\n",
    "    *[avg(col(f)).alias(f) for f in promo_features]\n",
    ").orderBy(\"prediction\")\n",
    "\n",
    "# Converter para Pandas e formatar\n",
    "summary_pd_promo = summary_df_promo.toPandas()\n",
    "summary_pd_promo.rename(columns={\"prediction\": \"Cluster\"}, inplace=True)\n",
    "summary_pd_promo[\"Cluster\"] = summary_pd_promo[\"Cluster\"].astype(int)\n",
    "summary_pd_promo.set_index(\"Cluster\", inplace=True)\n",
    "\n",
    "# Arredondar e manter formatação uniforme\n",
    "summary_pd_promo = summary_pd_promo.round(1)\n",
    "summary_pd_promo = summary_pd_promo.applymap(lambda x: f\"{x:.1f}\")\n",
    "\n",
    "# Mostrar no Databricks\n",
    "display(summary_pd_promo)"
   ]
  },
  {
   "cell_type": "code",
   "execution_count": 0,
   "metadata": {
    "application/vnd.databricks.v1+cell": {
     "cellMetadata": {
      "byteLimit": 2048000,
      "rowLimit": 10000
     },
     "inputWidgets": {},
     "nuid": "caa8f647-98d2-4ee6-a120-718a06946b6a",
     "showTitle": false,
     "tableResultSettingsMap": {},
     "title": ""
    }
   },
   "outputs": [
    {
     "output_type": "display_data",
     "data": {
      "text/html": [
       "<style scoped>\n",
       "  .table-result-container {\n",
       "    max-height: 300px;\n",
       "    overflow: auto;\n",
       "  }\n",
       "  table, th, td {\n",
       "    border: 1px solid black;\n",
       "    border-collapse: collapse;\n",
       "  }\n",
       "  th, td {\n",
       "    padding: 5px;\n",
       "  }\n",
       "  th {\n",
       "    text-align: left;\n",
       "  }\n",
       "</style><div class='table-result-container'><table class='table-result'><thead style='background-color: white'><tr><th>2n Cycle</th><th>Basic</th><th>Graduation</th><th>Master</th><th>PhD</th></tr></thead><tbody><tr><td>5.9%</td><td>0.7%</td><td>50.9%</td><td>15.6%</td><td>27.0%</td></tr><tr><td>4.4%</td><td></td><td>40.0%</td><td>24.4%</td><td>31.1%</td></tr><tr><td>19.0%</td><td></td><td>66.7%</td><td>9.5%</td><td>4.8%</td></tr><tr><td>9.5%</td><td>2.8%</td><td>50.3%</td><td>16.5%</td><td>20.8%</td></tr></tbody></table></div>"
      ]
     },
     "metadata": {
      "application/vnd.databricks.v1+output": {
       "addedWidgets": {},
       "aggData": [],
       "aggError": "",
       "aggOverflow": false,
       "aggSchema": [],
       "aggSeriesLimitReached": false,
       "aggType": "",
       "arguments": {},
       "columnCustomDisplayInfos": {},
       "data": [
        [
         "5.9%",
         "0.7%",
         "50.9%",
         "15.6%",
         "27.0%"
        ],
        [
         "4.4%",
         "",
         "40.0%",
         "24.4%",
         "31.1%"
        ],
        [
         "19.0%",
         "",
         "66.7%",
         "9.5%",
         "4.8%"
        ],
        [
         "9.5%",
         "2.8%",
         "50.3%",
         "16.5%",
         "20.8%"
        ]
       ],
       "datasetInfos": [],
       "dbfsResultPath": null,
       "isJsonSchema": true,
       "metadata": {},
       "overflow": false,
       "plotOptions": {
        "customPlotOptions": {},
        "displayType": "table",
        "pivotAggregation": null,
        "pivotColumns": null,
        "xColumns": null,
        "yColumns": null
       },
       "removedWidgets": [],
       "schema": [
        {
         "metadata": "{}",
         "name": "2n Cycle",
         "type": "\"string\""
        },
        {
         "metadata": "{}",
         "name": "Basic",
         "type": "\"string\""
        },
        {
         "metadata": "{}",
         "name": "Graduation",
         "type": "\"string\""
        },
        {
         "metadata": "{}",
         "name": "Master",
         "type": "\"string\""
        },
        {
         "metadata": "{}",
         "name": "PhD",
         "type": "\"string\""
        }
       ],
       "type": "table"
      }
     },
     "output_type": "display_data"
    },
    {
     "output_type": "display_data",
     "data": {
      "text/html": [
       "<style scoped>\n",
       "  .table-result-container {\n",
       "    max-height: 300px;\n",
       "    overflow: auto;\n",
       "  }\n",
       "  table, th, td {\n",
       "    border: 1px solid black;\n",
       "    border-collapse: collapse;\n",
       "  }\n",
       "  th, td {\n",
       "    padding: 5px;\n",
       "  }\n",
       "  th {\n",
       "    text-align: left;\n",
       "  }\n",
       "</style><div class='table-result-container'><table class='table-result'><thead style='background-color: white'><tr><th>Absurd</th><th>Alone</th><th>Divorced</th><th>Married</th><th>Single</th><th>Together</th><th>Widow</th><th>YOLO</th></tr></thead><tbody><tr><td>0.3%</td><td>0.3%</td><td>10.4%</td><td>39.4%</td><td>24.2%</td><td>20.8%</td><td>4.5%</td><td></td></tr><tr><td></td><td></td><td>13.3%</td><td>40.0%</td><td>17.8%</td><td>24.4%</td><td>4.4%</td><td></td></tr><tr><td></td><td></td><td>9.5%</td><td>38.1%</td><td>28.6%</td><td>23.8%</td><td></td><td></td></tr><tr><td>0.1%</td><td>0.1%</td><td>10.4%</td><td>38.5%</td><td>20.8%</td><td>26.7%</td><td>3.3%</td><td>0.1%</td></tr></tbody></table></div>"
      ]
     },
     "metadata": {
      "application/vnd.databricks.v1+output": {
       "addedWidgets": {},
       "aggData": [],
       "aggError": "",
       "aggOverflow": false,
       "aggSchema": [],
       "aggSeriesLimitReached": false,
       "aggType": "",
       "arguments": {},
       "columnCustomDisplayInfos": {},
       "data": [
        [
         "0.3%",
         "0.3%",
         "10.4%",
         "39.4%",
         "24.2%",
         "20.8%",
         "4.5%",
         ""
        ],
        [
         "",
         "",
         "13.3%",
         "40.0%",
         "17.8%",
         "24.4%",
         "4.4%",
         ""
        ],
        [
         "",
         "",
         "9.5%",
         "38.1%",
         "28.6%",
         "23.8%",
         "",
         ""
        ],
        [
         "0.1%",
         "0.1%",
         "10.4%",
         "38.5%",
         "20.8%",
         "26.7%",
         "3.3%",
         "0.1%"
        ]
       ],
       "datasetInfos": [],
       "dbfsResultPath": null,
       "isJsonSchema": true,
       "metadata": {},
       "overflow": false,
       "plotOptions": {
        "customPlotOptions": {},
        "displayType": "table",
        "pivotAggregation": null,
        "pivotColumns": null,
        "xColumns": null,
        "yColumns": null
       },
       "removedWidgets": [],
       "schema": [
        {
         "metadata": "{}",
         "name": "Absurd",
         "type": "\"string\""
        },
        {
         "metadata": "{}",
         "name": "Alone",
         "type": "\"string\""
        },
        {
         "metadata": "{}",
         "name": "Divorced",
         "type": "\"string\""
        },
        {
         "metadata": "{}",
         "name": "Married",
         "type": "\"string\""
        },
        {
         "metadata": "{}",
         "name": "Single",
         "type": "\"string\""
        },
        {
         "metadata": "{}",
         "name": "Together",
         "type": "\"string\""
        },
        {
         "metadata": "{}",
         "name": "Widow",
         "type": "\"string\""
        },
        {
         "metadata": "{}",
         "name": "YOLO",
         "type": "\"string\""
        }
       ],
       "type": "table"
      }
     },
     "output_type": "display_data"
    }
   ],
   "source": [
    "profiling_vars_promo = [\n",
    "    \"Age\", \"Income\", \"Kidhome\", \"Teenhome\", \"Children\",\n",
    "    \"Education\", \"Marital_Status\"\n",
    "]\n",
    "\n",
    "def categorical_distribution(df, cluster_col, cat_col):\n",
    "    total = df.groupBy(cluster_col).agg(count(\"*\").alias(\"total\"))\n",
    "    count_df = df.groupBy(cluster_col, cat_col).agg(count(\"*\").alias(\"count\"))\n",
    "    dist = count_df.join(total, cluster_col)\n",
    "    dist = dist.withColumn(\"percentage\", (col(\"count\") / col(\"total\")) * 100)\n",
    "    return dist.orderBy(cluster_col, \"percentage\", ascending=[True, False])\n",
    "\n",
    "# Education e Marital_Status\n",
    "education_dist_promo = categorical_distribution(df_promo_clustered, \"prediction\", \"Education\")\n",
    "marital_dist_promo = categorical_distribution(df_promo_clustered, \"prediction\", \"Marital_Status\")\n",
    "\n",
    "def pivot_categorical_distribution(dist_df, cluster_col, category_col):\n",
    "    pdf = dist_df.select(cluster_col, category_col, \"percentage\").toPandas()\n",
    "    pivot_df = pdf.pivot(index=cluster_col, columns=category_col, values=\"percentage\").fillna(0)\n",
    "    pivot_df = pivot_df.round(1).applymap(lambda x: f\"{x:.1f}%\" if x > 0 else \"\")\n",
    "    pivot_df.index.name = \"Cluster\"\n",
    "    return pivot_df\n",
    "\n",
    "education_pivot = pivot_categorical_distribution(education_dist_promo, \"prediction\", \"Education\")\n",
    "marital_pivot = pivot_categorical_distribution(marital_dist_promo, \"prediction\", \"Marital_Status\")\n",
    "\n",
    "display(education_pivot)\n",
    "display(marital_pivot)"
   ]
  },
  {
   "cell_type": "code",
   "execution_count": 0,
   "metadata": {
    "application/vnd.databricks.v1+cell": {
     "cellMetadata": {
      "byteLimit": 2048000,
      "rowLimit": 10000
     },
     "inputWidgets": {},
     "nuid": "7296a29b-6058-468b-8165-ba6f3b8919b2",
     "showTitle": false,
     "tableResultSettingsMap": {},
     "title": ""
    }
   },
   "outputs": [
    {
     "output_type": "display_data",
     "data": {
      "text/html": [
       "<style scoped>\n",
       "  .table-result-container {\n",
       "    max-height: 300px;\n",
       "    overflow: auto;\n",
       "  }\n",
       "  table, th, td {\n",
       "    border: 1px solid black;\n",
       "    border-collapse: collapse;\n",
       "  }\n",
       "  th, td {\n",
       "    padding: 5px;\n",
       "  }\n",
       "  th {\n",
       "    text-align: left;\n",
       "  }\n",
       "</style><div class='table-result-container'><table class='table-result'><thead style='background-color: white'><tr><th>avg_Age</th><th>avg_Income</th><th>avg_Kidhome</th><th>avg_Teenhome</th><th>avg_Children</th></tr></thead><tbody><tr><td>44.9</td><td>70271.3</td><td>0.2</td><td>0.2</td><td>0.4</td></tr><tr><td>49.0</td><td>55131.3</td><td>0.8</td><td>1.0</td><td>1.8</td></tr><tr><td>48.9</td><td>45242.3</td><td>0.7</td><td>0.5</td><td>1.2</td></tr><tr><td>45.1</td><td>49457.6</td><td>0.5</td><td>0.5</td><td>1.0</td></tr></tbody></table></div>"
      ]
     },
     "metadata": {
      "application/vnd.databricks.v1+output": {
       "addedWidgets": {},
       "aggData": [],
       "aggError": "",
       "aggOverflow": false,
       "aggSchema": [],
       "aggSeriesLimitReached": false,
       "aggType": "",
       "arguments": {},
       "columnCustomDisplayInfos": {},
       "data": [
        [
         44.9,
         70271.3,
         0.2,
         0.2,
         0.4
        ],
        [
         49.0,
         55131.3,
         0.8,
         1.0,
         1.8
        ],
        [
         48.9,
         45242.3,
         0.7,
         0.5,
         1.2
        ],
        [
         45.1,
         49457.6,
         0.5,
         0.5,
         1.0
        ]
       ],
       "datasetInfos": [],
       "dbfsResultPath": null,
       "isJsonSchema": true,
       "metadata": {},
       "overflow": false,
       "plotOptions": {
        "customPlotOptions": {},
        "displayType": "table",
        "pivotAggregation": null,
        "pivotColumns": null,
        "xColumns": null,
        "yColumns": null
       },
       "removedWidgets": [],
       "schema": [
        {
         "metadata": "{}",
         "name": "avg_Age",
         "type": "\"double\""
        },
        {
         "metadata": "{}",
         "name": "avg_Income",
         "type": "\"double\""
        },
        {
         "metadata": "{}",
         "name": "avg_Kidhome",
         "type": "\"double\""
        },
        {
         "metadata": "{}",
         "name": "avg_Teenhome",
         "type": "\"double\""
        },
        {
         "metadata": "{}",
         "name": "avg_Children",
         "type": "\"double\""
        }
       ],
       "type": "table"
      }
     },
     "output_type": "display_data"
    }
   ],
   "source": [
    "numeric_vars = [\"Age\", \"Income\", \"Kidhome\", \"Teenhome\", \"Children\"]\n",
    "\n",
    "profiling_numeric_promo = (\n",
    "    df_promo_clustered.groupBy(\"prediction\")\n",
    "    .agg(*[avg(col(v)).alias(f\"avg_{v}\") for v in numeric_vars])\n",
    "    .orderBy(\"prediction\")\n",
    ")\n",
    "\n",
    "profiling_numeric_promo_pd = profiling_numeric_promo.toPandas()\n",
    "profiling_numeric_promo_pd.rename(columns={\"prediction\": \"Cluster\"}, inplace=True)\n",
    "profiling_numeric_promo_pd.set_index(\"Cluster\", inplace=True)\n",
    "profiling_numeric_promo_pd = profiling_numeric_promo_pd.round(1)\n",
    "\n",
    "display(profiling_numeric_promo_pd)"
   ]
  }
 ],
 "metadata": {
  "application/vnd.databricks.v1+notebook": {
   "computePreferences": null,
   "dashboards": [],
   "environmentMetadata": {
    "base_environment": "",
    "environment_version": "1"
   },
   "inputWidgetPreferences": null,
   "language": "python",
   "notebookMetadata": {
    "pythonIndentUnit": 4
   },
   "notebookName": "GMM",
   "widgets": {}
  }
 },
 "nbformat": 4,
 "nbformat_minor": 0
}